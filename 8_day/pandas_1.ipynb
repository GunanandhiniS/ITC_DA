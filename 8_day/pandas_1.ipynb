{
 "cells": [
  {
   "cell_type": "code",
   "execution_count": 3,
   "metadata": {},
   "outputs": [
    {
     "name": "stdout",
     "output_type": "stream",
     "text": [
      "hello world\n"
     ]
    }
   ],
   "source": [
    "print(\"hello world\")"
   ]
  },
  {
   "cell_type": "markdown",
   "metadata": {},
   "source": [
    "### Series, Dataframes and Read files using pandas."
   ]
  },
  {
   "cell_type": "markdown",
   "metadata": {},
   "source": [
    "## series"
   ]
  },
  {
   "cell_type": "markdown",
   "metadata": {},
   "source": [
    "The Pandas Series can be defined as a one-dimensional array that is capable of storing various data types. \n",
    "\n",
    "We can easily convert the list, tuple, and dictionary into series using \"series' method. \n",
    "\n",
    "The row labels of series are called the index.\n",
    "\n",
    " A Series cannot contain multiple columns. It has the following parameter:\n",
    "\n",
    "data: It can be any list, dictionary, or scalar value.\n",
    "index: The value of the index should be unique and hashable. It must be of the same length as data. If we do not pass any index, default np.arrange(n) will be used.\n",
    "dtype: It refers to the data type of series.\n",
    "copy: It is used for copying the data.\n"
   ]
  },
  {
   "cell_type": "markdown",
   "metadata": {},
   "source": [
    "Creating a Series:\n",
    "\n",
    "We can create a Series in two ways:\n",
    "\n",
    "Create an empty Series\n",
    "Create a Series using inputs.\n",
    "\n",
    "Create an Empty Series:\n",
    "We can easily create an empty series in Pandas which means it will not have any value.\n",
    "\n",
    "<series object> = pandas.Series()  \n",
    "\n",
    "Example\n",
    "import pandas as pd  \n",
    "x = pd.Series()  \n",
    "print (x) \n"
   ]
  },
  {
   "cell_type": "code",
   "execution_count": 4,
   "metadata": {},
   "outputs": [
    {
     "name": "stdout",
     "output_type": "stream",
     "text": [
      "Series([], dtype: object)\n"
     ]
    }
   ],
   "source": [
    "import pandas as pd  \n",
    "x = pd.Series()  \n",
    "print (x) \n"
   ]
  },
  {
   "cell_type": "markdown",
   "metadata": {},
   "source": [
    "# Creating a Series using inputs:\n",
    "\n",
    "We can create Series by using various inputs:\n",
    "\n",
    "Array\n",
    "Dict\n",
    "Scalar value\n",
    "\n",
    "import pandas as pd  \n",
    "import numpy as np  \n",
    "info = np.array(['P','a','n','d','a','s'])  \n",
    "a = pd.Series(info)  \n",
    "print(a) \n"
   ]
  },
  {
   "cell_type": "code",
   "execution_count": 27,
   "metadata": {},
   "outputs": [
    {
     "name": "stdout",
     "output_type": "stream",
     "text": [
      "0    P\n",
      "1    a\n",
      "2    n\n",
      "3    d\n",
      "4    a\n",
      "5    s\n",
      "dtype: object <class 'pandas.core.series.Series'>\n"
     ]
    }
   ],
   "source": [
    "import pandas as pd  \n",
    "import numpy as np  \n",
    "info = np.array(['P','a','n','d','a','s'])  \n",
    "a = pd.Series(info)  \n",
    "print(a, type(a)) \n"
   ]
  },
  {
   "cell_type": "markdown",
   "metadata": {},
   "source": [
    "# Create a Series from dict\n",
    "\n",
    "#import the pandas library   \n",
    "import pandas as pd  \n",
    "import numpy as np  \n",
    "info = {'x' : 0., 'y' : 1., 'z' : 2.}  \n",
    "a = pd.Series(info)  \n",
    "print (a) \n",
    "\n",
    "# Create a Series using Scalar:\n",
    "\n",
    "#import pandas library   \n",
    "import pandas as pd  \n",
    "import numpy as np  \n",
    "x = pd.Series(4, index=[0, 1, 2, 3])  \n",
    "print (x) \n",
    "\n",
    "\n"
   ]
  },
  {
   "cell_type": "markdown",
   "metadata": {},
   "source": [
    "# Create a Series from dict\n"
   ]
  },
  {
   "cell_type": "code",
   "execution_count": 6,
   "metadata": {},
   "outputs": [
    {
     "name": "stdout",
     "output_type": "stream",
     "text": [
      "x    0.0\n",
      "y    1.0\n",
      "z    2.0\n",
      "dtype: float64\n",
      "<class 'pandas.core.series.Series'>\n"
     ]
    }
   ],
   "source": [
    "\n",
    "#import the pandas library   \n",
    "import pandas as pd  \n",
    "import numpy as np  \n",
    "info = {'x' : 0., 'y' : 1., 'z' : 2.}  \n",
    "a = pd.Series(info)  \n",
    "print (a) \n",
    "print(type(a))\n"
   ]
  },
  {
   "cell_type": "markdown",
   "metadata": {},
   "source": [
    "# Create a Series using Scalar:\n"
   ]
  },
  {
   "cell_type": "code",
   "execution_count": 7,
   "metadata": {},
   "outputs": [
    {
     "name": "stdout",
     "output_type": "stream",
     "text": [
      "0    4\n",
      "1    4\n",
      "2    4\n",
      "3    4\n",
      "dtype: int64\n"
     ]
    }
   ],
   "source": [
    "#import pandas library   \n",
    "import pandas as pd  \n",
    "import numpy as np  \n",
    "x = pd.Series(4, index=[0, 1, 2, 3])  \n",
    "print (x) \n"
   ]
  },
  {
   "cell_type": "markdown",
   "metadata": {},
   "source": [
    "# Accessing data from series with Position:\n",
    "\n",
    "Once you create the Series type object, you can access its indexes, data, and even individual elements.\n",
    "\n",
    "The data in the Series can be accessed similar to that in the ndarray.\n",
    "\n",
    "import pandas as pd  \n",
    "x = pd.Series([1,2,3],index = ['a','b','c'])  \n",
    "#retrieve the first element  \n",
    "print (x[0]) \n"
   ]
  },
  {
   "cell_type": "code",
   "execution_count": 8,
   "metadata": {},
   "outputs": [
    {
     "name": "stdout",
     "output_type": "stream",
     "text": [
      "1\n"
     ]
    },
    {
     "name": "stderr",
     "output_type": "stream",
     "text": [
      "C:\\Users\\VIJAY\\AppData\\Local\\Temp\\ipykernel_16928\\3806813334.py:4: FutureWarning: Series.__getitem__ treating keys as positions is deprecated. In a future version, integer keys will always be treated as labels (consistent with DataFrame behavior). To access a value by position, use `ser.iloc[pos]`\n",
      "  print (x[0])\n"
     ]
    }
   ],
   "source": [
    "import pandas as pd  \n",
    "x = pd.Series([1,2,3],index = ['a','b','c'])  \n",
    "#retrieve the first element  \n",
    "print (x[0]) \n"
   ]
  },
  {
   "cell_type": "code",
   "execution_count": 28,
   "metadata": {},
   "outputs": [
    {
     "name": "stdout",
     "output_type": "stream",
     "text": [
      "1\n",
      "1\n"
     ]
    },
    {
     "name": "stderr",
     "output_type": "stream",
     "text": [
      "C:\\Users\\VIJAY\\AppData\\Local\\Temp\\ipykernel_16928\\3927480386.py:9: FutureWarning: Series.__getitem__ treating keys as positions is deprecated. In a future version, integer keys will always be treated as labels (consistent with DataFrame behavior). To access a value by position, use `ser.iloc[pos]`\n",
      "  print(x[0])\n"
     ]
    },
    {
     "data": {
      "text/plain": [
       "1"
      ]
     },
     "execution_count": 28,
     "metadata": {},
     "output_type": "execute_result"
    }
   ],
   "source": [
    "import pandas as pd\n",
    "\n",
    "x = pd.Series([1, 2, 3], index=['a', 'b', 'c'])\n",
    "\n",
    "# Retrieve the first element using label-based indexing\n",
    "print(x['a'])\n",
    "\n",
    "# Alternatively, retrieve the first element using position-based indexing\n",
    "print(x[0])\n",
    "\n",
    "#ser.iloc[pos]`\n",
    "x.iloc[0]\n"
   ]
  },
  {
   "cell_type": "markdown",
   "metadata": {},
   "source": [
    "# Retrieving Index array and data array of a series object\n",
    "\n",
    "We can retrieve the index array and data array of an existing Series object by using the attributes index and values.\n",
    "\n",
    "import numpy as np   \n",
    "import pandas as pd   \n",
    "x=pd.Series(data=[2,4,6,8])   \n",
    "y=pd.Series(data=[11.2,18.6,22.5], index=['a','b','c'])   \n",
    "print(x.index)   \n",
    "print(x.values)   \n",
    "print(y.index)   \n",
    "print(y.values) \n"
   ]
  },
  {
   "cell_type": "code",
   "execution_count": 29,
   "metadata": {},
   "outputs": [
    {
     "name": "stdout",
     "output_type": "stream",
     "text": [
      "RangeIndex(start=0, stop=4, step=1)\n",
      "[2 4 6 8]\n",
      "Index(['a', 'b', 'c'], dtype='object')\n",
      "[11.2 18.6 22.5]\n"
     ]
    }
   ],
   "source": [
    "\n",
    "import numpy as np   \n",
    "import pandas as pd   \n",
    "x=pd.Series(data=[2,4,6,8])   \n",
    "y=pd.Series(data=[11.2,18.6,22.5], index=['a','b','c'])   \n",
    "print(x.index)   \n",
    "print(x.values)   \n",
    "print(y.index)   \n",
    "print(y.values) \n"
   ]
  },
  {
   "cell_type": "markdown",
   "metadata": {},
   "source": [
    "# Retrieving Types (dtype) and Size of Type (itemsize)\n",
    "\n",
    "You can use attribute dtype with Series object as <objectname> dtype for retrieving the data type of an individual element of a series object, you can use the itemsize attribute to show the number of bytes allocated to each data item.\n",
    "\n",
    "import numpy as np   \n",
    "import pandas as pd   \n",
    "a=pd.Series(data=[1,2,3,4])   \n",
    "b=pd.Series(data=[4.9,8.2,5.6],   \n",
    "index=['x','y','z'])   \n",
    "print(a.dtype)   \n",
    "print(a.itemsize)    \n",
    "print(b.dtype)   \n",
    "print(b.itemsize) \n"
   ]
  },
  {
   "cell_type": "code",
   "execution_count": 11,
   "metadata": {},
   "outputs": [
    {
     "name": "stdout",
     "output_type": "stream",
     "text": [
      "int64\n",
      "<bound method Series.items of 0    1\n",
      "1    2\n",
      "2    3\n",
      "3    4\n",
      "dtype: int64>\n",
      "float64\n",
      "(3,) 3 <bound method Series.items of x    4.9\n",
      "y    8.2\n",
      "z    5.6\n",
      "dtype: float64> [4.9 8.2 5.6]\n"
     ]
    }
   ],
   "source": [
    "\n",
    "import numpy as np   \n",
    "import pandas as pd   \n",
    "a=pd.Series(data=[1,2,3,4])   \n",
    "b=pd.Series(data=[4.9,8.2,5.6],   \n",
    "index=['x','y','z'])   \n",
    "print(a.dtype)   \n",
    "print(a.items)\n",
    "# print(a.itemsize)    \n",
    "print(b.dtype)   \n",
    "print(b.shape, b.size, b.items, b.values)\n",
    "# print(b.itemsize) \n"
   ]
  },
  {
   "cell_type": "markdown",
   "metadata": {},
   "source": [
    "# Retrieving Shape\n",
    "\n",
    "The shape of the Series object defines total number of elements including missing or empty values(NaN).\n",
    "\n",
    "import numpy as np   \n",
    "import pandas as pd   \n",
    "a=pd.Series(data=[1,2,3,4])   \n",
    "b=pd.Series(data=[4.9,8.2,5.6],index=['x','y','z'])   \n",
    "print(a.shape)   \n",
    "print(b.shape) \n"
   ]
  },
  {
   "cell_type": "code",
   "execution_count": 12,
   "metadata": {},
   "outputs": [
    {
     "name": "stdout",
     "output_type": "stream",
     "text": [
      "(4,)\n",
      "(3,)\n"
     ]
    }
   ],
   "source": [
    "\n",
    "import numpy as np   \n",
    "import pandas as pd   \n",
    "a=pd.Series(data=[1,2,3,4])   \n",
    "b=pd.Series(data=[4.9,8.2,5.6],index=['x','y','z'])   \n",
    "print(a.shape)   \n",
    "print(b.shape) \n"
   ]
  },
  {
   "cell_type": "markdown",
   "metadata": {},
   "source": [
    "# Retrieving Dimension, Size and Number of bytes:\n",
    "\n",
    "import numpy as np   \n",
    "import pandas as pd   \n",
    "a=pd.Series(data=[1,2,3,4])   \n",
    "b=pd.Series(data=[4.9,8.2,5.6],  \n",
    "index=['x','y','z'])   \n",
    "print(a.ndim, b.ndim)   \n",
    "print(a.size, b.size)   \n",
    "print(a.nbytes, b.nbytes) \n"
   ]
  },
  {
   "cell_type": "code",
   "execution_count": 13,
   "metadata": {},
   "outputs": [
    {
     "name": "stdout",
     "output_type": "stream",
     "text": [
      "1 1\n",
      "4 3\n",
      "32 24\n"
     ]
    }
   ],
   "source": [
    "\n",
    "import numpy as np   \n",
    "import pandas as pd   \n",
    "a=pd.Series(data=[1,2,3,4])   \n",
    "b=pd.Series(data=[4.9,8.2,5.6],  \n",
    "index=['x','y','z'])   \n",
    "print(a.ndim, b.ndim)   \n",
    "print(a.size, b.size)   \n",
    "print(a.nbytes, b.nbytes) \n"
   ]
  },
  {
   "cell_type": "markdown",
   "metadata": {},
   "source": [
    "# Checking Emptiness and Presence of NaNs\n",
    "\n",
    "To check the Series object is empty, you can use the empty attribute. Similarly, to check if a series object contains some NaN values or not, you can use the hasans attribute.\n",
    "\n",
    "# Example\n",
    "\n",
    "import numpy as np   \n",
    "import pandas as pd   \n",
    "a=pd.Series(data=[1,2,3,np.NaN])   \n",
    "b=pd.Series(data=[4.9,8.2,5.6],index=['x','y','z'])   \n",
    "c=pd.Series()   \n",
    "print(a.empty,b.empty,c.empty)   \n",
    "print(a.hasnans,b.hasnans,c.hasnans)   \n",
    "print(len(a),len(b))   \n",
    "print(a.count( ),b.count( )) \n"
   ]
  },
  {
   "cell_type": "code",
   "execution_count": 34,
   "metadata": {},
   "outputs": [
    {
     "name": "stdout",
     "output_type": "stream",
     "text": [
      "False False True\n",
      "True False False\n",
      "4 3\n",
      "3 3\n"
     ]
    }
   ],
   "source": [
    "import numpy as np   \n",
    "import pandas as pd   \n",
    "\n",
    "a=pd.Series(data=[1,2,3,np.NaN])   \n",
    "# a=pd.Series(data=[1,2,3,4,5])   \n",
    "\n",
    "b=pd.Series(data=[4.9,8.2,5.6],index=['x','y','z'])   \n",
    "c=pd.Series()   \n",
    "\n",
    "print(a.empty,b.empty,c.empty)   \n",
    "print(a.hasnans,b.hasnans,c.hasnans)   \n",
    "print(len(a),len(b))   \n",
    "print(a.count(),b.count()) \n"
   ]
  },
  {
   "cell_type": "markdown",
   "metadata": {},
   "source": [
    "# Pandas Dataframe."
   ]
  },
  {
   "cell_type": "markdown",
   "metadata": {},
   "source": [
    "Pandas DataFrame is two-dimensional size-mutable, potentially heterogeneous tabular data structure with labeled axes (rows and columns). \n",
    "\n",
    "A Data frame is a two-dimensional data structure, i.e., data is aligned in a tabular fashion in rows and columns. \n",
    "\n",
    "Pandas DataFrame consists of three principal components, the data, rows, and columns\n",
    "\n",
    "We will get a brief insight on all these basic operation which can be performed on Pandas DataFrame :\n",
    "\n",
    "        Creating a DataFrame\n",
    "        Dealing with Rows and Columns\n",
    "        Indexing and Selecting Data\n",
    "        Working with Missing Data\n",
    "        Iterating over rows and columns\n"
   ]
  },
  {
   "cell_type": "markdown",
   "metadata": {},
   "source": [
    "# Creating a Pandas DataFrame:\n",
    "\n",
    "In the real world, a Pandas DataFrame will be created by loading the datasets from existing storage, storage can be SQL Database, CSV file, and Excel file.\n",
    "Pandas DataFrame can be created from the lists, dictionary, and from a list of dictionary etc. \n",
    "Dataframe can be created in different ways here are some ways by which we create a dataframe:\n",
    "\n",
    "### Creating a dataframe using List: \n",
    "DataFrame can be created using a single list or a list of lists.\n",
    "\n",
    "Example:\n",
    "\n",
    "import pandas as pd\n",
    "\n",
    "lst = [‘FRIEND’,’IN’,’NEED’,’IS’,’A’,’FRIEND’,’IN’,’DEED’]\n",
    "\n",
    "df = pd.DataFrame(lst)\n",
    "\n",
    "print(df)\n"
   ]
  },
  {
   "cell_type": "code",
   "execution_count": 36,
   "metadata": {},
   "outputs": [
    {
     "name": "stdout",
     "output_type": "stream",
     "text": [
      "['FRIEND', 'IN', 'NEED', 'IS', 'A', 'FRIEND', 'IN', 'DEED'] <class 'list'> 8\n",
      "        0\n",
      "0  FRIEND\n",
      "1      IN\n",
      "2    NEED\n",
      "3      IS\n",
      "4       A\n",
      "5  FRIEND\n",
      "6      IN\n",
      "7    DEED\n"
     ]
    }
   ],
   "source": [
    "import pandas as pd\n",
    "lst = ['FRIEND','IN','NEED','IS','A','FRIEND','IN','DEED']\n",
    "print(lst, type(lst), len(lst))\n",
    "df = pd.DataFrame(lst)\n",
    "print(df)\n"
   ]
  },
  {
   "cell_type": "markdown",
   "metadata": {},
   "source": [
    "# Head()\n",
    "\n",
    "import pandas as pd\n",
    "data = pd.read_csv(“word-prevalence.csv\")\n",
    "data_top = data.head()\n",
    "data_top\n",
    "\n",
    "Calling on series with n parameter \n",
    "import pandas as pd\n",
    " data = pd.read_csv(“word-prevalence.csv\")\n",
    "n = 9\n",
    "series = data[“Word\"]\n",
    "top = series.head(n = n)\n",
    "top\n"
   ]
  },
  {
   "cell_type": "markdown",
   "metadata": {},
   "source": [
    "### Head()"
   ]
  },
  {
   "cell_type": "code",
   "execution_count": 16,
   "metadata": {},
   "outputs": [
    {
     "data": {
      "text/html": [
       "<div>\n",
       "<style scoped>\n",
       "    .dataframe tbody tr th:only-of-type {\n",
       "        vertical-align: middle;\n",
       "    }\n",
       "\n",
       "    .dataframe tbody tr th {\n",
       "        vertical-align: top;\n",
       "    }\n",
       "\n",
       "    .dataframe thead th {\n",
       "        text-align: right;\n",
       "    }\n",
       "</style>\n",
       "<table border=\"1\" class=\"dataframe\">\n",
       "  <thead>\n",
       "    <tr style=\"text-align: right;\">\n",
       "      <th></th>\n",
       "      <th>word</th>\n",
       "      <th>count</th>\n",
       "    </tr>\n",
       "  </thead>\n",
       "  <tbody>\n",
       "    <tr>\n",
       "      <th>0</th>\n",
       "      <td>the</td>\n",
       "      <td>23135851162</td>\n",
       "    </tr>\n",
       "    <tr>\n",
       "      <th>1</th>\n",
       "      <td>of</td>\n",
       "      <td>13151942776</td>\n",
       "    </tr>\n",
       "    <tr>\n",
       "      <th>2</th>\n",
       "      <td>and</td>\n",
       "      <td>8</td>\n",
       "    </tr>\n",
       "    <tr>\n",
       "      <th>3</th>\n",
       "      <td>to</td>\n",
       "      <td>12136980858</td>\n",
       "    </tr>\n",
       "    <tr>\n",
       "      <th>4</th>\n",
       "      <td>a</td>\n",
       "      <td>9081174698</td>\n",
       "    </tr>\n",
       "    <tr>\n",
       "      <th>5</th>\n",
       "      <td>in</td>\n",
       "      <td>8469404971</td>\n",
       "    </tr>\n",
       "    <tr>\n",
       "      <th>6</th>\n",
       "      <td>for</td>\n",
       "      <td>5933321709</td>\n",
       "    </tr>\n",
       "    <tr>\n",
       "      <th>7</th>\n",
       "      <td>is</td>\n",
       "      <td>4705743816</td>\n",
       "    </tr>\n",
       "    <tr>\n",
       "      <th>8</th>\n",
       "      <td>on</td>\n",
       "      <td>3750423199</td>\n",
       "    </tr>\n",
       "    <tr>\n",
       "      <th>9</th>\n",
       "      <td>that</td>\n",
       "      <td>3400031103</td>\n",
       "    </tr>\n",
       "    <tr>\n",
       "      <th>10</th>\n",
       "      <td>by</td>\n",
       "      <td>3350048871</td>\n",
       "    </tr>\n",
       "    <tr>\n",
       "      <th>11</th>\n",
       "      <td>this</td>\n",
       "      <td>3228469771</td>\n",
       "    </tr>\n",
       "    <tr>\n",
       "      <th>12</th>\n",
       "      <td>with</td>\n",
       "      <td>3183110675</td>\n",
       "    </tr>\n",
       "    <tr>\n",
       "      <th>13</th>\n",
       "      <td>i</td>\n",
       "      <td>3086225277</td>\n",
       "    </tr>\n",
       "    <tr>\n",
       "      <th>14</th>\n",
       "      <td>you</td>\n",
       "      <td>2996181025</td>\n",
       "    </tr>\n",
       "    <tr>\n",
       "      <th>15</th>\n",
       "      <td>it</td>\n",
       "      <td>2813163874</td>\n",
       "    </tr>\n",
       "    <tr>\n",
       "      <th>16</th>\n",
       "      <td>not</td>\n",
       "      <td>2633487141</td>\n",
       "    </tr>\n",
       "    <tr>\n",
       "      <th>17</th>\n",
       "      <td>or</td>\n",
       "      <td>2590739907</td>\n",
       "    </tr>\n",
       "    <tr>\n",
       "      <th>18</th>\n",
       "      <td>be</td>\n",
       "      <td>2398724162</td>\n",
       "    </tr>\n",
       "    <tr>\n",
       "      <th>19</th>\n",
       "      <td>are</td>\n",
       "      <td>2393614870</td>\n",
       "    </tr>\n",
       "  </tbody>\n",
       "</table>\n",
       "</div>"
      ],
      "text/plain": [
       "    word        count\n",
       "0    the  23135851162\n",
       "1     of  13151942776\n",
       "2    and            8\n",
       "3     to  12136980858\n",
       "4      a   9081174698\n",
       "5     in   8469404971\n",
       "6    for   5933321709\n",
       "7     is   4705743816\n",
       "8     on   3750423199\n",
       "9   that   3400031103\n",
       "10    by   3350048871\n",
       "11  this   3228469771\n",
       "12  with   3183110675\n",
       "13     i   3086225277\n",
       "14   you   2996181025\n",
       "15    it   2813163874\n",
       "16   not   2633487141\n",
       "17    or   2590739907\n",
       "18    be   2398724162\n",
       "19   are   2393614870"
      ]
     },
     "execution_count": 16,
     "metadata": {},
     "output_type": "execute_result"
    }
   ],
   "source": [
    "import pandas as pd\n",
    "data = pd.read_csv(\"unigram_freq.csv\" )\n",
    "data_top = data.head(20)\n",
    "data_top\n"
   ]
  },
  {
   "cell_type": "markdown",
   "metadata": {},
   "source": [
    "# Calling on series with n parameter \n"
   ]
  },
  {
   "cell_type": "code",
   "execution_count": 17,
   "metadata": {},
   "outputs": [
    {
     "name": "stdout",
     "output_type": "stream",
     "text": [
      "Index(['word', 'count'], dtype='object')\n",
      "  word        count\n",
      "0  the  23135851162\n"
     ]
    }
   ],
   "source": [
    "import pandas as pd\n",
    "\n",
    "# Assuming 'unigram_freq.csv' file is in the same directory as your script\n",
    "data = pd.read_csv('unigram_freq.csv')\n",
    "\n",
    "# Check the column names\n",
    "print(data.columns)\n",
    "\n",
    "# Assuming the actual column name is 'count', not 'the'\n",
    "n = 9\n",
    "word_to_extract = 'the'\n",
    "column_name = ['word', 'count']\n",
    "series = data[column_name]\n",
    "\n",
    "# Filter rows where the 'word' column is 'the' and use the head method to get the top N elements\n",
    "top_the = data[data['word'] == word_to_extract][column_name].head(n)\n",
    "\n",
    "# Display the result\n",
    "print(top_the)\n"
   ]
  },
  {
   "cell_type": "markdown",
   "metadata": {},
   "source": [
    "# Creating DataFrame from dict of ndarray/lists: \n",
    "\n",
    "To create DataFrame from dict of narray/list, all the narray must be of same length. \n",
    "\n",
    "If index is passed then the length index should be equal to the length of arrays. \n",
    "\n",
    "If no index is passed, then by default, index will be range(n) where n is the array length.\n",
    "\n",
    "Example: \n",
    "import pandas as pd\n",
    "data = {'Name':['Tom', 'nick', 'krish', 'jack'],\n",
    "        'Age':[20, 21, 19, 18]}\n",
    "df = pd.DataFrame(data)\n",
    "print(df)\n"
   ]
  },
  {
   "cell_type": "code",
   "execution_count": 42,
   "metadata": {},
   "outputs": [
    {
     "name": "stdout",
     "output_type": "stream",
     "text": [
      "{'Name': ['Tom', 'nick', 'krish', 'jack'], 'Age': [20, 21, 19, 18]} <class 'dict'> \n",
      "\n",
      "    Name  Age\n",
      "0    Tom   20\n",
      "1   nick   21\n",
      "2  krish   19\n",
      "3   jack   18\n"
     ]
    }
   ],
   "source": [
    "import pandas as pd\n",
    "data = {'Name':['Tom', 'nick', 'krish', 'jack'],\n",
    "        'Age':[20, 21, 19, 18]}\n",
    "\n",
    "print(data, type(data), '\\n')\n",
    "df = pd.DataFrame(data)\n",
    "print(df)\n"
   ]
  },
  {
   "cell_type": "markdown",
   "metadata": {},
   "source": [
    "# Dealing with Rows and Columns\n",
    "\n",
    "A Data frame is a two-dimensional data structure, i.e., data is aligned in a tabular fashion in rows and columns. \n",
    "We can perform basic operations on rows/columns like selecting, deleting, adding, and renaming.\n",
    "Column Selection: \n",
    "\n",
    "In Order to select a column in Pandas DataFrame, we can either access the columns by calling them by their columns name.\n",
    "\n",
    "Example:\n",
    "\n",
    "import pandas as pd\n",
    "data = {'Name':['Jai', 'Princi', 'Gaurav', 'Anuj'],\n",
    "\n",
    "        'Age':[27, 24, 22, 32],\n",
    "\n",
    "        'Address':['Delhi', 'Kanpur', 'Allahabad', 'Kannauj'],\n",
    "\n",
    "        'Qualification':['Msc', 'MA', 'MCA', 'Phd']}\n",
    "\n",
    "df = pd.DataFrame(data)\n",
    "\n",
    "print(df[['Name', 'Qualification']])\n"
   ]
  },
  {
   "cell_type": "code",
   "execution_count": 40,
   "metadata": {},
   "outputs": [
    {
     "name": "stdout",
     "output_type": "stream",
     "text": [
      "{'Name': ['Jai', 'Princi', 'Gaurav', 'Anuj'], 'Age': [27, 24, 22, 32], 'Address': ['Delhi', 'Kanpur', 'Allahabad', 'Kannauj'], 'Qualification': ['Msc', 'MA', 'MCA', 'Phd']} <class 'dict'> \n",
      "\n",
      "\n",
      "     Name Qualification\n",
      "0     Jai           Msc\n",
      "1  Princi            MA\n",
      "2  Gaurav           MCA\n",
      "3    Anuj           Phd\n"
     ]
    }
   ],
   "source": [
    "import pandas as pd\n",
    "data = {'Name':['Jai', 'Princi', 'Gaurav', 'Anuj'],\n",
    "        'Age':[27, 24, 22, 32],\n",
    "        'Address':['Delhi', 'Kanpur', 'Allahabad', 'Kannauj'],\n",
    "        'Qualification':['Msc', 'MA', 'MCA', 'Phd']}\n",
    "print(data, type(data), '\\n\\n')\n",
    "df = pd.DataFrame(data)\n",
    "print(df[['Name', 'Qualification']])\n"
   ]
  },
  {
   "cell_type": "markdown",
   "metadata": {},
   "source": [
    "# Row Selection: \n",
    "\n",
    "Pandas provide a unique method to retrieve rows from a Data frame.\n",
    "\n",
    "DataFrame.loc[] method is used to retrieve rows from Pandas DataFrame. \n",
    "\n",
    "Rows can also be selected by passing integer location to an iloc[] function.\n",
    "\n",
    "Example:\n",
    "import pandas as pd\n",
    "import pandas as pd\n",
    "dataset=pd.read_excel('Athletes.xlsx',  index_col ='Name')\n",
    "first = dataset.loc[\"AALERUD Katrine\"]\n",
    "second=dataset.loc[\"ABASS Abobakr\"]\n",
    "print(first, \"\\n\\n\\n\", second)\n"
   ]
  },
  {
   "cell_type": "code",
   "execution_count": 20,
   "metadata": {},
   "outputs": [
    {
     "name": "stdout",
     "output_type": "stream",
     "text": [
      "                Age Country  Year Closing Ceremony Date     Sport  \\\n",
      "Athlete                                                             \n",
      "Alain Bernard  25.0  France  2008            2008-08-24  Swimming   \n",
      "Alain Bernard  29.0  France  2012            2012-08-12  Swimming   \n",
      "\n",
      "               Gold Medals  Silver Medals  Bronze Medals  Total Medals  \n",
      "Athlete                                                                 \n",
      "Alain Bernard            1              1              1           NaN  \n",
      "Alain Bernard            1              0              0           NaN   \n",
      "\n",
      "\n",
      " Age                                     19.0\n",
      "Country                        United States\n",
      "Year                                    2008\n",
      "Closing Ceremony Date    2008-08-24 00:00:00\n",
      "Sport                               Swimming\n",
      "Gold Medals                                0\n",
      "Silver Medals                              1\n",
      "Bronze Medals                              2\n",
      "Total Medals                             NaN\n",
      "Name: Katie Hoff, dtype: object\n"
     ]
    }
   ],
   "source": [
    "import pandas as pd\n",
    "import pandas as pd\n",
    "dataset=pd.read_excel('Athletes.xlsx',  index_col ='Athlete')\n",
    "first = dataset.loc[\"Alain Bernard\"]\n",
    "second=dataset.loc[\"Katie Hoff\"]\n",
    "print(first, \"\\n\\n\\n\", second)\n"
   ]
  },
  {
   "cell_type": "markdown",
   "metadata": {},
   "source": [
    "# Indexing and Selecting Data\n",
    "\n",
    "Indexing in pandas means simply selecting particular rows and columns of data from a DataFrame.\n",
    "\n",
    "Indexing could mean selecting all the rows and some of the columns, some of the rows and all of the columns, or some of each of the rows and columns.\n",
    "\n",
    "Indexing can also be known as Subset Selection.\n",
    "\n",
    "# Indexing a Dataframe using indexing operator [] :\n",
    "\n",
    "Indexing operator is used to refer to the square brackets following an object. \n",
    "\n",
    "The .loc and .iloc indexers also use the indexing operator to make selections. \n"
   ]
  },
  {
   "cell_type": "markdown",
   "metadata": {},
   "source": [
    "# Selecting a single Column\n",
    "\n",
    "Example:\n",
    "\n",
    "import pandas as pd\n",
    "dataset = pd.read_excel(“Athletes.xlsx\", index_col =\"Name\")\n",
    "first = dataset[“NOC\"]\n",
    "print(first)\n",
    "\n",
    "Indexing a DataFrame using .iloc[ ] :\n",
    "This function allows us to retrieve rows and columns by position. \n",
    "\n",
    "In order to do that, we’ll need to specify the positions of the rows that we want, and the positions of the columns that we want as well. \n",
    "\n",
    "The df.iloc indexer is very similar to df.loc but only uses integer locations to make its selections.\n",
    "\n"
   ]
  },
  {
   "cell_type": "code",
   "execution_count": 21,
   "metadata": {},
   "outputs": [
    {
     "name": "stdout",
     "output_type": "stream",
     "text": [
      "Athlete\n",
      "Michael Phelps            Swimming\n",
      "Michael Phelps            Swimming\n",
      "Michael Phelps            Swimming\n",
      "Natalie Coughlin          Swimming\n",
      "Aleksey Nemov           Gymnastics\n",
      "                           ...    \n",
      "Olena Sadovnycha           Archery\n",
      "Kateryna Serdiuk           Archery\n",
      "Wietse van Alten           Archery\n",
      "Sandra Wagner-Sachse       Archery\n",
      "Rod White                  Archery\n",
      "Name: Sport, Length: 8618, dtype: object\n"
     ]
    }
   ],
   "source": [
    "import pandas as pd\n",
    "dataset = pd.read_excel(\"Athletes.xlsx\", index_col =\"Athlete\")\n",
    "# dataset\n",
    "first = dataset[\"Sport\"]\n",
    "print(first)\n"
   ]
  },
  {
   "cell_type": "markdown",
   "metadata": {},
   "source": [
    "# Example:\n",
    "\n",
    "import pandas as pd\n",
    "data = pd.read_excel(“Athletes.xlsx\", index_col =\"Name\")\n",
    "row = dataset.iloc[3] \n",
    "print(row)\n",
    "\n",
    "Selecting multiple columns\n",
    "In order to select multiple columns, we have to pass a list of columns in an indexing operator.\n",
    "\n",
    "# Example:\n",
    "import pandas as pd\n",
    "dataset = pd.read_excel(“Athletes.xlsx\", index_col =\"Name\")\n",
    "first = dataset[[“NOC\", “Discipline\"]]\n",
    "Print(first)\n"
   ]
  },
  {
   "cell_type": "code",
   "execution_count": 1,
   "metadata": {},
   "outputs": [],
   "source": [
    "import pandas \n",
    "# dir(pandas)"
   ]
  },
  {
   "cell_type": "code",
   "execution_count": 7,
   "metadata": {},
   "outputs": [
    {
     "data": {
      "text/html": [
       "<div>\n",
       "<style scoped>\n",
       "    .dataframe tbody tr th:only-of-type {\n",
       "        vertical-align: middle;\n",
       "    }\n",
       "\n",
       "    .dataframe tbody tr th {\n",
       "        vertical-align: top;\n",
       "    }\n",
       "\n",
       "    .dataframe thead th {\n",
       "        text-align: right;\n",
       "    }\n",
       "</style>\n",
       "<table border=\"1\" class=\"dataframe\">\n",
       "  <thead>\n",
       "    <tr style=\"text-align: right;\">\n",
       "      <th></th>\n",
       "      <th>Age</th>\n",
       "      <th>Country</th>\n",
       "      <th>Year</th>\n",
       "      <th>Closing Ceremony Date</th>\n",
       "      <th>Sport</th>\n",
       "      <th>Gold Medals</th>\n",
       "      <th>Silver Medals</th>\n",
       "      <th>Bronze Medals</th>\n",
       "      <th>Total Medals</th>\n",
       "    </tr>\n",
       "    <tr>\n",
       "      <th>Athlete</th>\n",
       "      <th></th>\n",
       "      <th></th>\n",
       "      <th></th>\n",
       "      <th></th>\n",
       "      <th></th>\n",
       "      <th></th>\n",
       "      <th></th>\n",
       "      <th></th>\n",
       "      <th></th>\n",
       "    </tr>\n",
       "  </thead>\n",
       "  <tbody>\n",
       "    <tr>\n",
       "      <th>Michael Phelps</th>\n",
       "      <td>23.0</td>\n",
       "      <td>United States</td>\n",
       "      <td>2008</td>\n",
       "      <td>2008-08-24</td>\n",
       "      <td>Swimming</td>\n",
       "      <td>8</td>\n",
       "      <td>0</td>\n",
       "      <td>0</td>\n",
       "      <td>NaN</td>\n",
       "    </tr>\n",
       "  </tbody>\n",
       "</table>\n",
       "</div>"
      ],
      "text/plain": [
       "                 Age        Country  Year Closing Ceremony Date     Sport  \\\n",
       "Athlete                                                                     \n",
       "Michael Phelps  23.0  United States  2008            2008-08-24  Swimming   \n",
       "\n",
       "                Gold Medals  Silver Medals  Bronze Medals  Total Medals  \n",
       "Athlete                                                                  \n",
       "Michael Phelps            8              0              0           NaN  "
      ]
     },
     "execution_count": 7,
     "metadata": {},
     "output_type": "execute_result"
    }
   ],
   "source": [
    "data.head(1)"
   ]
  },
  {
   "cell_type": "code",
   "execution_count": 5,
   "metadata": {},
   "outputs": [
    {
     "name": "stdout",
     "output_type": "stream",
     "text": [
      "Age                                     25.0\n",
      "Country                        United States\n",
      "Year                                    2008\n",
      "Closing Ceremony Date    2008-08-24 00:00:00\n",
      "Sport                               Swimming\n",
      "Gold Medals                                1\n",
      "Silver Medals                              2\n",
      "Bronze Medals                              3\n",
      "Total Medals                             NaN\n",
      "Name: Natalie Coughlin, dtype: object \n",
      "\n",
      "\n",
      "Athlete\n",
      "Michael Phelps         2008-08-24\n",
      "Michael Phelps         2004-08-29\n",
      "Michael Phelps         2012-08-12\n",
      "Natalie Coughlin       2008-08-24\n",
      "Aleksey Nemov          2000-10-01\n",
      "                          ...    \n",
      "Olena Sadovnycha       2000-10-01\n",
      "Kateryna Serdiuk       2000-10-01\n",
      "Wietse van Alten       2000-10-01\n",
      "Sandra Wagner-Sachse   2000-10-01\n",
      "Rod White              2000-10-01\n",
      "Name: Closing Ceremony Date, Length: 8618, dtype: datetime64[ns]\n"
     ]
    }
   ],
   "source": [
    "\n",
    "import pandas as pd\n",
    "data = pd.read_excel(\"Athletes.xlsx\", index_col =\"Athlete\")\n",
    "# print(data)\n",
    "# row = dataset.iloc[3] \n",
    "row_3 = data.iloc[3] \n",
    "column_3 = data.iloc[:,3]\n",
    "\n",
    "print(row_3, '\\n\\n')\n",
    "# print(help(dataset.iloc()))\n",
    "print(column_3)\n"
   ]
  },
  {
   "cell_type": "code",
   "execution_count": 23,
   "metadata": {},
   "outputs": [
    {
     "name": "stdout",
     "output_type": "stream",
     "text": [
      "                      Year       Sport\n",
      "Athlete                               \n",
      "Michael Phelps        2008    Swimming\n",
      "Michael Phelps        2004    Swimming\n",
      "Michael Phelps        2012    Swimming\n",
      "Natalie Coughlin      2008    Swimming\n",
      "Aleksey Nemov         2000  Gymnastics\n",
      "...                    ...         ...\n",
      "Olena Sadovnycha      2000     Archery\n",
      "Kateryna Serdiuk      2000     Archery\n",
      "Wietse van Alten      2000     Archery\n",
      "Sandra Wagner-Sachse  2000     Archery\n",
      "Rod White             2000     Archery\n",
      "\n",
      "[8618 rows x 2 columns]\n"
     ]
    }
   ],
   "source": [
    "import pandas as pd\n",
    "dataset = pd.read_excel('Athletes.xlsx', index_col =\"Athlete\")\n",
    "first = dataset[['Year', \"Sport\"]]\n",
    "print(first)\n"
   ]
  },
  {
   "cell_type": "markdown",
   "metadata": {},
   "source": [
    "# Selecting Two rows and Three columns\n",
    "\n",
    "import pandas as pd\n",
    "dataset = pd.read_excel(“Athletes.xlsx\", index_col =\"Name\")\n",
    "first = dataset.loc[[\"ABBINGH Lois \", \"ABDALRASOOL Mohamed \"],\n",
    "                   [\"NOC\", “Discipline\"]]\n",
    "print(first)\n",
    "\n",
    "Selecting all of the rows and some columns\n",
    "\n",
    "Dataframe.loc[[:, [\"column1\", \"column2\", \"column3\"]]\n",
    "\n",
    "Example:\n",
    "\n",
    "import pandas as pd\n",
    "dataset = pd.read_excel(“Athletes.xlsx\", index_col =\"Name\")\n",
    "first = dataset.loc[:, [“NOC\", “Discipline”]]  \n",
    "print(first)\n"
   ]
  },
  {
   "cell_type": "code",
   "execution_count": 24,
   "metadata": {},
   "outputs": [
    {
     "name": "stdout",
     "output_type": "stream",
     "text": [
      "                    Sport  Year\n",
      "Athlete                        \n",
      "Olena Sadovnycha  Archery  2000\n",
      "Rod White         Archery  2000\n"
     ]
    }
   ],
   "source": [
    "import pandas as pd\n",
    "dataset = pd.read_excel('Athletes.xlsx', index_col =\"Athlete\")\n",
    "first = dataset.loc[[\"Olena Sadovnycha\", \"Rod White\"],[\"Sport\", \"Year\"]]\n",
    "print(first)\n",
    "# print(dataset)\n"
   ]
  },
  {
   "cell_type": "markdown",
   "metadata": {},
   "source": [
    "#### Selecting multiple rows\n",
    " "
   ]
  },
  {
   "cell_type": "code",
   "execution_count": 25,
   "metadata": {},
   "outputs": [
    {
     "name": "stdout",
     "output_type": "stream",
     "text": [
      "                   Age        Country  Year Closing Ceremony Date     Sport  \\\n",
      "Athlete                                                                       \n",
      "Natalie Coughlin  25.0  United States  2008            2008-08-24  Swimming   \n",
      "Michael Phelps    19.0  United States  2004            2004-08-29  Swimming   \n",
      "Michael Phelps    27.0  United States  2012            2012-08-12  Swimming   \n",
      "\n",
      "                  Gold Medals  Silver Medals  Bronze Medals  Total Medals  \n",
      "Athlete                                                                    \n",
      "Natalie Coughlin            1              2              3           NaN  \n",
      "Michael Phelps              6              0              2           NaN  \n",
      "Michael Phelps              4              2              0           NaN  \n"
     ]
    }
   ],
   "source": [
    "# Example:\n",
    "import pandas as pd\n",
    "dataset = pd.read_excel('Athletes.xlsx', index_col =\"Athlete\")\n",
    "row2 = dataset.iloc [[3, 1, 2]]\n",
    "print(row2)"
   ]
  },
  {
   "cell_type": "markdown",
   "metadata": {},
   "source": [
    "# Selecting two rows and columns\n"
   ]
  },
  {
   "cell_type": "code",
   "execution_count": 26,
   "metadata": {},
   "outputs": [
    {
     "name": "stdout",
     "output_type": "stream",
     "text": [
      "                   Age        Country\n",
      "Athlete                              \n",
      "Natalie Coughlin  25.0  United States\n",
      "Aleksey Nemov     24.0         Russia\n"
     ]
    }
   ],
   "source": [
    "import pandas as pd\n",
    "dataset = pd.read_excel('Athletes.xlsx', index_col =\"Athlete\")\n",
    "row3 = dataset.iloc [[3, 4], [0, 1]]\n",
    "print(row3)\n"
   ]
  },
  {
   "cell_type": "markdown",
   "metadata": {},
   "source": []
  }
 ],
 "metadata": {
  "kernelspec": {
   "display_name": "venv",
   "language": "python",
   "name": "python3"
  },
  "language_info": {
   "codemirror_mode": {
    "name": "ipython",
    "version": 3
   },
   "file_extension": ".py",
   "mimetype": "text/x-python",
   "name": "python",
   "nbconvert_exporter": "python",
   "pygments_lexer": "ipython3",
   "version": "3.12.1"
  }
 },
 "nbformat": 4,
 "nbformat_minor": 2
}
