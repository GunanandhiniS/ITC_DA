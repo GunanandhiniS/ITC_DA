{
 "cells": [
  {
   "cell_type": "code",
   "execution_count": 1,
   "metadata": {},
   "outputs": [
    {
     "name": "stdout",
     "output_type": "stream",
     "text": [
      "hello world\n"
     ]
    }
   ],
   "source": [
    "print(\"hello world\")"
   ]
  },
  {
   "cell_type": "markdown",
   "metadata": {},
   "source": [
    "# Working with date and time using Pandas"
   ]
  },
  {
   "cell_type": "markdown",
   "metadata": {},
   "source": [
    "While working with data, encountering time series data is very usual. Pandas is a very useful tool while working with time series data. \n",
    "\n",
    "Pandas provide a different set of tools using which we can perform all the necessary tasks on date-time data\n",
    "\n",
    "Example1:\n",
    "import pandas as pd\n",
    "data = pd.date_range('1/1/2011', periods = 10, freq ='H')\n",
    "Data\n",
    "\n",
    "Example2:\n",
    "from datetime import datetime\n",
    "data = pd.date_range('1/1/2011', periods = 10, freq ='H') \n",
    "x = datetime.now()\n",
    "x.month, x.year\n"
   ]
  },
  {
   "cell_type": "code",
   "execution_count": 2,
   "metadata": {},
   "outputs": [
    {
     "data": {
      "text/plain": [
       "DatetimeIndex(['2011-01-01 00:00:00', '2011-01-01 01:00:00',\n",
       "               '2011-01-01 02:00:00', '2011-01-01 03:00:00',\n",
       "               '2011-01-01 04:00:00', '2011-01-01 05:00:00',\n",
       "               '2011-01-01 06:00:00', '2011-01-01 07:00:00',\n",
       "               '2011-01-01 08:00:00', '2011-01-01 09:00:00'],\n",
       "              dtype='datetime64[ns]', freq='H')"
      ]
     },
     "execution_count": 2,
     "metadata": {},
     "output_type": "execute_result"
    }
   ],
   "source": [
    "import pandas as pd\n",
    "data = pd.date_range('1/1/2011', periods = 10, freq ='H')\n",
    "data\n"
   ]
  },
  {
   "cell_type": "code",
   "execution_count": 3,
   "metadata": {},
   "outputs": [
    {
     "data": {
      "text/plain": [
       "(1, 2024)"
      ]
     },
     "execution_count": 3,
     "metadata": {},
     "output_type": "execute_result"
    }
   ],
   "source": [
    "from datetime import datetime\n",
    "data = pd.date_range('1/1/2011', periods = 10, freq ='H') \n",
    "x = datetime.now()\n",
    "x.month, x.year\n"
   ]
  },
  {
   "cell_type": "markdown",
   "metadata": {},
   "source": [
    "Current Date and Time\n",
    "\n",
    "today = pd.to_datetime(\"today\")\n",
    "\n",
    "print(today)\n",
    "\n",
    "Datetime features can be divided into two categories. The first one time moments in a period and second the time passed since a particular period. These features can be very useful to understand the patterns in the data.\n",
    "\n",
    "Divide a given date into features – \n",
    "\n",
    "        pandas.Series.dt.year returns the year of the date time. \n",
    "        pandas.Series.dt.month returns the month of the date time. \n",
    "        pandas.Series.dt.day returns the day of the date time. \n",
    "        pandas.Series.dt.hour returns the hour of the date time. \n",
    "        pandas.Series.dt.minute returns the minute of the date time.\n"
   ]
  },
  {
   "cell_type": "code",
   "execution_count": 4,
   "metadata": {},
   "outputs": [
    {
     "data": {
      "text/html": [
       "<div>\n",
       "<style scoped>\n",
       "    .dataframe tbody tr th:only-of-type {\n",
       "        vertical-align: middle;\n",
       "    }\n",
       "\n",
       "    .dataframe tbody tr th {\n",
       "        vertical-align: top;\n",
       "    }\n",
       "\n",
       "    .dataframe thead th {\n",
       "        text-align: right;\n",
       "    }\n",
       "</style>\n",
       "<table border=\"1\" class=\"dataframe\">\n",
       "  <thead>\n",
       "    <tr style=\"text-align: right;\">\n",
       "      <th></th>\n",
       "      <th>date</th>\n",
       "      <th>year</th>\n",
       "      <th>month</th>\n",
       "      <th>day</th>\n",
       "      <th>hour</th>\n",
       "      <th>minute</th>\n",
       "    </tr>\n",
       "  </thead>\n",
       "  <tbody>\n",
       "    <tr>\n",
       "      <th>0</th>\n",
       "      <td>2011-01-01 00:00:00</td>\n",
       "      <td>2011</td>\n",
       "      <td>1</td>\n",
       "      <td>1</td>\n",
       "      <td>0</td>\n",
       "      <td>0</td>\n",
       "    </tr>\n",
       "    <tr>\n",
       "      <th>1</th>\n",
       "      <td>2011-01-01 01:00:00</td>\n",
       "      <td>2011</td>\n",
       "      <td>1</td>\n",
       "      <td>1</td>\n",
       "      <td>1</td>\n",
       "      <td>0</td>\n",
       "    </tr>\n",
       "    <tr>\n",
       "      <th>2</th>\n",
       "      <td>2011-01-01 02:00:00</td>\n",
       "      <td>2011</td>\n",
       "      <td>1</td>\n",
       "      <td>1</td>\n",
       "      <td>2</td>\n",
       "      <td>0</td>\n",
       "    </tr>\n",
       "  </tbody>\n",
       "</table>\n",
       "</div>"
      ],
      "text/plain": [
       "                 date  year  month  day  hour  minute\n",
       "0 2011-01-01 00:00:00  2011      1    1     0       0\n",
       "1 2011-01-01 01:00:00  2011      1    1     1       0\n",
       "2 2011-01-01 02:00:00  2011      1    1     2       0"
      ]
     },
     "execution_count": 4,
     "metadata": {},
     "output_type": "execute_result"
    }
   ],
   "source": [
    "rng = pd.DataFrame()\n",
    "rng['date'] = pd.date_range('1/1/2011', periods = 72, freq ='H')\n",
    "rng[:5]\n",
    "rng['year'] = rng['date'].dt.year\n",
    "rng['month'] = rng['date'].dt.month\n",
    "rng['day'] = rng['date'].dt.day\n",
    "rng['hour'] = rng['date'].dt.hour\n",
    "rng['minute'] = rng['date'].dt.minute\n",
    "rng.head(3)\n"
   ]
  },
  {
   "cell_type": "code",
   "execution_count": 5,
   "metadata": {},
   "outputs": [
    {
     "name": "stdout",
     "output_type": "stream",
     "text": [
      "2011-11-21 10:00:49-06:00\n"
     ]
    },
    {
     "data": {
      "text/plain": [
       "Timestamp('2024-01-17 01:09:25.114972')"
      ]
     },
     "execution_count": 5,
     "metadata": {},
     "output_type": "execute_result"
    }
   ],
   "source": [
    "# Pandas Timestamp.now() \n",
    "# Function return the current time in the local timezone. It is Equivalent to datetime.now([tz])\n",
    "import pandas as pd\n",
    "ts = pd.Timestamp(year = 2011,  month = 11, day = 21,\n",
    "           hour = 10, second = 49, tz = 'US/Central')\n",
    "print(ts)\n",
    "# return the current time\n",
    "ts.now()\n"
   ]
  },
  {
   "cell_type": "markdown",
   "metadata": {},
   "source": [
    "# Working with Pandas and XlsxWriter \n",
    "Python Pandas is a data analysis library. It can read, filter and re-arrange small and large datasets and output them in a range of formats including Excel.\n",
    "\n",
    "Pandas writes Excel files using the XlsxWriter modules.\n",
    "\n",
    "XlsxWriter is a Python module for writing files in the XLSX file format. It can be used to write text, numbers, and formulas to multiple worksheets.\n",
    "\n",
    "Also, it supports features such as formatting, images, charts, page setup, auto filters, conditional formatting and many others.\n"
   ]
  },
  {
   "cell_type": "code",
   "execution_count": 1,
   "metadata": {},
   "outputs": [],
   "source": [
    "# pip install xlsxwriter"
   ]
  },
  {
   "cell_type": "code",
   "execution_count": 3,
   "metadata": {},
   "outputs": [],
   "source": [
    "# Converting a Pandas dataframe to an xlsx file using Pandas and XlsxWriter.\n",
    "import pandas as pd\n",
    "df = pd.DataFrame({'Data': ['Good', 'For', 'Nothing', 'is','A', 'Saying', 'For','Lazy']})\n",
    "writer = pd.ExcelWriter('pandasExcel.xlsx', engine ='xlsxwriter')\n",
    "df.to_excel(writer, sheet_name ='Sheet1')\n",
    "# writer.save()\n"
   ]
  },
  {
   "cell_type": "code",
   "execution_count": 8,
   "metadata": {},
   "outputs": [],
   "source": [
    "import pandas as pd\n",
    "\n",
    "# Creating a DataFrame\n",
    "df = pd.DataFrame({'Data': ['Good', 'For', 'Nothing', 'is', 'A', 'Saying', 'For', 'Lazy']})\n",
    "\n",
    "# Creating an Excel writer with XlsxWriter as the engine\n",
    "with pd.ExcelWriter('pandasExcel.xlsx', engine='xlsxwriter') as writer:\n",
    "# Writing the DataFrame to an Excel sheet named 'Sheet1'\n",
    "    df.to_excel(writer, sheet_name='Sheet1')\n"
   ]
  },
  {
   "cell_type": "code",
   "execution_count": 10,
   "metadata": {},
   "outputs": [],
   "source": [
    "# Writing multiple dataframes to worksheets using Pandas and XlsxWriter.\n",
    "import pandas as pd\n",
    "df1 = pd.DataFrame({'Data': [11, 12, 13, 14]})\n",
    "df2 = pd.DataFrame({'Data': [21, 22, 23, 24]})\n",
    "df3 = pd.DataFrame({'Data': [31, 32, 33, 34]})\n",
    "writer = pd.ExcelWriter('pandas_multiplesheets.xlsx', \n",
    "                          engine ='xlsxwriter')\n",
    "df1.to_excel(writer, sheet_name ='Sheet1')\n",
    "df2.to_excel(writer, sheet_name ='Sheet2')\n",
    "df3.to_excel(writer, sheet_name ='Sheet3')\n",
    "# writer.save()\n"
   ]
  },
  {
   "cell_type": "code",
   "execution_count": 11,
   "metadata": {},
   "outputs": [],
   "source": [
    "# Positioning dataframes in a worksheet using Pandas and XlsxWriter.\n",
    "import pandas as pd\n",
    "df1 = pd.DataFrame({'Data': [11, 12, 13, 14]})\n",
    "df2 = pd.DataFrame({'Data': [21, 22, 23, 24]})\n",
    "df3 = pd.DataFrame({'Data': [31, 32, 33, 34]})\n",
    "df4 = pd.DataFrame({'Data': [41, 42, 43, 44]})\n",
    "\n",
    "writer = pd.ExcelWriter('pandas_positioning.xlsx', \n",
    "                             engine ='xlsxwriter')\n",
    "\n",
    "df1.to_excel(writer, sheet_name ='Sheet1')  \n",
    "df2.to_excel(writer, sheet_name ='Sheet1', startcol = 3)\n",
    "df3.to_excel(writer, sheet_name ='Sheet1', startrow = 6)\n",
    "df4.to_excel(writer, sheet_name ='Sheet1',\n",
    "             startrow = 7, startcol = 4,\n",
    "             header = False, index = False)\n",
    "# writer.save()\n"
   ]
  },
  {
   "cell_type": "code",
   "execution_count": null,
   "metadata": {},
   "outputs": [],
   "source": []
  }
 ],
 "metadata": {
  "kernelspec": {
   "display_name": "venv",
   "language": "python",
   "name": "python3"
  },
  "language_info": {
   "codemirror_mode": {
    "name": "ipython",
    "version": 3
   },
   "file_extension": ".py",
   "mimetype": "text/x-python",
   "name": "python",
   "nbconvert_exporter": "python",
   "pygments_lexer": "ipython3",
   "version": "3.12.1"
  }
 },
 "nbformat": 4,
 "nbformat_minor": 2
}
