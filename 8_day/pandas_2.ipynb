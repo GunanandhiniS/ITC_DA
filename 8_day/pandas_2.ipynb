{
 "cells": [
  {
   "cell_type": "code",
   "execution_count": 44,
   "metadata": {},
   "outputs": [
    {
     "name": "stdout",
     "output_type": "stream",
     "text": [
      "hello world\n"
     ]
    }
   ],
   "source": [
    "print(\"hello world\")"
   ]
  },
  {
   "cell_type": "markdown",
   "metadata": {},
   "source": [
    "# Cleaning data, Working with missing data, Boolean Indexing."
   ]
  },
  {
   "cell_type": "markdown",
   "metadata": {},
   "source": [
    "# Cleaning Data\n",
    "\n",
    "Wrong Data\n",
    "\n",
    "\"Wrong data\" does not have to be \"empty cells\" or \"wrong format\", it can just be wrong, like if someone registered \"199\" instead of \"1.99\".\n",
    "\n",
    "Sometimes you can spot wrong data by looking at the data set, because you have an expectation of what it should be.\n",
    "\n",
    "If you take a look at our data set, you can see that in row 7, the duration is 450, but for all the other rows the duration is between 30 and 60.\n",
    "\n",
    "It doesn't have to be wrong, but taking in consideration that this is the data set of someone's workout sessions, we conclude with the fact that this person did not work out in 450 minutes\n"
   ]
  },
  {
   "cell_type": "markdown",
   "metadata": {},
   "source": [
    "# Replacing Values\n",
    "\n",
    "\n",
    "One way to fix wrong values is to replace them with something else.\n",
    "\n",
    "\n",
    "In our example, it is most likely a typo, and the value should be \"45\" instead of \"450\", and we could just insert \"45\" in row 7:\n",
    "\n",
    "\n",
    "ExampleGet your own Python Server\n",
    "Set \"Duration\" = 45 in row 7:\n",
    "\n",
    "\n",
    "df.loc[7, 'Duration'] = 45\n"
   ]
  },
  {
   "cell_type": "markdown",
   "metadata": {},
   "source": []
  },
  {
   "cell_type": "markdown",
   "metadata": {},
   "source": [
    "For small data sets you might be able to replace the wrong data one by one, but not for big data sets.\n",
    "\n",
    "To replace wrong data for larger data sets you can create some rules, e.g. set some boundaries for legal values, and replace any values that are outside of the boundaries.\n",
    "\n",
    "Example\n",
    "\n",
    "Loop through all values in the \"Duration\" column.\n",
    "\n",
    "If the value is higher than 120, set it to 120:\n",
    "\n",
    "        for x in df.index:\n",
    "        if df.loc[x, \"Duration\"] > 120:\n",
    "            df.loc[x, \"Duration\"] = 120\n"
   ]
  },
  {
   "cell_type": "markdown",
   "metadata": {},
   "source": [
    "# Removing Rows\n",
    "\n",
    "Another way of handling wrong data is to remove the rows that contains wrong data.\n",
    "\n",
    "This way you do not have to find out what to replace them with, and there is a good chance you do not need them to do your analyses.\n",
    "\n",
    "Example\n",
    "\n",
    "Delete rows where \"Duration\" is higher than 120:\n",
    "\n",
    "        for x in df.index:\n",
    "        if df.loc[x, \"Duration\"] > 120:\n",
    "            df.drop(x, inplace = True)\n"
   ]
  },
  {
   "cell_type": "markdown",
   "metadata": {},
   "source": [
    "# Working with missing data\n",
    "\n",
    "Missing Data can occur when no information is provided for one or more items or for a whole unit. \n",
    "\n",
    "Missing Data is a very big problem in real life scenario.\n",
    "\n",
    "Missing Data can also refer to as NA(Not Available) values in pandas.\n",
    "\n",
    "import pandas as pd\n",
    "import numpy as np\n",
    "dict = {'First Score':[100, 90, np.nan, 95],\n",
    "        'Second Score': [30, 45, 56, np.nan],\n",
    "        'Third Score':[np.nan, 40, 80, 98]}\n",
    "df = pd.DataFrame(dict)\n",
    " df.isnull()\n"
   ]
  },
  {
   "cell_type": "code",
   "execution_count": 45,
   "metadata": {},
   "outputs": [
    {
     "data": {
      "text/html": [
       "<div>\n",
       "<style scoped>\n",
       "    .dataframe tbody tr th:only-of-type {\n",
       "        vertical-align: middle;\n",
       "    }\n",
       "\n",
       "    .dataframe tbody tr th {\n",
       "        vertical-align: top;\n",
       "    }\n",
       "\n",
       "    .dataframe thead th {\n",
       "        text-align: right;\n",
       "    }\n",
       "</style>\n",
       "<table border=\"1\" class=\"dataframe\">\n",
       "  <thead>\n",
       "    <tr style=\"text-align: right;\">\n",
       "      <th></th>\n",
       "      <th>First Score</th>\n",
       "      <th>Second Score</th>\n",
       "      <th>Third Score</th>\n",
       "    </tr>\n",
       "  </thead>\n",
       "  <tbody>\n",
       "    <tr>\n",
       "      <th>0</th>\n",
       "      <td>False</td>\n",
       "      <td>False</td>\n",
       "      <td>True</td>\n",
       "    </tr>\n",
       "    <tr>\n",
       "      <th>1</th>\n",
       "      <td>False</td>\n",
       "      <td>False</td>\n",
       "      <td>False</td>\n",
       "    </tr>\n",
       "    <tr>\n",
       "      <th>2</th>\n",
       "      <td>True</td>\n",
       "      <td>False</td>\n",
       "      <td>False</td>\n",
       "    </tr>\n",
       "    <tr>\n",
       "      <th>3</th>\n",
       "      <td>False</td>\n",
       "      <td>True</td>\n",
       "      <td>False</td>\n",
       "    </tr>\n",
       "  </tbody>\n",
       "</table>\n",
       "</div>"
      ],
      "text/plain": [
       "   First Score  Second Score  Third Score\n",
       "0        False         False         True\n",
       "1        False         False        False\n",
       "2         True         False        False\n",
       "3        False          True        False"
      ]
     },
     "execution_count": 45,
     "metadata": {},
     "output_type": "execute_result"
    }
   ],
   "source": [
    "import pandas as pd\n",
    "import numpy as np\n",
    "dict = {'First Score':[100, 90, np.nan, 95],\n",
    "        'Second Score': [30, 45, 56, np.nan],\n",
    "        'Third Score':[np.nan, 40, 80, 98]}\n",
    "df = pd.DataFrame(dict)\n",
    "df.isnull()\n"
   ]
  },
  {
   "cell_type": "code",
   "execution_count": 46,
   "metadata": {},
   "outputs": [
    {
     "data": {
      "text/html": [
       "<div>\n",
       "<style scoped>\n",
       "    .dataframe tbody tr th:only-of-type {\n",
       "        vertical-align: middle;\n",
       "    }\n",
       "\n",
       "    .dataframe tbody tr th {\n",
       "        vertical-align: top;\n",
       "    }\n",
       "\n",
       "    .dataframe thead th {\n",
       "        text-align: right;\n",
       "    }\n",
       "</style>\n",
       "<table border=\"1\" class=\"dataframe\">\n",
       "  <thead>\n",
       "    <tr style=\"text-align: right;\">\n",
       "      <th></th>\n",
       "      <th>First Score</th>\n",
       "      <th>Second Score</th>\n",
       "      <th>Third Score</th>\n",
       "    </tr>\n",
       "  </thead>\n",
       "  <tbody>\n",
       "    <tr>\n",
       "      <th>0</th>\n",
       "      <td>100.0</td>\n",
       "      <td>30.0</td>\n",
       "      <td>0.0</td>\n",
       "    </tr>\n",
       "    <tr>\n",
       "      <th>1</th>\n",
       "      <td>90.0</td>\n",
       "      <td>45.0</td>\n",
       "      <td>40.0</td>\n",
       "    </tr>\n",
       "    <tr>\n",
       "      <th>2</th>\n",
       "      <td>0.0</td>\n",
       "      <td>56.0</td>\n",
       "      <td>80.0</td>\n",
       "    </tr>\n",
       "    <tr>\n",
       "      <th>3</th>\n",
       "      <td>95.0</td>\n",
       "      <td>0.0</td>\n",
       "      <td>98.0</td>\n",
       "    </tr>\n",
       "  </tbody>\n",
       "</table>\n",
       "</div>"
      ],
      "text/plain": [
       "   First Score  Second Score  Third Score\n",
       "0        100.0          30.0          0.0\n",
       "1         90.0          45.0         40.0\n",
       "2          0.0          56.0         80.0\n",
       "3         95.0           0.0         98.0"
      ]
     },
     "execution_count": 46,
     "metadata": {},
     "output_type": "execute_result"
    }
   ],
   "source": [
    "#Example:\n",
    "import pandas as pd\n",
    "import numpy as np\n",
    "dict = {'First Score':[100, 90, np.nan, 95],\n",
    "        'Second Score': [30, 45, 56, np.nan],\n",
    "        'Third Score':[np.nan, 40, 80, 98]}\n",
    "df = pd.DataFrame(dict)\n",
    "df.fillna(0)\n",
    "\n"
   ]
  },
  {
   "cell_type": "code",
   "execution_count": 47,
   "metadata": {},
   "outputs": [
    {
     "data": {
      "text/html": [
       "<div>\n",
       "<style scoped>\n",
       "    .dataframe tbody tr th:only-of-type {\n",
       "        vertical-align: middle;\n",
       "    }\n",
       "\n",
       "    .dataframe tbody tr th {\n",
       "        vertical-align: top;\n",
       "    }\n",
       "\n",
       "    .dataframe thead th {\n",
       "        text-align: right;\n",
       "    }\n",
       "</style>\n",
       "<table border=\"1\" class=\"dataframe\">\n",
       "  <thead>\n",
       "    <tr style=\"text-align: right;\">\n",
       "      <th></th>\n",
       "      <th>First Score</th>\n",
       "      <th>Second Score</th>\n",
       "      <th>Third Score</th>\n",
       "      <th>Fourth Score</th>\n",
       "    </tr>\n",
       "  </thead>\n",
       "  <tbody>\n",
       "    <tr>\n",
       "      <th>3</th>\n",
       "      <td>95.0</td>\n",
       "      <td>56.0</td>\n",
       "      <td>98</td>\n",
       "      <td>65.0</td>\n",
       "    </tr>\n",
       "  </tbody>\n",
       "</table>\n",
       "</div>"
      ],
      "text/plain": [
       "   First Score  Second Score  Third Score  Fourth Score\n",
       "3         95.0          56.0           98          65.0"
      ]
     },
     "execution_count": 47,
     "metadata": {},
     "output_type": "execute_result"
    }
   ],
   "source": [
    "#Example:\n",
    "import pandas as pd\n",
    "import numpy as np\n",
    "dict = {'First Score':[100, 90, np.nan, 95],\n",
    "        'Second Score': [30, np.nan, 45, 56],\n",
    "        'Third Score':[52, 40, 80, 98],\n",
    "        'Fourth Score':[np.nan, np.nan, np.nan, 65]}\n",
    "df = pd.DataFrame(dict)\n",
    "df.dropna()\n",
    "\n"
   ]
  },
  {
   "cell_type": "code",
   "execution_count": 48,
   "metadata": {},
   "outputs": [
    {
     "name": "stdout",
     "output_type": "stream",
     "text": [
      "0 name      aparna\n",
      "degree       MBA\n",
      "score         90\n",
      "Name: 0, dtype: object\n",
      "\n",
      "1 name      pankaj\n",
      "degree       BCA\n",
      "score         40\n",
      "Name: 1, dtype: object\n",
      "\n",
      "2 name      sudhir\n",
      "degree    M.Tech\n",
      "score         80\n",
      "Name: 2, dtype: object\n",
      "\n",
      "3 name      Geeku\n",
      "degree      MBA\n",
      "score        98\n",
      "Name: 3, dtype: object\n",
      "\n"
     ]
    }
   ],
   "source": [
    "import pandas as pd\n",
    "dict = {'name':[\"aparna\", \"pankaj\", \"sudhir\", \"Geeku\"],\n",
    "        'degree': [\"MBA\", \"BCA\", \"M.Tech\", \"MBA\"],\n",
    "        'score':[90, 40, 80, 98]}\n",
    "df = pd.DataFrame(dict)\n",
    "for i, j in df.iterrows():\n",
    "    print(i, j)\n",
    "    print()\n"
   ]
  },
  {
   "cell_type": "markdown",
   "metadata": {},
   "source": [
    "# Boolean indexing is a type of indexing which uses actual values of the data in the DataFrame. In boolean indexing, we can filter a data in four ways – \n",
    "\n",
    "Accessing a DataFrame with a boolean index\n",
    "\n",
    "Applying a boolean mask to a dataframe\n",
    "\n",
    "Masking data based on column value\n",
    "\n",
    "Masking data based on an index value\n",
    "\n",
    "# Accessing a DataFrame with a boolean index : \n",
    "\n",
    "In order to access a dataframe with a boolean index, we have to create a dataframe in which the index of dataframe contains a boolean value that is “True” or “False”. For Example \n"
   ]
  },
  {
   "cell_type": "markdown",
   "metadata": {},
   "source": []
  },
  {
   "cell_type": "code",
   "execution_count": 49,
   "metadata": {},
   "outputs": [
    {
     "name": "stdout",
     "output_type": "stream",
     "text": [
      "         name  degree  score\n",
      "True   aparna     MBA     90\n",
      "False  pankaj     BCA     40\n",
      "True   sudhir  M.Tech     80\n",
      "False   Geeku     MBA     98\n"
     ]
    }
   ],
   "source": [
    "# Example:\n",
    "import pandas as pd\n",
    "dict = {'name':[\"aparna\", \"pankaj\", \"sudhir\", \"Geeku\"],\n",
    "        'degree': [\"MBA\", \"BCA\", \"M.Tech\", \"MBA\"],\n",
    "        'score':[90, 40, 80, 98]}\n",
    "df = pd.DataFrame(dict, index = [True, False, True, False])\n",
    "print(df)\n"
   ]
  },
  {
   "cell_type": "markdown",
   "metadata": {},
   "source": [
    "Now we have created a dataframe with the boolean index after that user can access a dataframe with the help of the boolean index. \n",
    "\n",
    "User can access a dataframe using three functions that is .loc[], .iloc[], .ix[] \n"
   ]
  },
  {
   "cell_type": "markdown",
   "metadata": {},
   "source": [
    "# Accessing a Dataframe with a boolean index using .loc[]\n",
    "\n",
    "In order to access a dataframe with a boolean index using .loc[], we simply pass a boolean value (True or False) in a .loc[] function. \n",
    "\n",
    "\n",
    "# Example:\n",
    "\n",
    "                import pandas as pd\n",
    "                dict = {'name':[\"aparna\", \"pankaj\", \"sudhir\", \"Geeku\"],\n",
    "                        'degree': [\"MBA\", \"BCA\", \"M.Tech\", \"MBA\"],\n",
    "                        'score':[90, 40, 80, 98]}\n",
    "                df = pd.DataFrame(dict, index = [True, False, True, False])\n",
    "                print(df.loc[True])\n"
   ]
  },
  {
   "cell_type": "markdown",
   "metadata": {},
   "source": []
  },
  {
   "cell_type": "code",
   "execution_count": 50,
   "metadata": {},
   "outputs": [
    {
     "name": "stdout",
     "output_type": "stream",
     "text": [
      "        name  degree  score\n",
      "True  aparna     MBA     90\n",
      "True  sudhir  M.Tech     80\n"
     ]
    }
   ],
   "source": [
    "import pandas as pd\n",
    "dict = {'name':[\"aparna\", \"pankaj\", \"sudhir\", \"Geeku\"],\n",
    "        'degree': [\"MBA\", \"BCA\", \"M.Tech\", \"MBA\"],\n",
    "        'score':[90, 40, 80, 98]}\n",
    "df = pd.DataFrame(dict, index = [True, False, True, False])\n",
    "print(df.loc[True])\n"
   ]
  },
  {
   "cell_type": "markdown",
   "metadata": {},
   "source": [
    "# Accessing a Dataframe with a boolean index using .iloc[]\n",
    "\n",
    "import pandas as pd\n",
    "dict = {'name':[\"aparna\", \"pankaj\", \"sudhir\", \"Geeku\"],\n",
    "        'degree': [\"MBA\", \"BCA\", \"M.Tech\", \"MBA\"],\n",
    "        'score':[90, 40, 80, 98]}\n",
    "df = pd.DataFrame(dict, index = [True, False, True, False])\n",
    "print(df.iloc[True])\n",
    "\n",
    "# Example:\n",
    "\n",
    "import pandas as pd\n",
    "dict = {'name':[\"aparna\", \"pankaj\", \"sudhir\", \"Geeku\"],\n",
    "        'degree': [\"MBA\", \"BCA\", \"M.Tech\", \"MBA\"],\n",
    "        'score':[90, 40, 80, 98]}\n",
    "df = pd.DataFrame(dict, index = [True, False, True, False])\n",
    "print(df.iloc[1])\n"
   ]
  },
  {
   "cell_type": "code",
   "execution_count": 51,
   "metadata": {},
   "outputs": [],
   "source": [
    "# import pandas as pd\n",
    "# dict = {'name':[\"aparna\", \"pankaj\", \"sudhir\", \"Geeku\"],\n",
    "#         'degree': [\"MBA\", \"BCA\", \"M.Tech\", \"MBA\"],\n",
    "#         'score':[90, 40, 80, 98]}\n",
    "# df = pd.DataFrame(dict, index = [True, False, True, False])\n",
    "# print(df.iloc[True])\n"
   ]
  },
  {
   "cell_type": "code",
   "execution_count": 52,
   "metadata": {},
   "outputs": [
    {
     "name": "stdout",
     "output_type": "stream",
     "text": [
      "name      pankaj\n",
      "degree       BCA\n",
      "score         40\n",
      "Name: False, dtype: object\n"
     ]
    }
   ],
   "source": [
    "import pandas as pd\n",
    "dict = {'name':[\"aparna\", \"pankaj\", \"sudhir\", \"Geeku\"],\n",
    "        'degree': [\"MBA\", \"BCA\", \"M.Tech\", \"MBA\"],\n",
    "        'score':[90, 40, 80, 98]}\n",
    "df = pd.DataFrame(dict, index = [True, False, True, False])\n",
    "print(df.iloc[1])\n"
   ]
  },
  {
   "cell_type": "markdown",
   "metadata": {},
   "source": [
    "# Applying a boolean mask to a dataframe : \n",
    "\n",
    "                import pandas as pd\n",
    "                dict = {'name':[\"aparna\", \"pankaj\", \"sudhir\", \"Geeku\"],\n",
    "                        'degree': [\"MBA\", \"BCA\", \"M.Tech\", \"MBA\"],\n",
    "                        'score':[90, 40, 80, 98]}\n",
    "                df = pd.DataFrame(dict, index = [0, 1, 2, 3])\n",
    "                print(df[[True, False, True, False]])\n"
   ]
  },
  {
   "cell_type": "code",
   "execution_count": 53,
   "metadata": {},
   "outputs": [
    {
     "name": "stdout",
     "output_type": "stream",
     "text": [
      "     name  degree  score\n",
      "0  aparna     MBA     90\n",
      "2  sudhir  M.Tech     80\n"
     ]
    }
   ],
   "source": [
    "import pandas as pd\n",
    "dict = {'name':[\"aparna\", \"pankaj\", \"sudhir\", \"Geeku\"],\n",
    "        'degree': [\"MBA\", \"BCA\", \"M.Tech\", \"MBA\"],\n",
    "        'score':[90, 40, 80, 98]}\n",
    "df = pd.DataFrame(dict, index = [0, 1, 2, 3])\n",
    "print(df[[True, False, True, False]])\n"
   ]
  },
  {
   "cell_type": "markdown",
   "metadata": {},
   "source": [
    "                import pandas as pd\n",
    "                data = pd.read_excel(“Medals.xlsx”)\n",
    "                df = pd.DataFrame(data, index = [0, 1, 2, 3, 4, 5, 6,\n",
    "                                                7, 8, 9, 10, 11, 12])\n",
    "                df[[True, False, True, False, True,\n",
    "                False, True, False, True, False,\n",
    "                                True, False, True]]\n",
    "\n",
    "# Masking data based on column value : \n",
    "\n",
    "                import pandas as pd\n",
    "                dict = {'name':[\"aparna\", \"pankaj\", \"sudhir\", \"Geeku\"],\n",
    "                        'degree': [\"BCA\", \"BCA\", \"M.Tech\", \"BCA\"],\n",
    "                        'score':[90, 40, 80, 98]}\n",
    "                df = pd.DataFrame(dict)\n",
    "                print(df['degree'] == 'BCA')\n"
   ]
  },
  {
   "cell_type": "code",
   "execution_count": 58,
   "metadata": {},
   "outputs": [
    {
     "data": {
      "text/html": [
       "<div>\n",
       "<style scoped>\n",
       "    .dataframe tbody tr th:only-of-type {\n",
       "        vertical-align: middle;\n",
       "    }\n",
       "\n",
       "    .dataframe tbody tr th {\n",
       "        vertical-align: top;\n",
       "    }\n",
       "\n",
       "    .dataframe thead th {\n",
       "        text-align: right;\n",
       "    }\n",
       "</style>\n",
       "<table border=\"1\" class=\"dataframe\">\n",
       "  <thead>\n",
       "    <tr style=\"text-align: right;\">\n",
       "      <th></th>\n",
       "      <th>Rank</th>\n",
       "      <th>Nation</th>\n",
       "      <th>Gold</th>\n",
       "      <th>Silver</th>\n",
       "      <th>Bronze</th>\n",
       "      <th>Total</th>\n",
       "      <th>Sorted Category</th>\n",
       "      <th>Rank.1</th>\n",
       "    </tr>\n",
       "  </thead>\n",
       "  <tbody>\n",
       "    <tr>\n",
       "      <th>0</th>\n",
       "      <td>1</td>\n",
       "      <td>United States (USA)</td>\n",
       "      <td>46</td>\n",
       "      <td>29</td>\n",
       "      <td>29</td>\n",
       "      <td>104</td>\n",
       "      <td>46.000001</td>\n",
       "      <td>24.000004</td>\n",
       "    </tr>\n",
       "    <tr>\n",
       "      <th>1</th>\n",
       "      <td>2</td>\n",
       "      <td>China (CHN)</td>\n",
       "      <td>38</td>\n",
       "      <td>27</td>\n",
       "      <td>22</td>\n",
       "      <td>87</td>\n",
       "      <td>38.000002</td>\n",
       "      <td>13.000005</td>\n",
       "    </tr>\n",
       "    <tr>\n",
       "      <th>2</th>\n",
       "      <td>3</td>\n",
       "      <td>Great Britain (GBR)*</td>\n",
       "      <td>29</td>\n",
       "      <td>17</td>\n",
       "      <td>19</td>\n",
       "      <td>65</td>\n",
       "      <td>29.000003</td>\n",
       "      <td>11.000007</td>\n",
       "    </tr>\n",
       "    <tr>\n",
       "      <th>3</th>\n",
       "      <td>4</td>\n",
       "      <td>Russia (RUS)</td>\n",
       "      <td>24</td>\n",
       "      <td>25</td>\n",
       "      <td>33</td>\n",
       "      <td>82</td>\n",
       "      <td>24.000004</td>\n",
       "      <td>11.000006</td>\n",
       "    </tr>\n",
       "    <tr>\n",
       "      <th>4</th>\n",
       "      <td>5</td>\n",
       "      <td>South Korea (KOR)</td>\n",
       "      <td>13</td>\n",
       "      <td>8</td>\n",
       "      <td>7</td>\n",
       "      <td>28</td>\n",
       "      <td>13.000005</td>\n",
       "      <td>8.000009</td>\n",
       "    </tr>\n",
       "    <tr>\n",
       "      <th>5</th>\n",
       "      <td>6</td>\n",
       "      <td>Germany (GER)</td>\n",
       "      <td>11</td>\n",
       "      <td>19</td>\n",
       "      <td>14</td>\n",
       "      <td>44</td>\n",
       "      <td>11.000006</td>\n",
       "      <td>8.000008</td>\n",
       "    </tr>\n",
       "    <tr>\n",
       "      <th>6</th>\n",
       "      <td>7</td>\n",
       "      <td>France (FRA)</td>\n",
       "      <td>11</td>\n",
       "      <td>11</td>\n",
       "      <td>12</td>\n",
       "      <td>34</td>\n",
       "      <td>11.000007</td>\n",
       "      <td>7.000012</td>\n",
       "    </tr>\n",
       "    <tr>\n",
       "      <th>7</th>\n",
       "      <td>8</td>\n",
       "      <td>Italy (ITA)</td>\n",
       "      <td>8</td>\n",
       "      <td>9</td>\n",
       "      <td>11</td>\n",
       "      <td>28</td>\n",
       "      <td>8.000008</td>\n",
       "      <td>7.000011</td>\n",
       "    </tr>\n",
       "    <tr>\n",
       "      <th>8</th>\n",
       "      <td>9</td>\n",
       "      <td>Hungary (HUN)</td>\n",
       "      <td>8</td>\n",
       "      <td>4</td>\n",
       "      <td>5</td>\n",
       "      <td>17</td>\n",
       "      <td>8.000009</td>\n",
       "      <td>7.000010</td>\n",
       "    </tr>\n",
       "    <tr>\n",
       "      <th>9</th>\n",
       "      <td>10</td>\n",
       "      <td>Australia (AUS)</td>\n",
       "      <td>7</td>\n",
       "      <td>16</td>\n",
       "      <td>12</td>\n",
       "      <td>35</td>\n",
       "      <td>7.000010</td>\n",
       "      <td>6.000014</td>\n",
       "    </tr>\n",
       "    <tr>\n",
       "      <th>10</th>\n",
       "      <td>11</td>\n",
       "      <td>Japan (JPN)</td>\n",
       "      <td>7</td>\n",
       "      <td>14</td>\n",
       "      <td>17</td>\n",
       "      <td>38</td>\n",
       "      <td>7.000011</td>\n",
       "      <td>6.000013</td>\n",
       "    </tr>\n",
       "    <tr>\n",
       "      <th>11</th>\n",
       "      <td>12</td>\n",
       "      <td>Kazakhstan (KAZ)</td>\n",
       "      <td>7</td>\n",
       "      <td>1</td>\n",
       "      <td>5</td>\n",
       "      <td>13</td>\n",
       "      <td>7.000012</td>\n",
       "      <td>5.000016</td>\n",
       "    </tr>\n",
       "    <tr>\n",
       "      <th>12</th>\n",
       "      <td>13</td>\n",
       "      <td>Netherlands (NED)</td>\n",
       "      <td>6</td>\n",
       "      <td>6</td>\n",
       "      <td>8</td>\n",
       "      <td>20</td>\n",
       "      <td>6.000013</td>\n",
       "      <td>5.000015</td>\n",
       "    </tr>\n",
       "  </tbody>\n",
       "</table>\n",
       "</div>"
      ],
      "text/plain": [
       "    Rank                 Nation  Gold  Silver  Bronze  Total  Sorted Category  \\\n",
       "0      1    United States (USA)    46      29      29    104        46.000001   \n",
       "1      2            China (CHN)    38      27      22     87        38.000002   \n",
       "2      3   Great Britain (GBR)*    29      17      19     65        29.000003   \n",
       "3      4           Russia (RUS)    24      25      33     82        24.000004   \n",
       "4      5      South Korea (KOR)    13       8       7     28        13.000005   \n",
       "5      6          Germany (GER)    11      19      14     44        11.000006   \n",
       "6      7           France (FRA)    11      11      12     34        11.000007   \n",
       "7      8            Italy (ITA)     8       9      11     28         8.000008   \n",
       "8      9          Hungary (HUN)     8       4       5     17         8.000009   \n",
       "9     10        Australia (AUS)     7      16      12     35         7.000010   \n",
       "10    11            Japan (JPN)     7      14      17     38         7.000011   \n",
       "11    12       Kazakhstan (KAZ)     7       1       5     13         7.000012   \n",
       "12    13      Netherlands (NED)     6       6       8     20         6.000013   \n",
       "\n",
       "       Rank.1  \n",
       "0   24.000004  \n",
       "1   13.000005  \n",
       "2   11.000007  \n",
       "3   11.000006  \n",
       "4    8.000009  \n",
       "5    8.000008  \n",
       "6    7.000012  \n",
       "7    7.000011  \n",
       "8    7.000010  \n",
       "9    6.000014  \n",
       "10   6.000013  \n",
       "11   5.000016  \n",
       "12   5.000015  "
      ]
     },
     "execution_count": 58,
     "metadata": {},
     "output_type": "execute_result"
    }
   ],
   "source": [
    "import pandas as pd\n",
    "data = pd.read_excel('Medals.xlsx', sheet_name=2)\n",
    "df = pd.DataFrame(data, index = [0, 1, 2, 3, 4, 5, 6,7, 8, 9, 10, 11, 12])\n",
    "df[[True, False, True, False, True,\n",
    "                False, True, False, True, False,\n",
    "                                True, False, True]]\n",
    "\n",
    "df"
   ]
  },
  {
   "cell_type": "code",
   "execution_count": 59,
   "metadata": {},
   "outputs": [
    {
     "name": "stdout",
     "output_type": "stream",
     "text": [
      "0     True\n",
      "1     True\n",
      "2    False\n",
      "3     True\n",
      "Name: degree, dtype: bool \n",
      "\n",
      "\n",
      "     name  degree  score\n",
      "0  aparna     BCA     90\n",
      "1  pankaj     BCA     40\n",
      "2  sudhir  M.Tech     80\n",
      "3   Geeku     BCA     98\n"
     ]
    }
   ],
   "source": [
    "import pandas as pd\n",
    "dict = {'name':[\"aparna\", \"pankaj\", \"sudhir\", \"Geeku\"],\n",
    "                        'degree': [\"BCA\", \"BCA\", \"M.Tech\", \"BCA\"],\n",
    "                        'score':[90, 40, 80, 98]}\n",
    "df = pd.DataFrame(dict)\n",
    "print(df['degree'] == 'BCA','\\n\\n')\n",
    "print(df)\n"
   ]
  },
  {
   "cell_type": "markdown",
   "metadata": {},
   "source": [
    "Example:\n",
    "\n",
    "                import pandas as pd\n",
    "                data = pd.read_excel(“Medals.xlsx\", index_col =“Team\\NOC\")\n",
    "                print(data[‘Gold'] > 25)\n",
    "\n",
    "# Masking data based on index value : \n",
    "\n",
    "                import pandas as pd\n",
    "                dict = {'name':[\"aparna\", \"pankaj\", \"sudhir\", \"Geeku\"],\n",
    "                        'degree': [\"BCA\", \"BCA\", \"M.Tech\", \"BCA\"],\n",
    "                        'score':[90, 40, 80, 98]}\n",
    "\n",
    "                df = pd.DataFrame(dict, index = [0, 1, 2, 3])\n",
    "                mask = df.index == 0\n",
    "                print(df[mask])\n",
    "\n"
   ]
  },
  {
   "cell_type": "code",
   "execution_count": 79,
   "metadata": {},
   "outputs": [
    {
     "name": "stdout",
     "output_type": "stream",
     "text": [
      "   Rank                Nation  Gold  Silver  Bronze  Total  Sorted Category  \\\n",
      "0     1   United States (USA)    46      29      29    104        46.000001   \n",
      "\n",
      "      Rank.1  \n",
      "0  24.000004   \n",
      "\n",
      "\n",
      "    Gold                 Nation\n",
      "0     46    United States (USA)\n",
      "1     38            China (CHN)\n",
      "2     29   Great Britain (GBR)*\n",
      "3     24           Russia (RUS)\n",
      "4     13      South Korea (KOR)\n",
      "..   ...                    ...\n",
      "80     0        Hong Kong (HKG)\n",
      "81     0     Saudi Arabia (KSA)\n",
      "82     0           Kuwait (KUW)\n",
      "83     0          Morocco (MAR)\n",
      "84     0       Tajikistan (TJK)\n",
      "\n",
      "[85 rows x 2 columns] \n",
      "\n",
      "\n",
      "   Gold                 Nation\n",
      "0    46    United States (USA)\n",
      "1    38            China (CHN)\n",
      "2    29   Great Britain (GBR)*\n"
     ]
    }
   ],
   "source": [
    "import pandas as pd\n",
    "\n",
    "data = pd.read_excel('Medals.xlsx', sheet_name=2)\n",
    "# data = pd.read_excel('Medals.xlsx', sheet_name=2, index_col='Rank')\n",
    "\n",
    "print(data.head(1), '\\n\\n')\n",
    "# print(data[['Gold']>25, ['Nation']])\n",
    "\n",
    "print(data[['Gold', 'Nation']],'\\n\\n')\n",
    "\n",
    "# print(data['Gold']>25)\n",
    "\n",
    "print(data[data['Gold']>25][['Gold', 'Nation']])\n"
   ]
  },
  {
   "cell_type": "code",
   "execution_count": null,
   "metadata": {},
   "outputs": [
    {
     "data": {
      "text/html": [
       "<div>\n",
       "<style scoped>\n",
       "    .dataframe tbody tr th:only-of-type {\n",
       "        vertical-align: middle;\n",
       "    }\n",
       "\n",
       "    .dataframe tbody tr th {\n",
       "        vertical-align: top;\n",
       "    }\n",
       "\n",
       "    .dataframe thead th {\n",
       "        text-align: right;\n",
       "    }\n",
       "</style>\n",
       "<table border=\"1\" class=\"dataframe\">\n",
       "  <thead>\n",
       "    <tr style=\"text-align: right;\">\n",
       "      <th></th>\n",
       "      <th>Unnamed: 0</th>\n",
       "      <th>Unnamed: 1</th>\n",
       "      <th>Unnamed: 2</th>\n",
       "      <th>MAX</th>\n",
       "      <th>73</th>\n",
       "      <th>Unnamed: 5</th>\n",
       "      <th>Selected Min</th>\n",
       "      <th>1</th>\n",
       "      <th>Unnamed: 8</th>\n",
       "      <th>Unnamed: 9</th>\n",
       "      <th>Unnamed: 10</th>\n",
       "      <th>Unnamed: 11</th>\n",
       "      <th>Unnamed: 12</th>\n",
       "      <th>Unnamed: 13</th>\n",
       "      <th>Unnamed: 14</th>\n",
       "      <th>Unnamed: 15</th>\n",
       "      <th>Unnamed: 16</th>\n",
       "    </tr>\n",
       "  </thead>\n",
       "  <tbody>\n",
       "    <tr>\n",
       "      <th>0</th>\n",
       "      <td>Sort</td>\n",
       "      <td>Gold</td>\n",
       "      <td>NaN</td>\n",
       "      <td>Max Min</td>\n",
       "      <td>58</td>\n",
       "      <td>NaN</td>\n",
       "      <td>NaN</td>\n",
       "      <td>NaN</td>\n",
       "      <td>NaN</td>\n",
       "      <td>NaN</td>\n",
       "      <td>NaN</td>\n",
       "      <td>NaN</td>\n",
       "      <td>NaN</td>\n",
       "      <td>NaN</td>\n",
       "      <td>NaN</td>\n",
       "      <td>NaN</td>\n",
       "      <td>NaN</td>\n",
       "    </tr>\n",
       "  </tbody>\n",
       "</table>\n",
       "</div>"
      ],
      "text/plain": [
       "  Unnamed: 0 Unnamed: 1 Unnamed: 2      MAX  73 Unnamed: 5 Selected Min    1  \\\n",
       "0       Sort       Gold        NaN  Max Min  58        NaN          NaN  NaN   \n",
       "\n",
       "   Unnamed: 8 Unnamed: 9 Unnamed: 10 Unnamed: 11 Unnamed: 12 Unnamed: 13  \\\n",
       "0         NaN        NaN         NaN         NaN         NaN         NaN   \n",
       "\n",
       "  Unnamed: 14  Unnamed: 15 Unnamed: 16  \n",
       "0         NaN          NaN         NaN  "
      ]
     },
     "execution_count": 42,
     "metadata": {},
     "output_type": "execute_result"
    }
   ],
   "source": [
    "# data = pd.read_excel('Medals.xlsx',sheet_name=1)\n",
    "data = pd.read_excel('Medals.xlsx',sheet_name=\"Raw Data\")\n",
    "\n",
    "data.head(1)"
   ]
  },
  {
   "cell_type": "code",
   "execution_count": 80,
   "metadata": {},
   "outputs": [
    {
     "name": "stdout",
     "output_type": "stream",
     "text": [
      "     name degree  score\n",
      "0  aparna    BCA     90\n"
     ]
    }
   ],
   "source": [
    "import pandas as pd\n",
    "dict = {'name':[\"aparna\", \"pankaj\", \"sudhir\", \"Geeku\"],\n",
    "                        'degree': [\"BCA\", \"BCA\", \"M.Tech\", \"BCA\"],\n",
    "                        'score':[90, 40, 80, 98]}\n",
    "df = pd.DataFrame(dict, index = [0, 1, 2, 3])\n",
    "mask = df.index == 0\n",
    "print(df[mask])"
   ]
  },
  {
   "cell_type": "markdown",
   "metadata": {},
   "source": [
    "        import pandas as pd\n",
    "        data = pd.read_excel(“Medals.xlsx\")\n",
    "        df = pd.DataFrame(data, index = [0, 1, 2, 3, 4, 5, 6,\n",
    "                                        7, 8, 9, 10, 11, 12])\n",
    "        mask = df.index > 7\n",
    "        df[mask]\n"
   ]
  },
  {
   "cell_type": "code",
   "execution_count": 82,
   "metadata": {},
   "outputs": [
    {
     "data": {
      "text/html": [
       "<div>\n",
       "<style scoped>\n",
       "    .dataframe tbody tr th:only-of-type {\n",
       "        vertical-align: middle;\n",
       "    }\n",
       "\n",
       "    .dataframe tbody tr th {\n",
       "        vertical-align: top;\n",
       "    }\n",
       "\n",
       "    .dataframe thead th {\n",
       "        text-align: right;\n",
       "    }\n",
       "</style>\n",
       "<table border=\"1\" class=\"dataframe\">\n",
       "  <thead>\n",
       "    <tr style=\"text-align: right;\">\n",
       "      <th></th>\n",
       "      <th>Rank</th>\n",
       "      <th>Nation</th>\n",
       "      <th>Gold</th>\n",
       "      <th>Silver</th>\n",
       "      <th>Bronze</th>\n",
       "      <th>Total</th>\n",
       "      <th>Sorted Category</th>\n",
       "      <th>Rank.1</th>\n",
       "    </tr>\n",
       "  </thead>\n",
       "  <tbody>\n",
       "    <tr>\n",
       "      <th>8</th>\n",
       "      <td>9</td>\n",
       "      <td>Hungary (HUN)</td>\n",
       "      <td>8</td>\n",
       "      <td>4</td>\n",
       "      <td>5</td>\n",
       "      <td>17</td>\n",
       "      <td>8.000009</td>\n",
       "      <td>7.000010</td>\n",
       "    </tr>\n",
       "    <tr>\n",
       "      <th>9</th>\n",
       "      <td>10</td>\n",
       "      <td>Australia (AUS)</td>\n",
       "      <td>7</td>\n",
       "      <td>16</td>\n",
       "      <td>12</td>\n",
       "      <td>35</td>\n",
       "      <td>7.000010</td>\n",
       "      <td>6.000014</td>\n",
       "    </tr>\n",
       "    <tr>\n",
       "      <th>10</th>\n",
       "      <td>11</td>\n",
       "      <td>Japan (JPN)</td>\n",
       "      <td>7</td>\n",
       "      <td>14</td>\n",
       "      <td>17</td>\n",
       "      <td>38</td>\n",
       "      <td>7.000011</td>\n",
       "      <td>6.000013</td>\n",
       "    </tr>\n",
       "    <tr>\n",
       "      <th>11</th>\n",
       "      <td>12</td>\n",
       "      <td>Kazakhstan (KAZ)</td>\n",
       "      <td>7</td>\n",
       "      <td>1</td>\n",
       "      <td>5</td>\n",
       "      <td>13</td>\n",
       "      <td>7.000012</td>\n",
       "      <td>5.000016</td>\n",
       "    </tr>\n",
       "    <tr>\n",
       "      <th>12</th>\n",
       "      <td>13</td>\n",
       "      <td>Netherlands (NED)</td>\n",
       "      <td>6</td>\n",
       "      <td>6</td>\n",
       "      <td>8</td>\n",
       "      <td>20</td>\n",
       "      <td>6.000013</td>\n",
       "      <td>5.000015</td>\n",
       "    </tr>\n",
       "  </tbody>\n",
       "</table>\n",
       "</div>"
      ],
      "text/plain": [
       "    Rank              Nation  Gold  Silver  Bronze  Total  Sorted Category  \\\n",
       "8      9       Hungary (HUN)     8       4       5     17         8.000009   \n",
       "9     10     Australia (AUS)     7      16      12     35         7.000010   \n",
       "10    11         Japan (JPN)     7      14      17     38         7.000011   \n",
       "11    12    Kazakhstan (KAZ)     7       1       5     13         7.000012   \n",
       "12    13   Netherlands (NED)     6       6       8     20         6.000013   \n",
       "\n",
       "      Rank.1  \n",
       "8   7.000010  \n",
       "9   6.000014  \n",
       "10  6.000013  \n",
       "11  5.000016  \n",
       "12  5.000015  "
      ]
     },
     "execution_count": 82,
     "metadata": {},
     "output_type": "execute_result"
    }
   ],
   "source": [
    "import pandas as pd\n",
    "data = pd.read_excel('Medals.xlsx', sheet_name=2)\n",
    "df = pd.DataFrame(data, index = [0, 1, 2, 3, 4, 5, 6,\n",
    "                                 7, 8, 9, 10, 11, 12])\n",
    "mask = df.index > 7\n",
    "df[mask]\n"
   ]
  },
  {
   "cell_type": "code",
   "execution_count": null,
   "metadata": {},
   "outputs": [],
   "source": []
  }
 ],
 "metadata": {
  "kernelspec": {
   "display_name": "venv",
   "language": "python",
   "name": "python3"
  },
  "language_info": {
   "codemirror_mode": {
    "name": "ipython",
    "version": 3
   },
   "file_extension": ".py",
   "mimetype": "text/x-python",
   "name": "python",
   "nbconvert_exporter": "python",
   "pygments_lexer": "ipython3",
   "version": "3.12.1"
  }
 },
 "nbformat": 4,
 "nbformat_minor": 2
}
