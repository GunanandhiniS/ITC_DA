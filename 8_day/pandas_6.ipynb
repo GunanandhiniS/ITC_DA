{
 "cells": [
  {
   "cell_type": "code",
   "execution_count": null,
   "metadata": {},
   "outputs": [
    {
     "name": "stdout",
     "output_type": "stream",
     "text": [
      "hello world\n"
     ]
    }
   ],
   "source": [
    "print(\"hello world\")"
   ]
  },
  {
   "cell_type": "code",
   "execution_count": 2,
   "metadata": {},
   "outputs": [],
   "source": [
    "import pandas as pd\n",
    "import numpy as np"
   ]
  },
  {
   "cell_type": "markdown",
   "metadata": {},
   "source": [
    "### Categories, Vectorization in Python, Statistics and probability  concepts for data science"
   ]
  },
  {
   "cell_type": "markdown",
   "metadata": {},
   "source": [
    "### Categorical data"
   ]
  },
  {
   "cell_type": "markdown",
   "metadata": {},
   "source": [
    "Categoricals are a pandas data type corresponding to categorical variables in statistics. \n",
    "\n",
    "A categorical variable takes on a limited, and usually fixed, number of possible values\n",
    " \n",
    "Examples are gender, social class, blood type, country affiliation, observation time or rating via Likert scales.\n",
    "\n",
    "Categorical data might have an order but cannot perform numerical operation.\n"
   ]
  },
  {
   "cell_type": "markdown",
   "metadata": {},
   "source": [
    "Object creation\n",
    "\n",
    "Series creation\n",
    "\n",
    "Categorical Series or columns in a DataFrame can be created in several ways:\n",
    "\n",
    "By specifying dtype=\"category\" when constructing a Series:"
   ]
  },
  {
   "cell_type": "code",
   "execution_count": 3,
   "metadata": {},
   "outputs": [
    {
     "data": {
      "text/plain": [
       "0    a\n",
       "1    b\n",
       "2    c\n",
       "3    a\n",
       "dtype: category\n",
       "Categories (3, object): ['a', 'b', 'c']"
      ]
     },
     "execution_count": 3,
     "metadata": {},
     "output_type": "execute_result"
    }
   ],
   "source": [
    "\n",
    "s = pd.Series([\"a\", \"b\", \"c\", \"a\"], dtype=\"category\")\n",
    "s"
   ]
  },
  {
   "cell_type": "markdown",
   "metadata": {},
   "source": [
    "# By converting an existing Series or column to a category dtype:\n"
   ]
  },
  {
   "cell_type": "code",
   "execution_count": 4,
   "metadata": {},
   "outputs": [
    {
     "data": {
      "text/html": [
       "<div>\n",
       "<style scoped>\n",
       "    .dataframe tbody tr th:only-of-type {\n",
       "        vertical-align: middle;\n",
       "    }\n",
       "\n",
       "    .dataframe tbody tr th {\n",
       "        vertical-align: top;\n",
       "    }\n",
       "\n",
       "    .dataframe thead th {\n",
       "        text-align: right;\n",
       "    }\n",
       "</style>\n",
       "<table border=\"1\" class=\"dataframe\">\n",
       "  <thead>\n",
       "    <tr style=\"text-align: right;\">\n",
       "      <th></th>\n",
       "      <th>A</th>\n",
       "      <th>B</th>\n",
       "    </tr>\n",
       "  </thead>\n",
       "  <tbody>\n",
       "    <tr>\n",
       "      <th>0</th>\n",
       "      <td>a</td>\n",
       "      <td>a</td>\n",
       "    </tr>\n",
       "    <tr>\n",
       "      <th>1</th>\n",
       "      <td>b</td>\n",
       "      <td>b</td>\n",
       "    </tr>\n",
       "    <tr>\n",
       "      <th>2</th>\n",
       "      <td>c</td>\n",
       "      <td>c</td>\n",
       "    </tr>\n",
       "    <tr>\n",
       "      <th>3</th>\n",
       "      <td>a</td>\n",
       "      <td>a</td>\n",
       "    </tr>\n",
       "  </tbody>\n",
       "</table>\n",
       "</div>"
      ],
      "text/plain": [
       "   A  B\n",
       "0  a  a\n",
       "1  b  b\n",
       "2  c  c\n",
       "3  a  a"
      ]
     },
     "execution_count": 4,
     "metadata": {},
     "output_type": "execute_result"
    }
   ],
   "source": [
    "df = pd.DataFrame({\"A\": [\"a\", \"b\", \"c\", \"a\"]})\n",
    "df[\"B\"] = df[\"A\"].astype(\"category\")\n",
    "df"
   ]
  },
  {
   "cell_type": "markdown",
   "metadata": {},
   "source": [
    "# pd.Categorical\n",
    "\n",
    "Using the standard pandas Categorical constructor, we can create a category object.\n",
    "\n",
    "pandas.Categorical(values, categories, ordered)"
   ]
  },
  {
   "cell_type": "code",
   "execution_count": 5,
   "metadata": {},
   "outputs": [
    {
     "name": "stdout",
     "output_type": "stream",
     "text": [
      "['a', 'b', 'c', 'a', 'b', 'c']\n",
      "Categories (3, object): ['a', 'b', 'c']\n"
     ]
    }
   ],
   "source": [
    "# pandas.Categorical(values, categories, ordered)\n",
    "import pandas as pd\n",
    "cat = pd.Categorical(['a', 'b', 'c', 'a', 'b', 'c'])\n",
    "print(cat)"
   ]
  },
  {
   "cell_type": "code",
   "execution_count": 7,
   "metadata": {},
   "outputs": [
    {
     "name": "stdout",
     "output_type": "stream",
     "text": [
      "['a', 'b', 'c', 'a', 'b', 'c', NaN]\n",
      "Categories (3, object): ['c', 'b', 'a']\n"
     ]
    }
   ],
   "source": [
    "# Categories (3, object): [a, b, c]\n",
    "\n",
    "import pandas as pd\n",
    "cat=pd.Categorical(['a','b','c','a','b','c','d'], ['c', 'b', 'a'])\n",
    "print(cat)"
   ]
  },
  {
   "cell_type": "markdown",
   "metadata": {},
   "source": [
    "Categories (3, object): [c, b, a]\n",
    "\n",
    "Here, the second argument signifies the categories. Thus, any value which is not present in the categories will be treated as NaN."
   ]
  },
  {
   "cell_type": "code",
   "execution_count": 8,
   "metadata": {},
   "outputs": [
    {
     "name": "stdout",
     "output_type": "stream",
     "text": [
      "['a', 'b', 'c', 'a', 'b', 'c', NaN]\n",
      "Categories (3, object): ['c' < 'b' < 'a']\n"
     ]
    }
   ],
   "source": [
    "import pandas as pd\n",
    "cat =pd.Categorical(['a','b','c','a','b','c','d'], ['c', 'b', 'a'],ordered=True)\n",
    "print(cat)"
   ]
  },
  {
   "cell_type": "markdown",
   "metadata": {},
   "source": [
    "Categories (3, object): [c < b < a]\n",
    "\n",
    "Logically, the order means that, a is greater than b and b is greater than c.\n",
    "\n",
    "Description\n",
    "\n",
    "The describe() method is used for calculating some statistical data like percentile, mean and std of the numerical values of the Series or \n",
    "\n",
    "DataFrame. \n",
    "\n",
    "It analyzes both numeric and object series and also the DataFrame column sets of mixed data types."
   ]
  },
  {
   "cell_type": "code",
   "execution_count": 10,
   "metadata": {},
   "outputs": [
    {
     "name": "stdout",
     "output_type": "stream",
     "text": [
      "       cat  s\n",
      "count    3  3\n",
      "unique   2  2\n",
      "top      c  c\n",
      "freq     2  2\n",
      "count     3\n",
      "unique    2\n",
      "top       c\n",
      "freq      2\n",
      "Name: cat, dtype: object\n"
     ]
    }
   ],
   "source": [
    "cat = pd.Categorical([\"a\", \"c\", \"c\", np.nan], categories=[\"b\", \"a\", \"c\"])\n",
    "df = pd.DataFrame({\"cat\":cat, \"s\":[\"a\", \"c\", \"c\", np.nan]})\n",
    "print(df.describe())\n",
    "print(df[\"cat\"].describe())"
   ]
  },
  {
   "cell_type": "markdown",
   "metadata": {},
   "source": [
    "Working with categories\n",
    "\n",
    "\n",
    "    Categorical data has a categories and a ordered property, which list their possible values and whether the ordering matters or not. \n",
    "\n",
    "    These properties are exposed as s.cat.categories and s.cat.ordered. \n",
    "\n",
    "    If you don’t manually specify categories and ordering, they are inferred from the passed arguments."
   ]
  },
  {
   "cell_type": "code",
   "execution_count": 11,
   "metadata": {},
   "outputs": [
    {
     "data": {
      "text/plain": [
       "Index(['a', 'b', 'c'], dtype='object')"
      ]
     },
     "execution_count": 11,
     "metadata": {},
     "output_type": "execute_result"
    }
   ],
   "source": [
    "s = pd.Series([\"a\", \"b\", \"c\", \"a\"], dtype=\"category\")\n",
    "s.cat.categories"
   ]
  },
  {
   "cell_type": "code",
   "execution_count": 12,
   "metadata": {},
   "outputs": [
    {
     "data": {
      "text/plain": [
       "Index(['c', 'b', 'a'], dtype='object')"
      ]
     },
     "execution_count": 12,
     "metadata": {},
     "output_type": "execute_result"
    }
   ],
   "source": [
    "# It’s also possible to pass in the categories in a specific order:\n",
    "s = pd.Series(pd.Categorical([\"a\", \"b\", \"c\", \"a\"], categories=[\"c\", \"b\", \"a\"]))\n",
    "s.cat.categories"
   ]
  },
  {
   "cell_type": "code",
   "execution_count": 13,
   "metadata": {},
   "outputs": [
    {
     "data": {
      "text/plain": [
       "False"
      ]
     },
     "execution_count": 13,
     "metadata": {},
     "output_type": "execute_result"
    }
   ],
   "source": [
    "s.cat.ordered\n"
   ]
  },
  {
   "cell_type": "markdown",
   "metadata": {},
   "source": [
    "# Unique()\n",
    "\n",
    "The unique() function is used to get unique values of Series object.\n",
    "\n",
    "Uniques are returned in order of appearance.\n"
   ]
  },
  {
   "cell_type": "code",
   "execution_count": 14,
   "metadata": {},
   "outputs": [
    {
     "data": {
      "text/plain": [
       "array([2, 4, 3], dtype=int64)"
      ]
     },
     "execution_count": 14,
     "metadata": {},
     "output_type": "execute_result"
    }
   ],
   "source": [
    "import numpy as np\n",
    "import pandas as pd\n",
    "pd.Series([2, 4, 3, 3], name='P').unique()"
   ]
  },
  {
   "cell_type": "markdown",
   "metadata": {},
   "source": [
    "# Renaming Categories\n",
    "\n",
    "Renaming categories is done by assigning new values to the Series.cat.categories property or by using the rename_categories() method:\n"
   ]
  },
  {
   "cell_type": "code",
   "execution_count": 15,
   "metadata": {},
   "outputs": [
    {
     "ename": "AttributeError",
     "evalue": "property 'categories' of 'Categorical' object has no setter",
     "output_type": "error",
     "traceback": [
      "\u001b[1;31m---------------------------------------------------------------------------\u001b[0m",
      "\u001b[1;31mAttributeError\u001b[0m                            Traceback (most recent call last)",
      "Cell \u001b[1;32mIn[15], line 3\u001b[0m\n\u001b[0;32m      1\u001b[0m s \u001b[38;5;241m=\u001b[39m pd\u001b[38;5;241m.\u001b[39mSeries([\u001b[38;5;124m\"\u001b[39m\u001b[38;5;124ma\u001b[39m\u001b[38;5;124m\"\u001b[39m, \u001b[38;5;124m\"\u001b[39m\u001b[38;5;124mb\u001b[39m\u001b[38;5;124m\"\u001b[39m, \u001b[38;5;124m\"\u001b[39m\u001b[38;5;124mc\u001b[39m\u001b[38;5;124m\"\u001b[39m, \u001b[38;5;124m\"\u001b[39m\u001b[38;5;124ma\u001b[39m\u001b[38;5;124m\"\u001b[39m], dtype\u001b[38;5;241m=\u001b[39m\u001b[38;5;124m\"\u001b[39m\u001b[38;5;124mcategory\u001b[39m\u001b[38;5;124m\"\u001b[39m)\n\u001b[0;32m      2\u001b[0m s\n\u001b[1;32m----> 3\u001b[0m \u001b[43ms\u001b[49m\u001b[38;5;241;43m.\u001b[39;49m\u001b[43mcat\u001b[49m\u001b[38;5;241;43m.\u001b[39;49m\u001b[43mcategories\u001b[49m \u001b[38;5;241m=\u001b[39m [\u001b[38;5;124m\"\u001b[39m\u001b[38;5;124mGroup \u001b[39m\u001b[38;5;132;01m%s\u001b[39;00m\u001b[38;5;124m\"\u001b[39m \u001b[38;5;241m%\u001b[39m g \u001b[38;5;28;01mfor\u001b[39;00m g \u001b[38;5;129;01min\u001b[39;00m s\u001b[38;5;241m.\u001b[39mcat\u001b[38;5;241m.\u001b[39mcategories]\n\u001b[0;32m      4\u001b[0m s\n",
      "File \u001b[1;32mc:\\Users\\VIJAY\\OneDrive\\Desktop\\ITC\\venv\\Lib\\site-packages\\pandas\\core\\base.py:178\u001b[0m, in \u001b[0;36mNoNewAttributesMixin.__setattr__\u001b[1;34m(self, key, value)\u001b[0m\n\u001b[0;32m    172\u001b[0m \u001b[38;5;28;01mif\u001b[39;00m \u001b[38;5;28mgetattr\u001b[39m(\u001b[38;5;28mself\u001b[39m, \u001b[38;5;124m\"\u001b[39m\u001b[38;5;124m__frozen\u001b[39m\u001b[38;5;124m\"\u001b[39m, \u001b[38;5;28;01mFalse\u001b[39;00m) \u001b[38;5;129;01mand\u001b[39;00m \u001b[38;5;129;01mnot\u001b[39;00m (\n\u001b[0;32m    173\u001b[0m     key \u001b[38;5;241m==\u001b[39m \u001b[38;5;124m\"\u001b[39m\u001b[38;5;124m_cache\u001b[39m\u001b[38;5;124m\"\u001b[39m\n\u001b[0;32m    174\u001b[0m     \u001b[38;5;129;01mor\u001b[39;00m key \u001b[38;5;129;01min\u001b[39;00m \u001b[38;5;28mtype\u001b[39m(\u001b[38;5;28mself\u001b[39m)\u001b[38;5;241m.\u001b[39m\u001b[38;5;18m__dict__\u001b[39m\n\u001b[0;32m    175\u001b[0m     \u001b[38;5;129;01mor\u001b[39;00m \u001b[38;5;28mgetattr\u001b[39m(\u001b[38;5;28mself\u001b[39m, key, \u001b[38;5;28;01mNone\u001b[39;00m) \u001b[38;5;129;01mis\u001b[39;00m \u001b[38;5;129;01mnot\u001b[39;00m \u001b[38;5;28;01mNone\u001b[39;00m\n\u001b[0;32m    176\u001b[0m ):\n\u001b[0;32m    177\u001b[0m     \u001b[38;5;28;01mraise\u001b[39;00m \u001b[38;5;167;01mAttributeError\u001b[39;00m(\u001b[38;5;124mf\u001b[39m\u001b[38;5;124m\"\u001b[39m\u001b[38;5;124mYou cannot add any new attribute \u001b[39m\u001b[38;5;124m'\u001b[39m\u001b[38;5;132;01m{\u001b[39;00mkey\u001b[38;5;132;01m}\u001b[39;00m\u001b[38;5;124m'\u001b[39m\u001b[38;5;124m\"\u001b[39m)\n\u001b[1;32m--> 178\u001b[0m \u001b[38;5;28;43mobject\u001b[39;49m\u001b[38;5;241;43m.\u001b[39;49m\u001b[38;5;21;43m__setattr__\u001b[39;49m\u001b[43m(\u001b[49m\u001b[38;5;28;43mself\u001b[39;49m\u001b[43m,\u001b[49m\u001b[43m \u001b[49m\u001b[43mkey\u001b[49m\u001b[43m,\u001b[49m\u001b[43m \u001b[49m\u001b[43mvalue\u001b[49m\u001b[43m)\u001b[49m\n",
      "File \u001b[1;32mc:\\Users\\VIJAY\\OneDrive\\Desktop\\ITC\\venv\\Lib\\site-packages\\pandas\\core\\accessor.py:99\u001b[0m, in \u001b[0;36mPandasDelegate._add_delegate_accessors.<locals>._create_delegator_property.<locals>._setter\u001b[1;34m(self, new_values)\u001b[0m\n\u001b[0;32m     98\u001b[0m \u001b[38;5;28;01mdef\u001b[39;00m \u001b[38;5;21m_setter\u001b[39m(\u001b[38;5;28mself\u001b[39m, new_values):\n\u001b[1;32m---> 99\u001b[0m     \u001b[38;5;28;01mreturn\u001b[39;00m \u001b[38;5;28;43mself\u001b[39;49m\u001b[38;5;241;43m.\u001b[39;49m\u001b[43m_delegate_property_set\u001b[49m\u001b[43m(\u001b[49m\u001b[43mname\u001b[49m\u001b[43m,\u001b[49m\u001b[43m \u001b[49m\u001b[43mnew_values\u001b[49m\u001b[43m)\u001b[49m\n",
      "File \u001b[1;32mc:\\Users\\VIJAY\\OneDrive\\Desktop\\ITC\\venv\\Lib\\site-packages\\pandas\\core\\arrays\\categorical.py:2867\u001b[0m, in \u001b[0;36mCategoricalAccessor._delegate_property_set\u001b[1;34m(self, name, new_values)\u001b[0m\n\u001b[0;32m   2866\u001b[0m \u001b[38;5;28;01mdef\u001b[39;00m \u001b[38;5;21m_delegate_property_set\u001b[39m(\u001b[38;5;28mself\u001b[39m, name: \u001b[38;5;28mstr\u001b[39m, new_values):  \u001b[38;5;66;03m# type: ignore[override]\u001b[39;00m\n\u001b[1;32m-> 2867\u001b[0m     \u001b[38;5;28;01mreturn\u001b[39;00m \u001b[38;5;28;43msetattr\u001b[39;49m\u001b[43m(\u001b[49m\u001b[38;5;28;43mself\u001b[39;49m\u001b[38;5;241;43m.\u001b[39;49m\u001b[43m_parent\u001b[49m\u001b[43m,\u001b[49m\u001b[43m \u001b[49m\u001b[43mname\u001b[49m\u001b[43m,\u001b[49m\u001b[43m \u001b[49m\u001b[43mnew_values\u001b[49m\u001b[43m)\u001b[49m\n",
      "\u001b[1;31mAttributeError\u001b[0m: property 'categories' of 'Categorical' object has no setter"
     ]
    }
   ],
   "source": [
    "s = pd.Series([\"a\", \"b\", \"c\", \"a\"], dtype=\"category\")\n",
    "s\n",
    "s.cat.categories = [\"Group %s\" % g for g in s.cat.categories]\n",
    "s\n"
   ]
  },
  {
   "cell_type": "code",
   "execution_count": 16,
   "metadata": {},
   "outputs": [
    {
     "data": {
      "text/plain": [
       "0    1\n",
       "1    2\n",
       "2    3\n",
       "3    1\n",
       "dtype: category\n",
       "Categories (3, int64): [1, 2, 3]"
      ]
     },
     "execution_count": 16,
     "metadata": {},
     "output_type": "execute_result"
    }
   ],
   "source": [
    "s = s.cat.rename_categories([1, 2, 3])\n",
    "s\n"
   ]
  },
  {
   "cell_type": "code",
   "execution_count": 17,
   "metadata": {},
   "outputs": [
    {
     "data": {
      "text/plain": [
       "0    x\n",
       "1    y\n",
       "2    z\n",
       "3    x\n",
       "dtype: category\n",
       "Categories (3, object): ['x', 'y', 'z']"
      ]
     },
     "execution_count": 17,
     "metadata": {},
     "output_type": "execute_result"
    }
   ],
   "source": [
    "# You can also pass a dict-like object to map the renaming\n",
    "s = s.cat.rename_categories({1: \"x\", 2: \"y\", 3: \"z\"})\n",
    "s\n"
   ]
  },
  {
   "cell_type": "markdown",
   "metadata": {},
   "source": [
    "# Appending new categories\n",
    "\n",
    "Appending categories can be done by using the add_categories() method:\n",
    "\n"
   ]
  },
  {
   "cell_type": "code",
   "execution_count": 18,
   "metadata": {},
   "outputs": [
    {
     "data": {
      "text/plain": [
       "Index(['x', 'y', 'z', 4], dtype='object')"
      ]
     },
     "execution_count": 18,
     "metadata": {},
     "output_type": "execute_result"
    }
   ],
   "source": [
    "s = s.cat.add_categories([4])\n",
    "s.cat.categories\n"
   ]
  },
  {
   "cell_type": "markdown",
   "metadata": {},
   "source": [
    "# Removing categories\n",
    "\n",
    "Removing categories can be done by using the remove_categories() method. Values which are removed are replaced by np.nan.:\n"
   ]
  },
  {
   "cell_type": "code",
   "execution_count": 19,
   "metadata": {},
   "outputs": [
    {
     "data": {
      "text/plain": [
       "0    x\n",
       "1    y\n",
       "2    z\n",
       "3    x\n",
       "dtype: category\n",
       "Categories (3, object): ['x', 'y', 'z']"
      ]
     },
     "execution_count": 19,
     "metadata": {},
     "output_type": "execute_result"
    }
   ],
   "source": [
    "s = s.cat.remove_categories([4])\n",
    "s"
   ]
  },
  {
   "cell_type": "markdown",
   "metadata": {},
   "source": [
    "# Removing unused categories\n"
   ]
  },
  {
   "cell_type": "code",
   "execution_count": 20,
   "metadata": {},
   "outputs": [
    {
     "data": {
      "text/plain": [
       "0    a\n",
       "1    b\n",
       "2    a\n",
       "dtype: category\n",
       "Categories (4, object): ['a', 'b', 'c', 'd']"
      ]
     },
     "execution_count": 20,
     "metadata": {},
     "output_type": "execute_result"
    }
   ],
   "source": [
    "s = pd.Series(pd.Categorical([\"a\", \"b\", \"a\"], categories=[\"a\", \"b\", \"c\", \"d\"]))\n",
    "s\n"
   ]
  },
  {
   "cell_type": "code",
   "execution_count": 21,
   "metadata": {},
   "outputs": [
    {
     "data": {
      "text/plain": [
       "0    a\n",
       "1    b\n",
       "2    a\n",
       "dtype: category\n",
       "Categories (2, object): ['a', 'b']"
      ]
     },
     "execution_count": 21,
     "metadata": {},
     "output_type": "execute_result"
    }
   ],
   "source": [
    "s.cat.remove_unused_categories()\n"
   ]
  },
  {
   "cell_type": "markdown",
   "metadata": {},
   "source": [
    "# Cut()\n",
    "\n",
    "By using special functions, such as cut(), Pandas cut() function is used to separate the array elements into different bins . The cut function is mainly used to perform statistical analysis on scalar data. \n",
    "\n"
   ]
  },
  {
   "cell_type": "code",
   "execution_count": 22,
   "metadata": {},
   "outputs": [
    {
     "data": {
      "text/html": [
       "<div>\n",
       "<style scoped>\n",
       "    .dataframe tbody tr th:only-of-type {\n",
       "        vertical-align: middle;\n",
       "    }\n",
       "\n",
       "    .dataframe tbody tr th {\n",
       "        vertical-align: top;\n",
       "    }\n",
       "\n",
       "    .dataframe thead th {\n",
       "        text-align: right;\n",
       "    }\n",
       "</style>\n",
       "<table border=\"1\" class=\"dataframe\">\n",
       "  <thead>\n",
       "    <tr style=\"text-align: right;\">\n",
       "      <th></th>\n",
       "      <th>value</th>\n",
       "      <th>group</th>\n",
       "    </tr>\n",
       "  </thead>\n",
       "  <tbody>\n",
       "    <tr>\n",
       "      <th>0</th>\n",
       "      <td>8</td>\n",
       "      <td>0 - 9</td>\n",
       "    </tr>\n",
       "    <tr>\n",
       "      <th>1</th>\n",
       "      <td>62</td>\n",
       "      <td>60 - 69</td>\n",
       "    </tr>\n",
       "    <tr>\n",
       "      <th>2</th>\n",
       "      <td>57</td>\n",
       "      <td>50 - 59</td>\n",
       "    </tr>\n",
       "    <tr>\n",
       "      <th>3</th>\n",
       "      <td>14</td>\n",
       "      <td>10 - 19</td>\n",
       "    </tr>\n",
       "    <tr>\n",
       "      <th>4</th>\n",
       "      <td>82</td>\n",
       "      <td>80 - 89</td>\n",
       "    </tr>\n",
       "    <tr>\n",
       "      <th>5</th>\n",
       "      <td>85</td>\n",
       "      <td>80 - 89</td>\n",
       "    </tr>\n",
       "    <tr>\n",
       "      <th>6</th>\n",
       "      <td>65</td>\n",
       "      <td>60 - 69</td>\n",
       "    </tr>\n",
       "    <tr>\n",
       "      <th>7</th>\n",
       "      <td>89</td>\n",
       "      <td>80 - 89</td>\n",
       "    </tr>\n",
       "    <tr>\n",
       "      <th>8</th>\n",
       "      <td>74</td>\n",
       "      <td>70 - 79</td>\n",
       "    </tr>\n",
       "    <tr>\n",
       "      <th>9</th>\n",
       "      <td>60</td>\n",
       "      <td>60 - 69</td>\n",
       "    </tr>\n",
       "  </tbody>\n",
       "</table>\n",
       "</div>"
      ],
      "text/plain": [
       "   value    group\n",
       "0      8    0 - 9\n",
       "1     62  60 - 69\n",
       "2     57  50 - 59\n",
       "3     14  10 - 19\n",
       "4     82  80 - 89\n",
       "5     85  80 - 89\n",
       "6     65  60 - 69\n",
       "7     89  80 - 89\n",
       "8     74  70 - 79\n",
       "9     60  60 - 69"
      ]
     },
     "execution_count": 22,
     "metadata": {},
     "output_type": "execute_result"
    }
   ],
   "source": [
    "df = pd.DataFrame({\"value\": np.random.randint(0, 100, 20)})\n",
    "labels = [\"{0} - {1}\".format(i, i + 9) for i in range(0, 100, 10)]\n",
    "df[\"group\"] = pd.cut(df.value, range(0, 105, 10), right=False, labels=labels)\n",
    "df.head(10)\n"
   ]
  },
  {
   "cell_type": "markdown",
   "metadata": {},
   "source": [
    "# Vectorization in python"
   ]
  },
  {
   "cell_type": "markdown",
   "metadata": {},
   "source": [
    "We know that most of the application has to deal with a large number of datasets\n",
    "\n",
    "To make sure that the code is computationally efficient, we will use vectorization\n",
    "\n",
    "Time complexity in the execution of any algorithm is very crucial deciding whether an application is reliable or not. \n",
    "\n",
    "To run a large algorithm in as much as optimal time possible is very important when it comes to real-time application of output. \n",
    "\n",
    "To do so, Python has some standard mathematical functions for fast operations on entire arrays of data without having to write loops. One of such library which contains such function is numpy.\n"
   ]
  },
  {
   "cell_type": "markdown",
   "metadata": {},
   "source": [
    "# What is Vectorization ?\n",
    "\n",
    "Vectorization is used to speed up the Python code without using loop. \n",
    "\n",
    "Using such a function can help in minimizing the running time of code efficiently. \n",
    "\n",
    "Various operations are being performed over vector such as dot product of vectors which is also known as scalar product as it produces single output.\n",
    "\n",
    "Outer products which results in square matrix of dimension equal to length X length of the vectors.\n",
    "\n",
    "Element wise multiplication which products the element of same indexes and dimension of the matrix remain unchanged.\n"
   ]
  },
  {
   "cell_type": "markdown",
   "metadata": {},
   "source": [
    "We will see how the classic methods are more time consuming than using some standard function by calculating their processing time.\n",
    "\n",
    "        outer(a, b): Compute the outer product of two vectors.\n",
    "\n",
    "        multiply(a, b): Matrix product of two arrays.\n",
    "\n",
    "        dot(a, b): Dot product of two arrays.\n",
    "\n",
    "        zeros((n, m)): Return a matrix of given shape and type, filled with zeros.\n",
    "\n",
    "        process_time(): Return the value (in fractional seconds) of the sum of the system and user CPU time of the current process. It does not include time elapsed during sleep.\n"
   ]
  },
  {
   "cell_type": "markdown",
   "metadata": {},
   "source": [
    "# Dot Product:\n",
    "\n",
    "Dot product is an algebraic operation in which two equal length vectors are being multiplied such that it produces a single number. Dot Product often called as inner product.\n",
    "\n"
   ]
  },
  {
   "cell_type": "code",
   "execution_count": 23,
   "metadata": {},
   "outputs": [],
   "source": [
    "import time\n",
    "import numpy\n",
    "import array\n",
    "a = array.array('q')\n",
    "for i in range(100000):\n",
    "    a.append(i);\n",
    "b = array.array('q')\n",
    "for i in range(100000, 200000):\n",
    "    b.append(i)\n",
    "# classic dot product of vectors implementation \n",
    "tic = time.process_time()\n",
    "dot = 0.0;\n",
    "for i in range(len(a)):\n",
    "      dot += a[i] * b[i]\n"
   ]
  },
  {
   "cell_type": "code",
   "execution_count": 24,
   "metadata": {},
   "outputs": [
    {
     "name": "stdout",
     "output_type": "stream",
     "text": [
      "dot_product = 833323333350000.0\n",
      "Computation time = 109.375ms\n",
      "\n",
      "n_dot_product = 833323333350000\n",
      "Computation time = 0.0ms\n"
     ]
    }
   ],
   "source": [
    "toc = time.process_time()\n",
    "print(\"dot_product = \"+ str(dot));\n",
    "print(\"Computation time = \" + str(1000*(toc - tic )) + \"ms\")  \n",
    "n_tic = time.process_time()\n",
    "n_dot_product = numpy.dot(a, b)\n",
    "n_toc = time.process_time()\n",
    "print(\"\\nn_dot_product = \"+str(n_dot_product))\n",
    "print(\"Computation time = \"+str(1000*(n_toc - n_tic ))+\"ms\")\n",
    "\n"
   ]
  },
  {
   "cell_type": "markdown",
   "metadata": {},
   "source": [
    "# Outer Product:\n",
    "\n",
    "The tensor product of two coordinate vectors is termed as Outer product. \n",
    "\n",
    "Let’s consider two vectors a and b with dimension n x 1 and m x 1 then the outer product of the vector results in a rectangular matrix of n x m.\n",
    "\n",
    "If two vectors have same dimension then the resultant matrix will be a square matrix\n"
   ]
  },
  {
   "cell_type": "code",
   "execution_count": 26,
   "metadata": {},
   "outputs": [
    {
     "name": "stdout",
     "output_type": "stream",
     "text": [
      "outer_product = [[    0.     0.     0. ...     0.     0.     0.]\n",
      " [  200.   201.   202. ...   397.   398.   399.]\n",
      " [  400.   402.   404. ...   794.   796.   798.]\n",
      " ...\n",
      " [39400. 39597. 39794. ... 78209. 78406. 78603.]\n",
      " [39600. 39798. 39996. ... 78606. 78804. 79002.]\n",
      " [39800. 39999. 40198. ... 79003. 79202. 79401.]]\n",
      "Computation time = 218.75ms\n",
      "outer_product = [[    0     0     0 ...     0     0     0]\n",
      " [  200   201   202 ...   397   398   399]\n",
      " [  400   402   404 ...   794   796   798]\n",
      " ...\n",
      " [39400 39597 39794 ... 78209 78406 78603]\n",
      " [39600 39798 39996 ... 78606 78804 79002]\n",
      " [39800 39999 40198 ... 79003 79202 79401]]\n",
      "\n",
      "Computation time = 0.0ms\n"
     ]
    }
   ],
   "source": [
    "import time\n",
    "import numpy\n",
    "import array\n",
    "a = array.array('i')\n",
    "for i in range(200):\n",
    "    a.append(i);\n",
    "b = array.array('i')\n",
    "for i in range(200, 400):\n",
    "    b.append(i)\n",
    "# classic outer product of vectors implementation \n",
    "tic = time.process_time()\n",
    "outer_product = numpy.zeros((200, 200))\n",
    "for i in range(len(a)):\n",
    "   for j in range(len(b)):\n",
    "        outer_product[i][j]= a[i]*b[j]\n",
    "        toc = time.process_time()\n",
    "print(\"outer_product = \"+ str(outer_product));\n",
    "print(\"Computation time = \"+str(1000*(toc - tic ))+\"ms\")\n",
    "n_tic = time.process_time()\n",
    "outer_product = numpy.outer(a, b)\n",
    "n_toc = time.process_time()\n",
    "print(\"outer_product = \"+str(outer_product));\n",
    "print(\"\\nComputation time = \"+str(1000*(n_toc - n_tic ))+\"ms\")\n",
    "\n"
   ]
  },
  {
   "cell_type": "markdown",
   "metadata": {},
   "source": [
    "# Element wise Product:\n",
    "\n",
    "Element-wise multiplication of two matrices is the algebraic operation in which each element of first matrix is multiplied by its corresponding element in the later matrix.\n",
    "\n",
    "Dimension of the matrices should be same.\n",
    "\n",
    "Consider two matrices a and b, index of an element in a is i and j then a(i, j) is multiplied with b(i, j) respectively "
   ]
  },
  {
   "cell_type": "code",
   "execution_count": 27,
   "metadata": {},
   "outputs": [],
   "source": [
    "import time\n",
    "import numpy\n",
    "import array\n",
    "a = array.array('i')\n",
    "for i in range(50000):\n",
    "    a.append(i);\n",
    "b = array.array('i')\n",
    "for i in range(50000, 100000):\n",
    "    b.append(i)\n",
    "# classic element wise product of vectors implementation \n",
    "vector = numpy.zeros((50000))\n",
    "tic = time.process_time()\n",
    "for i in range(len(a)):\n",
    "      vector[i]= a[i]*b[i]\n"
   ]
  },
  {
   "cell_type": "code",
   "execution_count": 28,
   "metadata": {},
   "outputs": [
    {
     "name": "stdout",
     "output_type": "stream",
     "text": [
      "Element wise Product = [0.00000000e+00 5.00010000e+04 1.00004000e+05 ... 4.99955001e+09\n",
      " 4.99970000e+09 4.99985000e+09]\n",
      "\n",
      "Computation time = 31.25ms\n",
      "Element wise Product = [        0     50001    100004 ... 704582713 704732708 704882705]\n",
      "\n",
      "Computation time = 0.0ms\n"
     ]
    }
   ],
   "source": [
    "toc = time.process_time()\n",
    "print(\"Element wise Product = \"+ str(vector));\n",
    "print(\"\\nComputation time = \"+str(1000*(toc - tic ))+\"ms\")\n",
    "n_tic = time.process_time()\n",
    "vector = numpy.multiply(a, b)\n",
    "n_toc = time.process_time()\n",
    "print(\"Element wise Product = \"+str(vector));\n",
    "print(\"\\nComputation time = \"+str(1000*(n_toc - n_tic ))+\"ms\")\n"
   ]
  },
  {
   "cell_type": "code",
   "execution_count": 30,
   "metadata": {},
   "outputs": [],
   "source": [
    "# Statistics and probability  concepts for data science"
   ]
  },
  {
   "cell_type": "markdown",
   "metadata": {},
   "source": [
    "Data is the information collected through different sources which can be qualitative or quantitative in nature.\n",
    "\n",
    "Mostly, the data collected is used to analyze and draw insights on a particular topic.\n",
    "\n",
    "For example:\n",
    "\n",
    "1. Cylinder size, mileage, color, etc. for the sale of a car\n",
    "2.If the cells in the body are malignant or benign to detect Cancer \n",
    "\n",
    "Types of Data\n",
    "\n",
    "        Numerical Data\n",
    "\n",
    "            Numerical data is the information in numbers i.e. numeric which poses as a quantitative measurement of things.\n",
    "\n",
    "            For example:\n",
    "            Heights and weights of people\n",
    "            Stock Prices\n",
    "\n",
    "        Discrete Data\n",
    "\n",
    "            Discrete data is the information that often counts of some event i.e. can only take specific values. These are often integer-based, but not necessarily.\n",
    "\n",
    "            For example:\n",
    "            Number of times a coin was flipped\n",
    "            The number of customers who have bought different products\n",
    "            This data type is mainly used for simple statistical analysis because it’s easy to summarize and compute.\n",
    "\n",
    "        Continuous Data\n",
    "\n",
    "            Continuous Data is the information that has the possibility of having infinite values i.e. can take any value within a range.\n",
    "\n",
    "            For example:\n",
    "            How many centimeters of rain fell on a given day\n",
    "\n",
    "        Categorical Data\n",
    "\n",
    "            This type of data is qualitative in nature which has no inherent mathematical significance. It is sort of a fixed value under which a unit of observation is assigned or “categorized”.\n",
    "            For example:\n",
    "            Gender\n",
    "            Binary Data (Yes/No)\n",
    "            Attributes of a vehicle like color, mileage, number of doors, etc.\n",
    "\n",
    "\n",
    "\n",
    "\n"
   ]
  },
  {
   "cell_type": "markdown",
   "metadata": {},
   "source": [
    "Ordinal Data\n",
    "\n",
    "This type of data is the combination of numerical and categorical data i.e. categorical data having some mathematical significance.\n",
    "\n",
    "For example:\n",
    "\n",
    "Restaurant ratings from 1-5, 1 being the lowest and 5 being the highest\n",
    "\n",
    "\n"
   ]
  },
  {
   "cell_type": "markdown",
   "metadata": {},
   "source": [
    "\n",
    "# STATISTICS:\n",
    "\n",
    "### Mean, Median and Mode\n",
    "\n",
    "### Mean\n",
    "In mathematics and statistics, the mean is the average of the numerical observations which is equal to the sum of the observations divided by the number of observations.\n",
    "\n"
   ]
  },
  {
   "cell_type": "markdown",
   "metadata": {},
   "source": [
    "### Median\n",
    "\n",
    "The median of the data, when arranged in ascending or descending value is the middle observation of the data i.e. the point separating the higher half to the lower half of the data.\n",
    "\n",
    "To calculate the median:\n",
    "\n",
    "Arrange the data in ascending or descending order.\n",
    "an odd number of data points: the middle value is the median.\n",
    "even number of data points: the average of the two middle values is the median.\n"
   ]
  },
  {
   "cell_type": "markdown",
   "metadata": {},
   "source": [
    "Mode\n",
    "\n",
    "The mode of a set of data points is the most frequently occurring value.\n",
    "For example:\n",
    "5,2,6,5,1,1,2,5,3,8,5,9,5 are the set of data points. Here 5 is the mode because it’s occurring most frequently.\n"
   ]
  },
  {
   "cell_type": "markdown",
   "metadata": {},
   "source": [
    "The steps of calculating variance using an example:\n",
    "\n",
    "\n",
    "The steps of calculating variance using an example:\n",
    "Let’s find the variance of (1,4,5,4,8)\n"
   ]
  },
  {
   "cell_type": "code",
   "execution_count": null,
   "metadata": {},
   "outputs": [],
   "source": []
  },
  {
   "cell_type": "markdown",
   "metadata": {},
   "source": [
    "Find the mean of the data points i.e. (1 + 4 + 5 + 4 + 8)/5 = 4.4\n",
    "\n",
    "Find the differences from the mean i.e. (-3.4, -0.4, 0.6, -0.4, 3.6)\n",
    "\n",
    "Find the squared differences i.e. (11.56, 0.16, 0.36, 0.16, 12.96)\n",
    "\n",
    "Find the average of the squared differences i.e. 11.56+0.16+0.36+0.16+12.96/5=5.04\n",
    "\n",
    "The formula for the same is:"
   ]
  },
  {
   "cell_type": "markdown",
   "metadata": {},
   "source": [
    "# Standard Deviation\n",
    "\n",
    "Standard deviation is a measure of dispersement in statistics. “Dispersement” tells you how much your data is spread out. Specifically, it shows you how much your data is spread out around the mean or average. For example, are all your scores close to the average? Or are lots of scores way above (or way below) the average score?"
   ]
  },
  {
   "cell_type": "markdown",
   "metadata": {},
   "source": [
    "Population Data V/s Sample Data"
   ]
  },
  {
   "cell_type": "markdown",
   "metadata": {},
   "source": [
    "Population data refers to the complete data set whereas sample data refers to a part of the population data which is used for analysis. Sampling is done to make analysis easier.\n",
    "When using sample data for analysis, the formula of variance is slightly different. If there are total n samples we divide by n-1 instead of n:\n",
    "\n"
   ]
  },
  {
   "cell_type": "markdown",
   "metadata": {},
   "source": [
    "# PROBABILITY\n",
    "\n",
    "Probability denotes the possibility of something happening. It is a mathematical concept that predicts how likely events are to occur. The \n",
    "\n",
    "probability values are expressed between 0 and 1. The definition of probability is the degree to which something is likely to occur. This fundamental theory of probability is also applied to probability distributions.\n",
    "\n",
    "For example:\n",
    "The probability of the coin showing heads when it’s flipped is 0.5.\n"
   ]
  },
  {
   "cell_type": "markdown",
   "metadata": {},
   "source": [
    "# Conditional Probability\n",
    "\n",
    "Conditional probability is the probability of an event occurring provided another event has already occurred.\n",
    "\n",
    "For example:\n",
    "\n",
    "The students of a class have given two tests of the subject mathematics. In the first test, 60% of the students pass while only 40% of the students passed both the tests. What percentage of students who passed the first test, cleared the second test?\n"
   ]
  },
  {
   "cell_type": "markdown",
   "metadata": {},
   "source": []
  }
 ],
 "metadata": {
  "kernelspec": {
   "display_name": "venv",
   "language": "python",
   "name": "python3"
  },
  "language_info": {
   "codemirror_mode": {
    "name": "ipython",
    "version": 3
   },
   "file_extension": ".py",
   "mimetype": "text/x-python",
   "name": "python",
   "nbconvert_exporter": "python",
   "pygments_lexer": "ipython3",
   "version": "3.12.1"
  }
 },
 "nbformat": 4,
 "nbformat_minor": 2
}
