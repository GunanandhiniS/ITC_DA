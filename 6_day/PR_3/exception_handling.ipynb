{
 "cells": [
  {
   "cell_type": "code",
   "execution_count": 1,
   "metadata": {},
   "outputs": [
    {
     "name": "stdout",
     "output_type": "stream",
     "text": [
      "hello\n"
     ]
    }
   ],
   "source": [
    "print(\"hello\")"
   ]
  },
  {
   "cell_type": "markdown",
   "metadata": {},
   "source": [
    "### Exception Handling."
   ]
  },
  {
   "cell_type": "markdown",
   "metadata": {},
   "source": [
    "Exception can be said to be any abnormal condition in a program resulting to the disruption in the flow of the program.\n",
    "\n",
    "Whenever an exception occurs the program halts the execution and thus further code is not executed. Thus exception is that error which python script is unable to tackle with.\n",
    "\n",
    "Exception in a code can also be handled. In case it is not handled, then the code is not executed further and hence execution stops when exception occurs."
   ]
  },
  {
   "cell_type": "code",
   "execution_count": 3,
   "metadata": {},
   "outputs": [
    {
     "name": "stdout",
     "output_type": "stream",
     "text": [
      "The \"try\" statement\n",
      "*******************\n",
      "\n",
      "The \"try\" statement specifies exception handlers and/or cleanup code\n",
      "for a group of statements:\n",
      "\n",
      "   try_stmt  ::= try1_stmt | try2_stmt | try3_stmt\n",
      "   try1_stmt ::= \"try\" \":\" suite\n",
      "                 (\"except\" [expression [\"as\" identifier]] \":\" suite)+\n",
      "                 [\"else\" \":\" suite]\n",
      "                 [\"finally\" \":\" suite]\n",
      "   try2_stmt ::= \"try\" \":\" suite\n",
      "                 (\"except\" \"*\" expression [\"as\" identifier] \":\" suite)+\n",
      "                 [\"else\" \":\" suite]\n",
      "                 [\"finally\" \":\" suite]\n",
      "   try3_stmt ::= \"try\" \":\" suite\n",
      "                 \"finally\" \":\" suite\n",
      "\n",
      "Additional information on exceptions can be found in section\n",
      "Exceptions, and information on using the \"raise\" statement to generate\n",
      "exceptions may be found in section The raise statement.\n",
      "\n",
      "\n",
      "\"except\" clause\n",
      "===============\n",
      "\n",
      "The \"except\" clause(s) specify one or more exception handlers. When no\n",
      "exception occurs in the \"try\" clause, no exception handler is\n",
      "executed. When an exception occurs in the \"try\" suite, a search for an\n",
      "exception handler is started. This search inspects the \"except\"\n",
      "clauses in turn until one is found that matches the exception. An\n",
      "expression-less \"except\" clause, if present, must be last; it matches\n",
      "any exception. For an \"except\" clause with an expression, that\n",
      "expression is evaluated, and the clause matches the exception if the\n",
      "resulting object is “compatible” with the exception.  An object is\n",
      "compatible with an exception if the object is the class or a *non-\n",
      "virtual base class* of the exception object, or a tuple containing an\n",
      "item that is the class or a non-virtual base class of the exception\n",
      "object.\n",
      "\n",
      "If no \"except\" clause matches the exception, the search for an\n",
      "exception handler continues in the surrounding code and on the\n",
      "invocation stack.  [1]\n",
      "\n",
      "If the evaluation of an expression in the header of an \"except\" clause\n",
      "raises an exception, the original search for a handler is canceled and\n",
      "a search starts for the new exception in the surrounding code and on\n",
      "the call stack (it is treated as if the entire \"try\" statement raised\n",
      "the exception).\n",
      "\n",
      "When a matching \"except\" clause is found, the exception is assigned to\n",
      "the target specified after the \"as\" keyword in that \"except\" clause,\n",
      "if present, and the \"except\" clause’s suite is executed. All \"except\"\n",
      "clauses must have an executable block. When the end of this block is\n",
      "reached, execution continues normally after the entire \"try\"\n",
      "statement. (This means that if two nested handlers exist for the same\n",
      "exception, and the exception occurs in the \"try\" clause of the inner\n",
      "handler, the outer handler will not handle the exception.)\n",
      "\n",
      "When an exception has been assigned using \"as target\", it is cleared\n",
      "at the end of the \"except\" clause.  This is as if\n",
      "\n",
      "   except E as N:\n",
      "       foo\n",
      "\n",
      "was translated to\n",
      "\n",
      "   except E as N:\n",
      "       try:\n",
      "           foo\n",
      "       finally:\n",
      "           del N\n",
      "\n",
      "This means the exception must be assigned to a different name to be\n",
      "able to refer to it after the \"except\" clause. Exceptions are cleared\n",
      "because with the traceback attached to them, they form a reference\n",
      "cycle with the stack frame, keeping all locals in that frame alive\n",
      "until the next garbage collection occurs.\n",
      "\n",
      "Before an \"except\" clause’s suite is executed, the exception is stored\n",
      "in the \"sys\" module, where it can be accessed from within the body of\n",
      "the \"except\" clause by calling \"sys.exception()\". When leaving an\n",
      "exception handler, the exception stored in the \"sys\" module is reset\n",
      "to its previous value:\n",
      "\n",
      "   >>> print(sys.exception())\n",
      "   None\n",
      "   >>> try:\n",
      "   ...     raise TypeError\n",
      "   ... except:\n",
      "   ...     print(repr(sys.exception()))\n",
      "   ...     try:\n",
      "   ...          raise ValueError\n",
      "   ...     except:\n",
      "   ...         print(repr(sys.exception()))\n",
      "   ...     print(repr(sys.exception()))\n",
      "   ...\n",
      "   TypeError()\n",
      "   ValueError()\n",
      "   TypeError()\n",
      "   >>> print(sys.exception())\n",
      "   None\n",
      "\n",
      "\n",
      "\"except*\" clause\n",
      "================\n",
      "\n",
      "The \"except*\" clause(s) are used for handling \"ExceptionGroup\"s. The\n",
      "exception type for matching is interpreted as in the case of \"except\",\n",
      "but in the case of exception groups we can have partial matches when\n",
      "the type matches some of the exceptions in the group. This means that\n",
      "multiple \"except*\" clauses can execute, each handling part of the\n",
      "exception group. Each clause executes at most once and handles an\n",
      "exception group of all matching exceptions.  Each exception in the\n",
      "group is handled by at most one \"except*\" clause, the first that\n",
      "matches it.\n",
      "\n",
      "   >>> try:\n",
      "   ...     raise ExceptionGroup(\"eg\",\n",
      "   ...         [ValueError(1), TypeError(2), OSError(3), OSError(4)])\n",
      "   ... except* TypeError as e:\n",
      "   ...     print(f'caught {type(e)} with nested {e.exceptions}')\n",
      "   ... except* OSError as e:\n",
      "   ...     print(f'caught {type(e)} with nested {e.exceptions}')\n",
      "   ...\n",
      "   caught <class 'ExceptionGroup'> with nested (TypeError(2),)\n",
      "   caught <class 'ExceptionGroup'> with nested (OSError(3), OSError(4))\n",
      "     + Exception Group Traceback (most recent call last):\n",
      "     |   File \"<stdin>\", line 2, in <module>\n",
      "     | ExceptionGroup: eg\n",
      "     +-+---------------- 1 ----------------\n",
      "       | ValueError: 1\n",
      "       +------------------------------------\n",
      "\n",
      "Any remaining exceptions that were not handled by any \"except*\" clause\n",
      "are re-raised at the end, along with all exceptions that were raised\n",
      "from within the \"except*\" clauses. If this list contains more than one\n",
      "exception to reraise, they are combined into an exception group.\n",
      "\n",
      "If the raised exception is not an exception group and its type matches\n",
      "one of the \"except*\" clauses, it is caught and wrapped by an exception\n",
      "group with an empty message string.\n",
      "\n",
      "   >>> try:\n",
      "   ...     raise BlockingIOError\n",
      "   ... except* BlockingIOError as e:\n",
      "   ...     print(repr(e))\n",
      "   ...\n",
      "   ExceptionGroup('', (BlockingIOError()))\n",
      "\n",
      "An \"except*\" clause must have a matching type, and this type cannot be\n",
      "a subclass of \"BaseExceptionGroup\". It is not possible to mix \"except\"\n",
      "and \"except*\" in the same \"try\". \"break\", \"continue\" and \"return\"\n",
      "cannot appear in an \"except*\" clause.\n",
      "\n",
      "\n",
      "\"else\" clause\n",
      "=============\n",
      "\n",
      "The optional \"else\" clause is executed if the control flow leaves the\n",
      "\"try\" suite, no exception was raised, and no \"return\", \"continue\", or\n",
      "\"break\" statement was executed.  Exceptions in the \"else\" clause are\n",
      "not handled by the preceding \"except\" clauses.\n",
      "\n",
      "\n",
      "\"finally\" clause\n",
      "================\n",
      "\n",
      "If \"finally\" is present, it specifies a ‘cleanup’ handler.  The \"try\"\n",
      "clause is executed, including any \"except\" and \"else\" clauses.  If an\n",
      "exception occurs in any of the clauses and is not handled, the\n",
      "exception is temporarily saved. The \"finally\" clause is executed.  If\n",
      "there is a saved exception it is re-raised at the end of the \"finally\"\n",
      "clause.  If the \"finally\" clause raises another exception, the saved\n",
      "exception is set as the context of the new exception. If the \"finally\"\n",
      "clause executes a \"return\", \"break\" or \"continue\" statement, the saved\n",
      "exception is discarded:\n",
      "\n",
      "   >>> def f():\n",
      "   ...     try:\n",
      "   ...         1/0\n",
      "   ...     finally:\n",
      "   ...         return 42\n",
      "   ...\n",
      "   >>> f()\n",
      "   42\n",
      "\n",
      "The exception information is not available to the program during\n",
      "execution of the \"finally\" clause.\n",
      "\n",
      "When a \"return\", \"break\" or \"continue\" statement is executed in the\n",
      "\"try\" suite of a \"try\"…\"finally\" statement, the \"finally\" clause is\n",
      "also executed ‘on the way out.’\n",
      "\n",
      "The return value of a function is determined by the last \"return\"\n",
      "statement executed.  Since the \"finally\" clause always executes, a\n",
      "\"return\" statement executed in the \"finally\" clause will always be the\n",
      "last one executed:\n",
      "\n",
      "   >>> def foo():\n",
      "   ...     try:\n",
      "   ...         return 'try'\n",
      "   ...     finally:\n",
      "   ...         return 'finally'\n",
      "   ...\n",
      "   >>> foo()\n",
      "   'finally'\n",
      "\n",
      "Changed in version 3.8: Prior to Python 3.8, a \"continue\" statement\n",
      "was illegal in the \"finally\" clause due to a problem with the\n",
      "implementation.\n",
      "\n",
      "Related help topics: EXCEPTIONS\n",
      "\n"
     ]
    }
   ],
   "source": [
    "help('except')"
   ]
  },
  {
   "cell_type": "code",
   "execution_count": 4,
   "metadata": {},
   "outputs": [
    {
     "name": "stdout",
     "output_type": "stream",
     "text": [
      "Help on class Exception in module builtins:\n",
      "\n",
      "class Exception(BaseException)\n",
      " |  Common base class for all non-exit exceptions.\n",
      " |\n",
      " |  Method resolution order:\n",
      " |      Exception\n",
      " |      BaseException\n",
      " |      object\n",
      " |\n",
      " |  Built-in subclasses:\n",
      " |      ArithmeticError\n",
      " |      AssertionError\n",
      " |      AttributeError\n",
      " |      BufferError\n",
      " |      ... and 16 other subclasses\n",
      " |\n",
      " |  Methods defined here:\n",
      " |\n",
      " |  __init__(self, /, *args, **kwargs)\n",
      " |      Initialize self.  See help(type(self)) for accurate signature.\n",
      " |\n",
      " |  ----------------------------------------------------------------------\n",
      " |  Static methods defined here:\n",
      " |\n",
      " |  __new__(*args, **kwargs) from builtins.type\n",
      " |      Create and return a new object.  See help(type) for accurate signature.\n",
      " |\n",
      " |  ----------------------------------------------------------------------\n",
      " |  Methods inherited from BaseException:\n",
      " |\n",
      " |  __delattr__(self, name, /)\n",
      " |      Implement delattr(self, name).\n",
      " |\n",
      " |  __getattribute__(self, name, /)\n",
      " |      Return getattr(self, name).\n",
      " |\n",
      " |  __reduce__(...)\n",
      " |      Helper for pickle.\n",
      " |\n",
      " |  __repr__(self, /)\n",
      " |      Return repr(self).\n",
      " |\n",
      " |  __setattr__(self, name, value, /)\n",
      " |      Implement setattr(self, name, value).\n",
      " |\n",
      " |  __setstate__(...)\n",
      " |\n",
      " |  __str__(self, /)\n",
      " |      Return str(self).\n",
      " |\n",
      " |  add_note(...)\n",
      " |      Exception.add_note(note) --\n",
      " |      add a note to the exception\n",
      " |\n",
      " |  with_traceback(...)\n",
      " |      Exception.with_traceback(tb) --\n",
      " |      set self.__traceback__ to tb and return self.\n",
      " |\n",
      " |  ----------------------------------------------------------------------\n",
      " |  Data descriptors inherited from BaseException:\n",
      " |\n",
      " |  __cause__\n",
      " |      exception cause\n",
      " |\n",
      " |  __context__\n",
      " |      exception context\n",
      " |\n",
      " |  __dict__\n",
      " |\n",
      " |  __suppress_context__\n",
      " |\n",
      " |  __traceback__\n",
      " |\n",
      " |  args\n",
      "\n"
     ]
    }
   ],
   "source": [
    "help(Exception)"
   ]
  },
  {
   "cell_type": "code",
   "execution_count": 5,
   "metadata": {},
   "outputs": [
    {
     "data": {
      "text/plain": [
       "['__cause__',\n",
       " '__class__',\n",
       " '__context__',\n",
       " '__delattr__',\n",
       " '__dict__',\n",
       " '__dir__',\n",
       " '__doc__',\n",
       " '__eq__',\n",
       " '__format__',\n",
       " '__ge__',\n",
       " '__getattribute__',\n",
       " '__getstate__',\n",
       " '__gt__',\n",
       " '__hash__',\n",
       " '__init__',\n",
       " '__init_subclass__',\n",
       " '__le__',\n",
       " '__lt__',\n",
       " '__ne__',\n",
       " '__new__',\n",
       " '__reduce__',\n",
       " '__reduce_ex__',\n",
       " '__repr__',\n",
       " '__setattr__',\n",
       " '__setstate__',\n",
       " '__sizeof__',\n",
       " '__str__',\n",
       " '__subclasshook__',\n",
       " '__suppress_context__',\n",
       " '__traceback__',\n",
       " 'add_note',\n",
       " 'args',\n",
       " 'with_traceback']"
      ]
     },
     "execution_count": 5,
     "metadata": {},
     "output_type": "execute_result"
    }
   ],
   "source": [
    "dir(Exception)"
   ]
  },
  {
   "cell_type": "code",
   "execution_count": 6,
   "metadata": {},
   "outputs": [
    {
     "name": "stdout",
     "output_type": "stream",
     "text": [
      "['ArithmeticError', 'AssertionError', 'AttributeError', 'BlockingIOError', 'BrokenPipeError', 'BufferError', 'ChildProcessError', 'ConnectionAbortedError', 'ConnectionError', 'ConnectionRefusedError', 'ConnectionResetError', 'EOFError', 'EnvironmentError', 'FileExistsError', 'FileNotFoundError', 'FloatingPointError', 'IOError', 'ImportError', 'IndentationError', 'IndexError', 'InterruptedError', 'IsADirectoryError', 'KeyError', 'LookupError', 'MemoryError', 'ModuleNotFoundError', 'NameError', 'NotADirectoryError', 'NotImplementedError', 'OSError', 'OverflowError', 'PermissionError', 'ProcessLookupError', 'RecursionError', 'ReferenceError', 'RuntimeError', 'SyntaxError', 'SystemError', 'TabError', 'TimeoutError', 'TypeError', 'UnboundLocalError', 'UnicodeDecodeError', 'UnicodeEncodeError', 'UnicodeError', 'UnicodeTranslateError', 'ValueError', 'WindowsError', 'ZeroDivisionError']\n"
     ]
    }
   ],
   "source": [
    "import builtins\n",
    "\n",
    "# Use dir() to list attributes of the builtins module\n",
    "builtin_exceptions = [name for name in dir(builtins) if name.endswith('Error')]\n",
    "\n",
    "# Display the list of built-in exception classes\n",
    "print(builtin_exceptions)\n"
   ]
  },
  {
   "cell_type": "code",
   "execution_count": 8,
   "metadata": {},
   "outputs": [
    {
     "name": "stdout",
     "output_type": "stream",
     "text": [
      "Help on class ArithmeticError in module builtins:\n",
      "\n",
      "class ArithmeticError(Exception)\n",
      " |  Base class for arithmetic errors.\n",
      " |\n",
      " |  Method resolution order:\n",
      " |      ArithmeticError\n",
      " |      Exception\n",
      " |      BaseException\n",
      " |      object\n",
      " |\n",
      " |  Built-in subclasses:\n",
      " |      FloatingPointError\n",
      " |      OverflowError\n",
      " |      ZeroDivisionError\n",
      " |\n",
      " |  Methods defined here:\n",
      " |\n",
      " |  __init__(self, /, *args, **kwargs)\n",
      " |      Initialize self.  See help(type(self)) for accurate signature.\n",
      " |\n",
      " |  ----------------------------------------------------------------------\n",
      " |  Static methods defined here:\n",
      " |\n",
      " |  __new__(*args, **kwargs) from builtins.type\n",
      " |      Create and return a new object.  See help(type) for accurate signature.\n",
      " |\n",
      " |  ----------------------------------------------------------------------\n",
      " |  Methods inherited from BaseException:\n",
      " |\n",
      " |  __delattr__(self, name, /)\n",
      " |      Implement delattr(self, name).\n",
      " |\n",
      " |  __getattribute__(self, name, /)\n",
      " |      Return getattr(self, name).\n",
      " |\n",
      " |  __reduce__(...)\n",
      " |      Helper for pickle.\n",
      " |\n",
      " |  __repr__(self, /)\n",
      " |      Return repr(self).\n",
      " |\n",
      " |  __setattr__(self, name, value, /)\n",
      " |      Implement setattr(self, name, value).\n",
      " |\n",
      " |  __setstate__(...)\n",
      " |\n",
      " |  __str__(self, /)\n",
      " |      Return str(self).\n",
      " |\n",
      " |  add_note(...)\n",
      " |      Exception.add_note(note) --\n",
      " |      add a note to the exception\n",
      " |\n",
      " |  with_traceback(...)\n",
      " |      Exception.with_traceback(tb) --\n",
      " |      set self.__traceback__ to tb and return self.\n",
      " |\n",
      " |  ----------------------------------------------------------------------\n",
      " |  Data descriptors inherited from BaseException:\n",
      " |\n",
      " |  __cause__\n",
      " |      exception cause\n",
      " |\n",
      " |  __context__\n",
      " |      exception context\n",
      " |\n",
      " |  __dict__\n",
      " |\n",
      " |  __suppress_context__\n",
      " |\n",
      " |  __traceback__\n",
      " |\n",
      " |  args\n",
      "\n"
     ]
    }
   ],
   "source": [
    "help(builtins.ArithmeticError)"
   ]
  },
  {
   "cell_type": "markdown",
   "metadata": {},
   "source": [
    "# Hierarchy Of Exception:\n",
    "\n",
    "ZeroDivisionError: Occurs when a number is divided by zero.\n",
    "\n",
    "NameError: It occurs when a name is not found. It may be local or global.\n",
    "\n",
    "IndentationError: If incorrect indentation is given.\n",
    "\n",
    "IOError: It occurs when Input Output operation fails.\n",
    "\n",
    "EOFError: It occurs when end of file is reached and yet operations are being performed\n",
    "\n"
   ]
  },
  {
   "cell_type": "markdown",
   "metadata": {},
   "source": [
    "The suspicious code can be handled by using the try block. Enclose the code which raises an exception inside the try block. \n",
    "\n",
    "The try block is followed except statement. It is then further followed by statements which are executed during exception and in case if exception does not occur.\n"
   ]
  },
  {
   "cell_type": "markdown",
   "metadata": {},
   "source": [
    "Syntax:\n",
    "\n",
    "try:  \n",
    "   malicious code  \n",
    "\n",
    "except Exception1:  \n",
    "\t execute code  \n",
    "....  \n",
    "....  \n",
    "\n",
    "except ExceptionN:  \n",
    "    execute code  \n",
    "\n",
    "else:  \n",
    "    In case of no exception, execute the else block code."
   ]
  },
  {
   "cell_type": "code",
   "execution_count": 9,
   "metadata": {},
   "outputs": [
    {
     "name": "stdout",
     "output_type": "stream",
     "text": [
      "The entry is a\n",
      "Oops! <class 'ValueError'> occurred.\n",
      "Next entry.\n",
      "\n",
      "The entry is 0\n",
      "Oops! <class 'ZeroDivisionError'> occurred.\n",
      "Next entry.\n",
      "\n",
      "The entry is 2\n",
      "The reciprocal of 2 is 0.5\n"
     ]
    }
   ],
   "source": [
    "import sys\n",
    "randomList = ['a', 0, 2]\n",
    "for entry in randomList:\n",
    "    try:\n",
    "        print(\"The entry is\", entry)\n",
    "        r = 1/int(entry)\n",
    "        break\n",
    "    except:\n",
    "        print(\"Oops!\", sys.exc_info()[0], \"occurred.\")\n",
    "        print(\"Next entry.\")\n",
    "        print()\n",
    "print(\"The reciprocal of\", entry, \"is\", r)"
   ]
  },
  {
   "cell_type": "markdown",
   "metadata": {},
   "source": [
    "# Except with no exception.\n",
    "\n",
    "Except statement can also be used without specifying Exception.\n",
    "\n",
    "Syntax:\n",
    "\n",
    "try:  \n",
    "\n",
    "        code  \n",
    "\n",
    "except:  \n",
    "\n",
    "        code to be executed in case exception occurs.  \n",
    "\n",
    "else:\n",
    "  \n",
    "        code to be executed in case exception does not occur.   "
   ]
  },
  {
   "cell_type": "markdown",
   "metadata": {},
   "source": [
    "# Declaring Multiple Exception\n",
    "\n",
    "Multiple Exceptions can be declared using the same except statement:\n",
    "\n",
    "Syntax:\n",
    "\n",
    "try:  \n",
    "    code  \n",
    "\n",
    "except Exception1,Exception2,Exception3,..,ExceptionN  \n",
    "    execute this code in case any Exception of these occur.  \n",
    "\n",
    "else:  \n",
    "    execute code in case no exception occurred.  \n"
   ]
  },
  {
   "cell_type": "markdown",
   "metadata": {},
   "source": [
    "# Raise an exception."
   ]
  },
  {
   "cell_type": "markdown",
   "metadata": {},
   "source": [
    "You can explicitly throw an exception in Python using ?raise? statement. raise will\n",
    "cause an exception to occur and thus execution control will stop in case it is not handled."
   ]
  },
  {
   "cell_type": "markdown",
   "metadata": {},
   "source": [
    "Syntax:\n",
    "\n",
    "raise Exception_class,<value>  "
   ]
  },
  {
   "cell_type": "markdown",
   "metadata": {},
   "source": []
  },
  {
   "cell_type": "code",
   "execution_count": 10,
   "metadata": {},
   "outputs": [
    {
     "name": "stdout",
     "output_type": "stream",
     "text": [
      "invalid literal for int() with base 10: 'rew'\n"
     ]
    }
   ],
   "source": [
    "try:\n",
    "    a = int(input(\"Enter a positive integer: \"))\n",
    "    if a <= 0:\n",
    "         raise ValueError(\"That is not a positive number!\")\n",
    "except ValueError as ve:\n",
    "    print(ve)"
   ]
  },
  {
   "cell_type": "markdown",
   "metadata": {},
   "source": [
    "i) To raise an exception, raise statement is used. It is followed by exception class name.\n",
    "\n",
    "ii) Exception can be provided with a value that can be given in the parenthesis. (here, Hello)\n",
    "\n",
    "iii) To access the value \"as\" keyword is used. \"e\" is used as a reference variable which stores the value of the exception."
   ]
  },
  {
   "cell_type": "code",
   "execution_count": 11,
   "metadata": {},
   "outputs": [
    {
     "name": "stdout",
     "output_type": "stream",
     "text": [
      "0.02\n"
     ]
    }
   ],
   "source": [
    "try:\n",
    "    num = int(input(\"Enter a number: \"))\n",
    "    assert num % 2 == 0\n",
    "except:\n",
    "    print(\"Not an even number!\")\n",
    "else:\n",
    "    reciprocal = 1/num\n",
    "    print(reciprocal)"
   ]
  },
  {
   "cell_type": "markdown",
   "metadata": {},
   "source": [
    "Finally Block:\n",
    "\n",
    "In case if there is any code which the user want to be executed, whether exception occurs or not then that code can be placed inside the finally block. \n",
    "\n",
    "Finally block will always be executed irrespective of the exception.\n",
    "\n",
    "Syntax:\n",
    "\n",
    "try:  \n",
    "    Code  \n",
    "\n",
    "finally:   \n",
    "    code which is must to be executed.  "
   ]
  },
  {
   "cell_type": "code",
   "execution_count": 13,
   "metadata": {},
   "outputs": [],
   "source": [
    "try:\n",
    "   f = open(\"test.txt\",encoding = 'utf-8')\n",
    "finally:\n",
    "   f.close()"
   ]
  },
  {
   "cell_type": "markdown",
   "metadata": {},
   "source": [
    "# Multiple Exceptions\n"
   ]
  },
  {
   "cell_type": "code",
   "execution_count": 14,
   "metadata": {},
   "outputs": [
    {
     "name": "stdout",
     "output_type": "stream",
     "text": [
      "The input is not supported.\n",
      "-8  is not a positive integer.\n",
      "The input is not supported.\n",
      "The input is not supported.\n"
     ]
    }
   ],
   "source": [
    "import math\n",
    "integers = ['orange',6,-8,'apple',2.10]\n",
    "for number in integers:\n",
    "    try:\n",
    "        number_factorial = math.factorial(number)\n",
    "    except TypeError:\n",
    "        print(\"The input is not supported.\")\n",
    "    except ValueError:\n",
    "        print( number,\" is not a positive integer.\")"
   ]
  },
  {
   "cell_type": "code",
   "execution_count": 15,
   "metadata": {},
   "outputs": [
    {
     "name": "stdout",
     "output_type": "stream",
     "text": [
      "The zero can't be divided\n",
      "The number is in the string format\n"
     ]
    }
   ],
   "source": [
    "import sys\n",
    "try:\n",
    "   n = 0\n",
    "   m = 2\n",
    "   c = m/n\n",
    "except(ZeroDivisionError) as e:\n",
    "    print(\"The zero can't be divided\")\n",
    "try:\n",
    "       n = 2\n",
    "       m = '3'\n",
    "       p = m+n\n",
    "except TypeError:\n",
    "    print('The number is in the string format')\n"
   ]
  },
  {
   "cell_type": "code",
   "execution_count": 16,
   "metadata": {},
   "outputs": [
    {
     "name": "stdout",
     "output_type": "stream",
     "text": [
      "unsupported operand type(s) for +: 'int' and 'str'\n",
      "The number is given in string format\n"
     ]
    }
   ],
   "source": [
    "try:\n",
    "    number = 2\n",
    "    number = number+'5'\n",
    "except(TypeError, SyntaxError, ValueError) as e:\n",
    "    print(e)\n",
    "    print(\"The number is given in string format\")"
   ]
  },
  {
   "cell_type": "code",
   "execution_count": 17,
   "metadata": {},
   "outputs": [
    {
     "name": "stdout",
     "output_type": "stream",
     "text": [
      "Error\n",
      "exception occured\n",
      "Invalid syntax\n"
     ]
    }
   ],
   "source": [
    "try:\n",
    "  print(x)\n",
    "except TypeError:\n",
    "  print(\"x is not defined\")\n",
    "except:\n",
    "  print(\"Error\")\n",
    "try:\n",
    "  print(a+b)\n",
    "except:\n",
    "  print(\"exception occured\")\n",
    "try:\n",
    "  print(hello)\n",
    "except SyntaxError as e:\n",
    "  print(\"Invalid syntax\")\n",
    "except:\n",
    "    print(\"Invalid syntax\")"
   ]
  },
  {
   "cell_type": "code",
   "execution_count": 20,
   "metadata": {},
   "outputs": [
    {
     "name": "stdout",
     "output_type": "stream",
     "text": [
      "This value is too large, try again!\n",
      "\n",
      "This value is too small, try again!\n",
      "\n",
      "This value is too small, try again!\n",
      "\n",
      "This value is too small, try again!\n",
      "\n",
      "This value is too small, try again!\n",
      "\n",
      "This value is too small, try again!\n",
      "\n",
      "Congratulations! You guessed it correctly.\n"
     ]
    }
   ],
   "source": [
    "class Error(Exception):\n",
    "    \"\"\"Base class for other exceptions\"\"\"\n",
    "    pass\n",
    "class ValueTooSmallError(Error):\n",
    "    \"\"\"Raised when the input value is too small\"\"\"\n",
    "    pass\n",
    "class ValueTooLargeError(Error):\n",
    "    \"\"\"Raised when the input value is too large\"\"\"\n",
    "    pass\n",
    "number = 10\n",
    "while True:\n",
    "    try:\n",
    "        i_num = int(input(\"Enter a number: \"))\n",
    "        if i_num < number:\n",
    "            raise ValueTooSmallError\n",
    "        elif i_num > number:\n",
    "            raise ValueTooLargeError\n",
    "        break\n",
    "    except ValueTooSmallError:\n",
    "        print(\"This value is too small, try again!\")\n",
    "        print()\n",
    "    except ValueTooLargeError:\n",
    "        print(\"This value is too large, try again!\")\n",
    "        print()\n",
    "print(\"Congratulations! You guessed it correctly.\")\n"
   ]
  },
  {
   "cell_type": "code",
   "execution_count": null,
   "metadata": {},
   "outputs": [],
   "source": []
  }
 ],
 "metadata": {
  "kernelspec": {
   "display_name": "venv",
   "language": "python",
   "name": "python3"
  },
  "language_info": {
   "codemirror_mode": {
    "name": "ipython",
    "version": 3
   },
   "file_extension": ".py",
   "mimetype": "text/x-python",
   "name": "python",
   "nbconvert_exporter": "python",
   "pygments_lexer": "ipython3",
   "version": "3.12.1"
  }
 },
 "nbformat": 4,
 "nbformat_minor": 2
}
