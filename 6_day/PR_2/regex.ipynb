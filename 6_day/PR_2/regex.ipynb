{
 "cells": [
  {
   "cell_type": "code",
   "execution_count": 101,
   "metadata": {},
   "outputs": [
    {
     "name": "stdout",
     "output_type": "stream",
     "text": [
      "hello\n"
     ]
    }
   ],
   "source": [
    "print(\"hello\")"
   ]
  },
  {
   "cell_type": "code",
   "execution_count": 102,
   "metadata": {},
   "outputs": [],
   "source": [
    "pip install openpyxl\n"
   ]
  },
  {
   "cell_type": "code",
   "execution_count": 4,
   "metadata": {},
   "outputs": [],
   "source": [
    "import pandas as pd"
   ]
  },
  {
   "cell_type": "code",
   "execution_count": 5,
   "metadata": {},
   "outputs": [],
   "source": [
    "df = pd.read_excel(\"Olympic Athletes.xlsx\")"
   ]
  },
  {
   "cell_type": "code",
   "execution_count": 8,
   "metadata": {},
   "outputs": [
    {
     "data": {
      "text/html": [
       "<div>\n",
       "<style scoped>\n",
       "    .dataframe tbody tr th:only-of-type {\n",
       "        vertical-align: middle;\n",
       "    }\n",
       "\n",
       "    .dataframe tbody tr th {\n",
       "        vertical-align: top;\n",
       "    }\n",
       "\n",
       "    .dataframe thead th {\n",
       "        text-align: right;\n",
       "    }\n",
       "</style>\n",
       "<table border=\"1\" class=\"dataframe\">\n",
       "  <thead>\n",
       "    <tr style=\"text-align: right;\">\n",
       "      <th></th>\n",
       "      <th>Athlete</th>\n",
       "      <th>Age</th>\n",
       "      <th>Country</th>\n",
       "      <th>Year</th>\n",
       "      <th>Closing Ceremony Date</th>\n",
       "      <th>Sport</th>\n",
       "      <th>Gold Medals</th>\n",
       "      <th>Silver Medals</th>\n",
       "      <th>Bronze Medals</th>\n",
       "      <th>Total Medals</th>\n",
       "    </tr>\n",
       "  </thead>\n",
       "  <tbody>\n",
       "    <tr>\n",
       "      <th>0</th>\n",
       "      <td>Michael Phelps</td>\n",
       "      <td>23.0</td>\n",
       "      <td>United States</td>\n",
       "      <td>2008</td>\n",
       "      <td>2008-08-24</td>\n",
       "      <td>Swimming</td>\n",
       "      <td>8</td>\n",
       "      <td>0</td>\n",
       "      <td>0</td>\n",
       "      <td>8</td>\n",
       "    </tr>\n",
       "  </tbody>\n",
       "</table>\n",
       "</div>"
      ],
      "text/plain": [
       "          Athlete   Age        Country  Year Closing Ceremony Date     Sport  \\\n",
       "0  Michael Phelps  23.0  United States  2008            2008-08-24  Swimming   \n",
       "\n",
       "   Gold Medals  Silver Medals  Bronze Medals  Total Medals  \n",
       "0            8              0              0             8  "
      ]
     },
     "execution_count": 8,
     "metadata": {},
     "output_type": "execute_result"
    }
   ],
   "source": [
    "df.head(1)"
   ]
  },
  {
   "cell_type": "code",
   "execution_count": 106,
   "metadata": {},
   "outputs": [
    {
     "data": {
      "text/html": [
       "<div>\n",
       "<style scoped>\n",
       "    .dataframe tbody tr th:only-of-type {\n",
       "        vertical-align: middle;\n",
       "    }\n",
       "\n",
       "    .dataframe tbody tr th {\n",
       "        vertical-align: top;\n",
       "    }\n",
       "\n",
       "    .dataframe thead th {\n",
       "        text-align: right;\n",
       "    }\n",
       "</style>\n",
       "<table border=\"1\" class=\"dataframe\">\n",
       "  <thead>\n",
       "    <tr style=\"text-align: right;\">\n",
       "      <th></th>\n",
       "      <th>Athlete</th>\n",
       "      <th>Age</th>\n",
       "      <th>Country</th>\n",
       "      <th>Year</th>\n",
       "      <th>Closing Ceremony Date</th>\n",
       "      <th>Sport</th>\n",
       "      <th>Gold Medals</th>\n",
       "      <th>Silver Medals</th>\n",
       "      <th>Bronze Medals</th>\n",
       "      <th>Total Medals</th>\n",
       "    </tr>\n",
       "  </thead>\n",
       "  <tbody>\n",
       "    <tr>\n",
       "      <th>0</th>\n",
       "      <td>Michael Phelps</td>\n",
       "      <td>23.0</td>\n",
       "      <td>United States</td>\n",
       "      <td>2008</td>\n",
       "      <td>2008-08-24</td>\n",
       "      <td>Swimming</td>\n",
       "      <td>8</td>\n",
       "      <td>0</td>\n",
       "      <td>0</td>\n",
       "      <td>8</td>\n",
       "    </tr>\n",
       "    <tr>\n",
       "      <th>1</th>\n",
       "      <td>Michael Phelps</td>\n",
       "      <td>19.0</td>\n",
       "      <td>United States</td>\n",
       "      <td>2004</td>\n",
       "      <td>2004-08-29</td>\n",
       "      <td>Swimming</td>\n",
       "      <td>6</td>\n",
       "      <td>0</td>\n",
       "      <td>2</td>\n",
       "      <td>8</td>\n",
       "    </tr>\n",
       "    <tr>\n",
       "      <th>2</th>\n",
       "      <td>Michael Phelps</td>\n",
       "      <td>27.0</td>\n",
       "      <td>United States</td>\n",
       "      <td>2012</td>\n",
       "      <td>2012-08-12</td>\n",
       "      <td>Swimming</td>\n",
       "      <td>4</td>\n",
       "      <td>2</td>\n",
       "      <td>0</td>\n",
       "      <td>6</td>\n",
       "    </tr>\n",
       "    <tr>\n",
       "      <th>3</th>\n",
       "      <td>Natalie Coughlin</td>\n",
       "      <td>25.0</td>\n",
       "      <td>United States</td>\n",
       "      <td>2008</td>\n",
       "      <td>2008-08-24</td>\n",
       "      <td>Swimming</td>\n",
       "      <td>1</td>\n",
       "      <td>2</td>\n",
       "      <td>3</td>\n",
       "      <td>6</td>\n",
       "    </tr>\n",
       "    <tr>\n",
       "      <th>4</th>\n",
       "      <td>Aleksey Nemov</td>\n",
       "      <td>24.0</td>\n",
       "      <td>Russia</td>\n",
       "      <td>2000</td>\n",
       "      <td>2000-10-01</td>\n",
       "      <td>Gymnastics</td>\n",
       "      <td>2</td>\n",
       "      <td>1</td>\n",
       "      <td>3</td>\n",
       "      <td>6</td>\n",
       "    </tr>\n",
       "  </tbody>\n",
       "</table>\n",
       "</div>"
      ],
      "text/plain": [
       "            Athlete   Age        Country  Year Closing Ceremony Date  \\\n",
       "0    Michael Phelps  23.0  United States  2008            2008-08-24   \n",
       "1    Michael Phelps  19.0  United States  2004            2004-08-29   \n",
       "2    Michael Phelps  27.0  United States  2012            2012-08-12   \n",
       "3  Natalie Coughlin  25.0  United States  2008            2008-08-24   \n",
       "4     Aleksey Nemov  24.0         Russia  2000            2000-10-01   \n",
       "\n",
       "        Sport  Gold Medals  Silver Medals  Bronze Medals  Total Medals  \n",
       "0    Swimming            8              0              0             8  \n",
       "1    Swimming            6              0              2             8  \n",
       "2    Swimming            4              2              0             6  \n",
       "3    Swimming            1              2              3             6  \n",
       "4  Gymnastics            2              1              3             6  "
      ]
     },
     "execution_count": 106,
     "metadata": {},
     "output_type": "execute_result"
    }
   ],
   "source": [
    "df.head()"
   ]
  },
  {
   "cell_type": "code",
   "execution_count": 107,
   "metadata": {},
   "outputs": [
    {
     "data": {
      "text/html": [
       "<div>\n",
       "<style scoped>\n",
       "    .dataframe tbody tr th:only-of-type {\n",
       "        vertical-align: middle;\n",
       "    }\n",
       "\n",
       "    .dataframe tbody tr th {\n",
       "        vertical-align: top;\n",
       "    }\n",
       "\n",
       "    .dataframe thead th {\n",
       "        text-align: right;\n",
       "    }\n",
       "</style>\n",
       "<table border=\"1\" class=\"dataframe\">\n",
       "  <thead>\n",
       "    <tr style=\"text-align: right;\">\n",
       "      <th></th>\n",
       "      <th>Athlete</th>\n",
       "      <th>Age</th>\n",
       "      <th>Country</th>\n",
       "      <th>Year</th>\n",
       "      <th>Closing Ceremony Date</th>\n",
       "      <th>Sport</th>\n",
       "      <th>Gold Medals</th>\n",
       "      <th>Silver Medals</th>\n",
       "      <th>Bronze Medals</th>\n",
       "      <th>Total Medals</th>\n",
       "    </tr>\n",
       "  </thead>\n",
       "  <tbody>\n",
       "    <tr>\n",
       "      <th>8613</th>\n",
       "      <td>Olena Sadovnycha</td>\n",
       "      <td>32.0</td>\n",
       "      <td>Ukraine</td>\n",
       "      <td>2000</td>\n",
       "      <td>2000-10-01</td>\n",
       "      <td>Archery</td>\n",
       "      <td>0</td>\n",
       "      <td>1</td>\n",
       "      <td>0</td>\n",
       "      <td>1</td>\n",
       "    </tr>\n",
       "    <tr>\n",
       "      <th>8614</th>\n",
       "      <td>Kateryna Serdiuk</td>\n",
       "      <td>17.0</td>\n",
       "      <td>Ukraine</td>\n",
       "      <td>2000</td>\n",
       "      <td>2000-10-01</td>\n",
       "      <td>Archery</td>\n",
       "      <td>0</td>\n",
       "      <td>1</td>\n",
       "      <td>0</td>\n",
       "      <td>1</td>\n",
       "    </tr>\n",
       "    <tr>\n",
       "      <th>8615</th>\n",
       "      <td>Wietse van Alten</td>\n",
       "      <td>21.0</td>\n",
       "      <td>Netherlands</td>\n",
       "      <td>2000</td>\n",
       "      <td>2000-10-01</td>\n",
       "      <td>Archery</td>\n",
       "      <td>0</td>\n",
       "      <td>0</td>\n",
       "      <td>1</td>\n",
       "      <td>1</td>\n",
       "    </tr>\n",
       "    <tr>\n",
       "      <th>8616</th>\n",
       "      <td>Sandra Wagner-Sachse</td>\n",
       "      <td>31.0</td>\n",
       "      <td>Germany</td>\n",
       "      <td>2000</td>\n",
       "      <td>2000-10-01</td>\n",
       "      <td>Archery</td>\n",
       "      <td>0</td>\n",
       "      <td>0</td>\n",
       "      <td>1</td>\n",
       "      <td>1</td>\n",
       "    </tr>\n",
       "    <tr>\n",
       "      <th>8617</th>\n",
       "      <td>Rod White</td>\n",
       "      <td>23.0</td>\n",
       "      <td>United States</td>\n",
       "      <td>2000</td>\n",
       "      <td>2000-10-01</td>\n",
       "      <td>Archery</td>\n",
       "      <td>0</td>\n",
       "      <td>0</td>\n",
       "      <td>1</td>\n",
       "      <td>1</td>\n",
       "    </tr>\n",
       "  </tbody>\n",
       "</table>\n",
       "</div>"
      ],
      "text/plain": [
       "                   Athlete   Age        Country  Year Closing Ceremony Date  \\\n",
       "8613      Olena Sadovnycha  32.0        Ukraine  2000            2000-10-01   \n",
       "8614      Kateryna Serdiuk  17.0        Ukraine  2000            2000-10-01   \n",
       "8615      Wietse van Alten  21.0    Netherlands  2000            2000-10-01   \n",
       "8616  Sandra Wagner-Sachse  31.0        Germany  2000            2000-10-01   \n",
       "8617             Rod White  23.0  United States  2000            2000-10-01   \n",
       "\n",
       "        Sport  Gold Medals  Silver Medals  Bronze Medals  Total Medals  \n",
       "8613  Archery            0              1              0             1  \n",
       "8614  Archery            0              1              0             1  \n",
       "8615  Archery            0              0              1             1  \n",
       "8616  Archery            0              0              1             1  \n",
       "8617  Archery            0              0              1             1  "
      ]
     },
     "execution_count": 107,
     "metadata": {},
     "output_type": "execute_result"
    }
   ],
   "source": [
    "df.tail()"
   ]
  },
  {
   "cell_type": "code",
   "execution_count": 12,
   "metadata": {},
   "outputs": [
    {
     "data": {
      "text/html": [
       "<div>\n",
       "<style scoped>\n",
       "    .dataframe tbody tr th:only-of-type {\n",
       "        vertical-align: middle;\n",
       "    }\n",
       "\n",
       "    .dataframe tbody tr th {\n",
       "        vertical-align: top;\n",
       "    }\n",
       "\n",
       "    .dataframe thead th {\n",
       "        text-align: right;\n",
       "    }\n",
       "</style>\n",
       "<table border=\"1\" class=\"dataframe\">\n",
       "  <thead>\n",
       "    <tr style=\"text-align: right;\">\n",
       "      <th></th>\n",
       "      <th>Athlete</th>\n",
       "      <th>Age</th>\n",
       "      <th>Country</th>\n",
       "      <th>Year</th>\n",
       "      <th>Closing Ceremony Date</th>\n",
       "      <th>Sport</th>\n",
       "      <th>Gold Medals</th>\n",
       "      <th>Silver Medals</th>\n",
       "      <th>Bronze Medals</th>\n",
       "      <th>Total Medals</th>\n",
       "    </tr>\n",
       "  </thead>\n",
       "  <tbody>\n",
       "    <tr>\n",
       "      <th>4867</th>\n",
       "      <td>Guus Vogels</td>\n",
       "      <td>25.0</td>\n",
       "      <td>Netherlands</td>\n",
       "      <td>2000</td>\n",
       "      <td>2000-10-01</td>\n",
       "      <td>Hockey</td>\n",
       "      <td>1</td>\n",
       "      <td>0</td>\n",
       "      <td>0</td>\n",
       "      <td>1</td>\n",
       "    </tr>\n",
       "    <tr>\n",
       "      <th>894</th>\n",
       "      <td>Namiq Abdullayev</td>\n",
       "      <td>29.0</td>\n",
       "      <td>Azerbaijan</td>\n",
       "      <td>2000</td>\n",
       "      <td>2000-10-01</td>\n",
       "      <td>Wrestling</td>\n",
       "      <td>1</td>\n",
       "      <td>0</td>\n",
       "      <td>0</td>\n",
       "      <td>1</td>\n",
       "    </tr>\n",
       "    <tr>\n",
       "      <th>1202</th>\n",
       "      <td>Layne Beaubien</td>\n",
       "      <td>32.0</td>\n",
       "      <td>United States</td>\n",
       "      <td>2008</td>\n",
       "      <td>2008-08-24</td>\n",
       "      <td>Waterpolo</td>\n",
       "      <td>0</td>\n",
       "      <td>1</td>\n",
       "      <td>0</td>\n",
       "      <td>1</td>\n",
       "    </tr>\n",
       "  </tbody>\n",
       "</table>\n",
       "</div>"
      ],
      "text/plain": [
       "               Athlete   Age        Country  Year Closing Ceremony Date  \\\n",
       "4867       Guus Vogels  25.0    Netherlands  2000            2000-10-01   \n",
       "894   Namiq Abdullayev  29.0     Azerbaijan  2000            2000-10-01   \n",
       "1202    Layne Beaubien  32.0  United States  2008            2008-08-24   \n",
       "\n",
       "          Sport  Gold Medals  Silver Medals  Bronze Medals  Total Medals  \n",
       "4867     Hockey            1              0              0             1  \n",
       "894   Wrestling            1              0              0             1  \n",
       "1202  Waterpolo            0              1              0             1  "
      ]
     },
     "execution_count": 12,
     "metadata": {},
     "output_type": "execute_result"
    }
   ],
   "source": [
    "df.sample(3)"
   ]
  },
  {
   "cell_type": "code",
   "execution_count": 10,
   "metadata": {},
   "outputs": [
    {
     "data": {
      "text/plain": [
       "86180"
      ]
     },
     "execution_count": 10,
     "metadata": {},
     "output_type": "execute_result"
    }
   ],
   "source": [
    "df.size"
   ]
  },
  {
   "cell_type": "code",
   "execution_count": 110,
   "metadata": {},
   "outputs": [
    {
     "data": {
      "text/plain": [
       "(8618, 10)"
      ]
     },
     "execution_count": 110,
     "metadata": {},
     "output_type": "execute_result"
    }
   ],
   "source": [
    "df.shape"
   ]
  },
  {
   "cell_type": "code",
   "execution_count": 111,
   "metadata": {},
   "outputs": [
    {
     "data": {
      "text/plain": [
       "Index(['Athlete', 'Age', 'Country', 'Year', 'Closing Ceremony Date', 'Sport',\n",
       "       'Gold Medals', 'Silver Medals', 'Bronze Medals', 'Total Medals'],\n",
       "      dtype='object')"
      ]
     },
     "execution_count": 111,
     "metadata": {},
     "output_type": "execute_result"
    }
   ],
   "source": [
    "df.columns"
   ]
  },
  {
   "cell_type": "code",
   "execution_count": 14,
   "metadata": {},
   "outputs": [
    {
     "data": {
      "text/html": [
       "<div>\n",
       "<style scoped>\n",
       "    .dataframe tbody tr th:only-of-type {\n",
       "        vertical-align: middle;\n",
       "    }\n",
       "\n",
       "    .dataframe tbody tr th {\n",
       "        vertical-align: top;\n",
       "    }\n",
       "\n",
       "    .dataframe thead th {\n",
       "        text-align: right;\n",
       "    }\n",
       "</style>\n",
       "<table border=\"1\" class=\"dataframe\">\n",
       "  <thead>\n",
       "    <tr style=\"text-align: right;\">\n",
       "      <th></th>\n",
       "      <th>Athlete</th>\n",
       "      <th>Country</th>\n",
       "      <th>Sport</th>\n",
       "    </tr>\n",
       "  </thead>\n",
       "  <tbody>\n",
       "    <tr>\n",
       "      <th>0</th>\n",
       "      <td>Michael Phelps</td>\n",
       "      <td>United States</td>\n",
       "      <td>Swimming</td>\n",
       "    </tr>\n",
       "    <tr>\n",
       "      <th>1</th>\n",
       "      <td>Michael Phelps</td>\n",
       "      <td>United States</td>\n",
       "      <td>Swimming</td>\n",
       "    </tr>\n",
       "    <tr>\n",
       "      <th>2</th>\n",
       "      <td>Michael Phelps</td>\n",
       "      <td>United States</td>\n",
       "      <td>Swimming</td>\n",
       "    </tr>\n",
       "    <tr>\n",
       "      <th>3</th>\n",
       "      <td>Natalie Coughlin</td>\n",
       "      <td>United States</td>\n",
       "      <td>Swimming</td>\n",
       "    </tr>\n",
       "    <tr>\n",
       "      <th>4</th>\n",
       "      <td>Aleksey Nemov</td>\n",
       "      <td>Russia</td>\n",
       "      <td>Gymnastics</td>\n",
       "    </tr>\n",
       "    <tr>\n",
       "      <th>...</th>\n",
       "      <td>...</td>\n",
       "      <td>...</td>\n",
       "      <td>...</td>\n",
       "    </tr>\n",
       "    <tr>\n",
       "      <th>8613</th>\n",
       "      <td>Olena Sadovnycha</td>\n",
       "      <td>Ukraine</td>\n",
       "      <td>Archery</td>\n",
       "    </tr>\n",
       "    <tr>\n",
       "      <th>8614</th>\n",
       "      <td>Kateryna Serdiuk</td>\n",
       "      <td>Ukraine</td>\n",
       "      <td>Archery</td>\n",
       "    </tr>\n",
       "    <tr>\n",
       "      <th>8615</th>\n",
       "      <td>Wietse van Alten</td>\n",
       "      <td>Netherlands</td>\n",
       "      <td>Archery</td>\n",
       "    </tr>\n",
       "    <tr>\n",
       "      <th>8616</th>\n",
       "      <td>Sandra Wagner-Sachse</td>\n",
       "      <td>Germany</td>\n",
       "      <td>Archery</td>\n",
       "    </tr>\n",
       "    <tr>\n",
       "      <th>8617</th>\n",
       "      <td>Rod White</td>\n",
       "      <td>United States</td>\n",
       "      <td>Archery</td>\n",
       "    </tr>\n",
       "  </tbody>\n",
       "</table>\n",
       "<p>8618 rows × 3 columns</p>\n",
       "</div>"
      ],
      "text/plain": [
       "                   Athlete        Country       Sport\n",
       "0           Michael Phelps  United States    Swimming\n",
       "1           Michael Phelps  United States    Swimming\n",
       "2           Michael Phelps  United States    Swimming\n",
       "3         Natalie Coughlin  United States    Swimming\n",
       "4            Aleksey Nemov         Russia  Gymnastics\n",
       "...                    ...            ...         ...\n",
       "8613      Olena Sadovnycha        Ukraine     Archery\n",
       "8614      Kateryna Serdiuk        Ukraine     Archery\n",
       "8615      Wietse van Alten    Netherlands     Archery\n",
       "8616  Sandra Wagner-Sachse        Germany     Archery\n",
       "8617             Rod White  United States     Archery\n",
       "\n",
       "[8618 rows x 3 columns]"
      ]
     },
     "execution_count": 14,
     "metadata": {},
     "output_type": "execute_result"
    }
   ],
   "source": [
    "df[['Athlete','Country','Sport']]"
   ]
  },
  {
   "cell_type": "markdown",
   "metadata": {},
   "source": [
    "### Getting the first five letters of the country and save it in a different column."
   ]
  },
  {
   "cell_type": "code",
   "execution_count": 112,
   "metadata": {},
   "outputs": [],
   "source": [
    "import numpy as np"
   ]
  },
  {
   "cell_type": "code",
   "execution_count": 113,
   "metadata": {},
   "outputs": [],
   "source": [
    "df['First_five_letter_1'] = df['Country'].str.extract(r'(^w{5})')"
   ]
  },
  {
   "cell_type": "code",
   "execution_count": 114,
   "metadata": {},
   "outputs": [],
   "source": [
    "# import pandas as pd\n",
    "\n",
    "# # Assuming you have already read the data into the DataFrame 'df'\n",
    "\n",
    "# # Extract the first five letters of the 'Country' column using a regex\n",
    "# df['First_five_country'] = df['Country'].str.extract(r'^(.{5})')\n",
    "\n",
    "# # Display the first few rows of the DataFrame to check the new column\n",
    "# print(df.head())\n"
   ]
  },
  {
   "cell_type": "markdown",
   "metadata": {},
   "source": [
    "###  Alternate Method"
   ]
  },
  {
   "cell_type": "code",
   "execution_count": 115,
   "metadata": {},
   "outputs": [
    {
     "name": "stdout",
     "output_type": "stream",
     "text": [
      "            Athlete   Age        Country  Year Closing Ceremony Date  \\\n",
      "0    Michael Phelps  23.0  United States  2008            2008-08-24   \n",
      "1    Michael Phelps  19.0  United States  2004            2004-08-29   \n",
      "2    Michael Phelps  27.0  United States  2012            2012-08-12   \n",
      "3  Natalie Coughlin  25.0  United States  2008            2008-08-24   \n",
      "4     Aleksey Nemov  24.0         Russia  2000            2000-10-01   \n",
      "\n",
      "        Sport  Gold Medals  Silver Medals  Bronze Medals  Total Medals  \\\n",
      "0    Swimming            8              0              0             8   \n",
      "1    Swimming            6              0              2             8   \n",
      "2    Swimming            4              2              0             6   \n",
      "3    Swimming            1              2              3             6   \n",
      "4  Gymnastics            2              1              3             6   \n",
      "\n",
      "  First_five_letter_1 First_five_country_2  \n",
      "0                 NaN                Unite  \n",
      "1                 NaN                Unite  \n",
      "2                 NaN                Unite  \n",
      "3                 NaN                Unite  \n",
      "4                 NaN                Russi  \n"
     ]
    }
   ],
   "source": [
    "import pandas as pd\n",
    "\n",
    "# Assuming you have already read the data into the DataFrame 'df'\n",
    "\n",
    "# Extract the first five letters of the 'Country' column\n",
    "df['First_five_country_2'] = df['Country'].str[:5]\n",
    "\n",
    "# Display the first few rows of the DataFrame to check the new column\n",
    "print(df.head())\n"
   ]
  },
  {
   "cell_type": "code",
   "execution_count": 116,
   "metadata": {},
   "outputs": [
    {
     "data": {
      "text/plain": [
       "Index(['Athlete', 'Age', 'Country', 'Year', 'Closing Ceremony Date', 'Sport',\n",
       "       'Gold Medals', 'Silver Medals', 'Bronze Medals', 'Total Medals',\n",
       "       'First_five_letter_1', 'First_five_country_2'],\n",
       "      dtype='object')"
      ]
     },
     "execution_count": 116,
     "metadata": {},
     "output_type": "execute_result"
    }
   ],
   "source": [
    "df.columns"
   ]
  },
  {
   "cell_type": "code",
   "execution_count": 117,
   "metadata": {},
   "outputs": [
    {
     "data": {
      "text/plain": [
       "pandas.core.frame.DataFrame"
      ]
     },
     "execution_count": 117,
     "metadata": {},
     "output_type": "execute_result"
    }
   ],
   "source": [
    "type(df)"
   ]
  },
  {
   "cell_type": "code",
   "execution_count": 118,
   "metadata": {},
   "outputs": [
    {
     "data": {
      "text/plain": [
       "0       United States\n",
       "1       United States\n",
       "2       United States\n",
       "3       United States\n",
       "4              Russia\n",
       "            ...      \n",
       "8613          Ukraine\n",
       "8614          Ukraine\n",
       "8615      Netherlands\n",
       "8616          Germany\n",
       "8617    United States\n",
       "Name: Country, Length: 8618, dtype: object"
      ]
     },
     "execution_count": 118,
     "metadata": {},
     "output_type": "execute_result"
    }
   ],
   "source": [
    "df['Country']"
   ]
  },
  {
   "cell_type": "code",
   "execution_count": 119,
   "metadata": {},
   "outputs": [
    {
     "data": {
      "text/plain": [
       "4500    Great\n",
       "1884    Unite\n",
       "2515    Nethe\n",
       "6811    Ukrai\n",
       "2763    Austr\n",
       "Name: First_five_country_2, dtype: object"
      ]
     },
     "execution_count": 119,
     "metadata": {},
     "output_type": "execute_result"
    }
   ],
   "source": [
    "df['First_five_country_2'].sample(5)"
   ]
  },
  {
   "cell_type": "markdown",
   "metadata": {},
   "source": [
    "# Pandas Count:"
   ]
  },
  {
   "cell_type": "markdown",
   "metadata": {},
   "source": [
    "First we are counting the countries starting with character ‘N’.\n",
    " It returns two elements but not newyork because the character ‘n’ here is in lower case. you can add both Upper and Lower case by using [Nn]\n",
    "S=pd.Series([‘Norway','Colombi’,’Netherland','Japan','Puerto Rico','Russia’,’newyork'])\n",
    "S[S.str.count(r’(^N.*)')==1]\n",
    "We can use sum() function to find the total elements matching the pattern.\n",
    "S.str.count(r’(^N.*)').sum()\n"
   ]
  },
  {
   "cell_type": "code",
   "execution_count": 120,
   "metadata": {},
   "outputs": [
    {
     "name": "stdout",
     "output_type": "stream",
     "text": [
      "0         Norway\n",
      "2    Netherlands\n",
      "6       New York\n",
      "dtype: object\n",
      "Total matching elements: 3\n"
     ]
    }
   ],
   "source": [
    "import pandas as pd\n",
    "\n",
    "S = pd.Series(['Norway', 'Colombia', 'Netherlands', 'Japan', 'Puerto Rico', 'Russia', 'New York'])\n",
    "\n",
    "# Select elements in the Series where the pattern (^N.*) matches exactly once\n",
    "result_series = S[S.str.count(r'(^N.*)') == 1]\n",
    "\n",
    "# Display the result Series\n",
    "print(result_series)\n",
    "\n",
    "# Use sum() to find the total elements matching the pattern\n",
    "total_matching_elements = S.str.count(r'(^N.*)').sum()\n",
    "print(\"Total matching elements:\", total_matching_elements)\n"
   ]
  },
  {
   "cell_type": "markdown",
   "metadata": {},
   "source": [
    "    The S[S.str.count(r'(^N.*)') == 1] line filters the elements in the Series S where the pattern (^N.*) (starting with 'N') matches exactly once.\n",
    "\n",
    "    The S.str.count(r'(^N.*)').sum() line counts the occurrences of the pattern (^N.*) for each element in the Series and then sums those counts to get the total number of elements that match the pattern.\n",
    "\n",
    "Note: Ensure that your pattern and data match your specific use case. The provided pattern assumes you are looking for elements in the Series that start with the letter 'N'."
   ]
  },
  {
   "cell_type": "markdown",
   "metadata": {},
   "source": [
    "### Pandas Match"
   ]
  },
  {
   "cell_type": "markdown",
   "metadata": {},
   "source": [
    "match () function is equivalent to python’s re.match() and returns a boolean value. We are finding all the countries in pandas series starting with character ‘P’ (Upper case) .\n",
    "        \n",
    "        Get countries starting with letter P\n"
   ]
  },
  {
   "cell_type": "code",
   "execution_count": 20,
   "metadata": {},
   "outputs": [
    {
     "name": "stdout",
     "output_type": "stream",
     "text": [
      "Series([], dtype: object)\n"
     ]
    }
   ],
   "source": [
    "# import pandas as pd\n",
    "\n",
    "S = pd.Series(['Finland', 'Colombia', 'Florida', 'Japan', 'Puerto Rico', 'Russia', 'France'])\n",
    "\n",
    "# Select elements in the Series where the values start with 'P'\n",
    "# result_series = S[S.str.match(r'^P.*')]\n",
    "result_series = S[S.str.endswith(r'^*a')]\n",
    "\n",
    "\n",
    "# Display the result Series\n",
    "print(result_series)\n"
   ]
  },
  {
   "cell_type": "markdown",
   "metadata": {},
   "source": [
    "    S.str.match(r'^P.*') creates a boolean Series indicating whether each element starts with 'P'.\n",
    "    S[S.str.match(r'^P.*')] filters the original Series (S) based on this condition.\n",
    "\n",
    "Make sure your actual data and pattern match your specific use case. The provided pattern assumes you are looking for elements in the Series that start with the letter 'P'."
   ]
  },
  {
   "cell_type": "code",
   "execution_count": 122,
   "metadata": {},
   "outputs": [
    {
     "data": {
      "text/html": [
       "<div>\n",
       "<style scoped>\n",
       "    .dataframe tbody tr th:only-of-type {\n",
       "        vertical-align: middle;\n",
       "    }\n",
       "\n",
       "    .dataframe tbody tr th {\n",
       "        vertical-align: top;\n",
       "    }\n",
       "\n",
       "    .dataframe thead th {\n",
       "        text-align: right;\n",
       "    }\n",
       "</style>\n",
       "<table border=\"1\" class=\"dataframe\">\n",
       "  <thead>\n",
       "    <tr style=\"text-align: right;\">\n",
       "      <th></th>\n",
       "      <th>Athlete</th>\n",
       "      <th>Age</th>\n",
       "      <th>Country</th>\n",
       "      <th>Year</th>\n",
       "      <th>Closing Ceremony Date</th>\n",
       "      <th>Sport</th>\n",
       "      <th>Gold Medals</th>\n",
       "      <th>Silver Medals</th>\n",
       "      <th>Bronze Medals</th>\n",
       "      <th>Total Medals</th>\n",
       "      <th>First_five_letter_1</th>\n",
       "      <th>First_five_country_2</th>\n",
       "    </tr>\n",
       "  </thead>\n",
       "  <tbody>\n",
       "    <tr>\n",
       "      <th>20</th>\n",
       "      <td>Petria Thomas</td>\n",
       "      <td>28.0</td>\n",
       "      <td>Australia</td>\n",
       "      <td>2004</td>\n",
       "      <td>2004-08-29</td>\n",
       "      <td>Swimming</td>\n",
       "      <td>3</td>\n",
       "      <td>1</td>\n",
       "      <td>0</td>\n",
       "      <td>4</td>\n",
       "      <td>NaN</td>\n",
       "      <td>Austr</td>\n",
       "    </tr>\n",
       "    <tr>\n",
       "      <th>27</th>\n",
       "      <td>Pieter van den Hoogenband</td>\n",
       "      <td>22.0</td>\n",
       "      <td>Netherlands</td>\n",
       "      <td>2000</td>\n",
       "      <td>2000-10-01</td>\n",
       "      <td>Swimming</td>\n",
       "      <td>2</td>\n",
       "      <td>0</td>\n",
       "      <td>2</td>\n",
       "      <td>4</td>\n",
       "      <td>NaN</td>\n",
       "      <td>Nethe</td>\n",
       "    </tr>\n",
       "    <tr>\n",
       "      <th>33</th>\n",
       "      <td>Petter Northug Jr.</td>\n",
       "      <td>24.0</td>\n",
       "      <td>Norway</td>\n",
       "      <td>2010</td>\n",
       "      <td>2010-02-28</td>\n",
       "      <td>Cross Country Skiing</td>\n",
       "      <td>2</td>\n",
       "      <td>1</td>\n",
       "      <td>1</td>\n",
       "      <td>4</td>\n",
       "      <td>NaN</td>\n",
       "      <td>Norwa</td>\n",
       "    </tr>\n",
       "    <tr>\n",
       "      <th>58</th>\n",
       "      <td>Pang Jiaying</td>\n",
       "      <td>23.0</td>\n",
       "      <td>China</td>\n",
       "      <td>2008</td>\n",
       "      <td>2008-08-24</td>\n",
       "      <td>Swimming</td>\n",
       "      <td>0</td>\n",
       "      <td>1</td>\n",
       "      <td>2</td>\n",
       "      <td>3</td>\n",
       "      <td>NaN</td>\n",
       "      <td>China</td>\n",
       "    </tr>\n",
       "    <tr>\n",
       "      <th>79</th>\n",
       "      <td>Pieter van den Hoogenband</td>\n",
       "      <td>26.0</td>\n",
       "      <td>Netherlands</td>\n",
       "      <td>2004</td>\n",
       "      <td>2004-08-29</td>\n",
       "      <td>Swimming</td>\n",
       "      <td>1</td>\n",
       "      <td>2</td>\n",
       "      <td>0</td>\n",
       "      <td>3</td>\n",
       "      <td>NaN</td>\n",
       "      <td>Nethe</td>\n",
       "    </tr>\n",
       "    <tr>\n",
       "      <th>...</th>\n",
       "      <td>...</td>\n",
       "      <td>...</td>\n",
       "      <td>...</td>\n",
       "      <td>...</td>\n",
       "      <td>...</td>\n",
       "      <td>...</td>\n",
       "      <td>...</td>\n",
       "      <td>...</td>\n",
       "      <td>...</td>\n",
       "      <td>...</td>\n",
       "      <td>...</td>\n",
       "      <td>...</td>\n",
       "    </tr>\n",
       "    <tr>\n",
       "      <th>8217</th>\n",
       "      <td>Pat Dwyer</td>\n",
       "      <td>26.0</td>\n",
       "      <td>Australia</td>\n",
       "      <td>2004</td>\n",
       "      <td>2004-08-29</td>\n",
       "      <td>Athletics</td>\n",
       "      <td>0</td>\n",
       "      <td>1</td>\n",
       "      <td>0</td>\n",
       "      <td>1</td>\n",
       "      <td>NaN</td>\n",
       "      <td>Austr</td>\n",
       "    </tr>\n",
       "    <tr>\n",
       "      <th>8255</th>\n",
       "      <td>Paul Kipsiele Koech</td>\n",
       "      <td>22.0</td>\n",
       "      <td>Kenya</td>\n",
       "      <td>2004</td>\n",
       "      <td>2004-08-29</td>\n",
       "      <td>Athletics</td>\n",
       "      <td>0</td>\n",
       "      <td>0</td>\n",
       "      <td>1</td>\n",
       "      <td>1</td>\n",
       "      <td>NaN</td>\n",
       "      <td>Kenya</td>\n",
       "    </tr>\n",
       "    <tr>\n",
       "      <th>8465</th>\n",
       "      <td>Passion Richardson</td>\n",
       "      <td>25.0</td>\n",
       "      <td>United States</td>\n",
       "      <td>2000</td>\n",
       "      <td>2000-10-01</td>\n",
       "      <td>Athletics</td>\n",
       "      <td>0</td>\n",
       "      <td>0</td>\n",
       "      <td>1</td>\n",
       "      <td>1</td>\n",
       "      <td>NaN</td>\n",
       "      <td>Unite</td>\n",
       "    </tr>\n",
       "    <tr>\n",
       "      <th>8487</th>\n",
       "      <td>Paul Tergat</td>\n",
       "      <td>31.0</td>\n",
       "      <td>Kenya</td>\n",
       "      <td>2000</td>\n",
       "      <td>2000-10-01</td>\n",
       "      <td>Athletics</td>\n",
       "      <td>0</td>\n",
       "      <td>1</td>\n",
       "      <td>0</td>\n",
       "      <td>1</td>\n",
       "      <td>NaN</td>\n",
       "      <td>Kenya</td>\n",
       "    </tr>\n",
       "    <tr>\n",
       "      <th>8592</th>\n",
       "      <td>Park Gyeong-Mo</td>\n",
       "      <td>28.0</td>\n",
       "      <td>South Korea</td>\n",
       "      <td>2004</td>\n",
       "      <td>2004-08-29</td>\n",
       "      <td>Archery</td>\n",
       "      <td>1</td>\n",
       "      <td>0</td>\n",
       "      <td>0</td>\n",
       "      <td>1</td>\n",
       "      <td>NaN</td>\n",
       "      <td>South</td>\n",
       "    </tr>\n",
       "  </tbody>\n",
       "</table>\n",
       "<p>259 rows × 12 columns</p>\n",
       "</div>"
      ],
      "text/plain": [
       "                        Athlete   Age        Country  Year  \\\n",
       "20                Petria Thomas  28.0      Australia  2004   \n",
       "27    Pieter van den Hoogenband  22.0    Netherlands  2000   \n",
       "33           Petter Northug Jr.  24.0         Norway  2010   \n",
       "58                 Pang Jiaying  23.0          China  2008   \n",
       "79    Pieter van den Hoogenband  26.0    Netherlands  2004   \n",
       "...                         ...   ...            ...   ...   \n",
       "8217                  Pat Dwyer  26.0      Australia  2004   \n",
       "8255        Paul Kipsiele Koech  22.0          Kenya  2004   \n",
       "8465         Passion Richardson  25.0  United States  2000   \n",
       "8487                Paul Tergat  31.0          Kenya  2000   \n",
       "8592             Park Gyeong-Mo  28.0    South Korea  2004   \n",
       "\n",
       "     Closing Ceremony Date                 Sport  Gold Medals  Silver Medals  \\\n",
       "20              2004-08-29              Swimming            3              1   \n",
       "27              2000-10-01              Swimming            2              0   \n",
       "33              2010-02-28  Cross Country Skiing            2              1   \n",
       "58              2008-08-24              Swimming            0              1   \n",
       "79              2004-08-29              Swimming            1              2   \n",
       "...                    ...                   ...          ...            ...   \n",
       "8217            2004-08-29             Athletics            0              1   \n",
       "8255            2004-08-29             Athletics            0              0   \n",
       "8465            2000-10-01             Athletics            0              0   \n",
       "8487            2000-10-01             Athletics            0              1   \n",
       "8592            2004-08-29               Archery            1              0   \n",
       "\n",
       "      Bronze Medals  Total Medals First_five_letter_1 First_five_country_2  \n",
       "20                0             4                 NaN                Austr  \n",
       "27                2             4                 NaN                Nethe  \n",
       "33                1             4                 NaN                Norwa  \n",
       "58                2             3                 NaN                China  \n",
       "79                0             3                 NaN                Nethe  \n",
       "...             ...           ...                 ...                  ...  \n",
       "8217              0             1                 NaN                Austr  \n",
       "8255              1             1                 NaN                Kenya  \n",
       "8465              1             1                 NaN                Unite  \n",
       "8487              0             1                 NaN                Kenya  \n",
       "8592              0             1                 NaN                South  \n",
       "\n",
       "[259 rows x 12 columns]"
      ]
     },
     "execution_count": 122,
     "metadata": {},
     "output_type": "execute_result"
    }
   ],
   "source": [
    "df[df['Athlete'].str.match('^P.*')== True]"
   ]
  },
  {
   "cell_type": "markdown",
   "metadata": {},
   "source": [
    "### Pandas Replace"
   ]
  },
  {
   "cell_type": "markdown",
   "metadata": {},
   "source": [
    "Replaces all the occurence of matched pattern in the string. We want to remove the dash(-) followed by number in the below pandas series object. \n",
    "\n",
    "\n",
    "The regex checks for a dash(-) followed by a numeric digit (represented by d) and replace that with an empty string and the inplace parameter set as True will update the existing series. The output is list of countres without the dash and number."
   ]
  },
  {
   "cell_type": "code",
   "execution_count": 123,
   "metadata": {},
   "outputs": [
    {
     "name": "stdout",
     "output_type": "stream",
     "text": [
      "0        Finland\n",
      "1       Colombia\n",
      "2        Florida\n",
      "3          Japan\n",
      "4    Puerto Rico\n",
      "5         Russia\n",
      "6         France\n",
      "dtype: object\n"
     ]
    },
    {
     "name": "stderr",
     "output_type": "stream",
     "text": [
      "<>:6: SyntaxWarning: invalid escape sequence '\\d'\n",
      "<>:6: SyntaxWarning: invalid escape sequence '\\d'\n",
      "C:\\Users\\VIJAY\\AppData\\Local\\Temp\\ipykernel_28280\\957912210.py:6: SyntaxWarning: invalid escape sequence '\\d'\n",
      "  S.replace('(-\\d)', '', regex=True, inplace=True)\n"
     ]
    }
   ],
   "source": [
    "import pandas as pd\n",
    "\n",
    "S = pd.Series(['Finland-1', 'Colombia-2', 'Florida-3', 'Japan-4', 'Puerto Rico-5', 'Russia-6', 'France-7'])\n",
    "\n",
    "# Replace the pattern '(-\\d)' with an empty string\n",
    "S.replace('(-\\d)', '', regex=True, inplace=True)\n",
    "\n",
    "# Display the modified Series\n",
    "print(S)\n"
   ]
  },
  {
   "cell_type": "markdown",
   "metadata": {},
   "source": [
    "# Below two block are the alternate codes for the previous code."
   ]
  },
  {
   "cell_type": "code",
   "execution_count": 124,
   "metadata": {},
   "outputs": [
    {
     "name": "stdout",
     "output_type": "stream",
     "text": [
      "0        Finland\n",
      "1       Colombia\n",
      "2        Florida\n",
      "3          Japan\n",
      "4    Puerto Rico\n",
      "5         Russia\n",
      "6         France\n",
      "dtype: object\n"
     ]
    }
   ],
   "source": [
    "import pandas as pd\n",
    "\n",
    "S = pd.Series(['Finland-1', 'Colombia-2', 'Florida-3', 'Japan-4', 'Puerto Rico-5', 'Russia-6', 'France-7'])\n",
    "\n",
    "# Replace the pattern '(-\\d)' with an empty string\n",
    "S.replace(r'(-\\d)', '', regex=True, inplace=True)\n",
    "\n",
    "# Display the modified Series\n",
    "print(S)\n"
   ]
  },
  {
   "cell_type": "code",
   "execution_count": 125,
   "metadata": {},
   "outputs": [
    {
     "name": "stdout",
     "output_type": "stream",
     "text": [
      "0        Finland\n",
      "1       Colombia\n",
      "2        Florida\n",
      "3          Japan\n",
      "4    Puerto Rico\n",
      "5         Russia\n",
      "6         France\n",
      "dtype: object\n"
     ]
    }
   ],
   "source": [
    "import pandas as pd\n",
    "\n",
    "S = pd.Series(['Finland-1', 'Colombia-2', 'Florida-3', 'Japan-4', 'Puerto Rico-5', 'Russia-6', 'France-7'])\n",
    "\n",
    "# Replace the pattern '(-\\\\d)' with an empty string\n",
    "S.replace('(-\\\\d)', '', regex=True, inplace=True)\n",
    "\n",
    "# Display the modified Series\n",
    "print(S)\n"
   ]
  },
  {
   "cell_type": "markdown",
   "metadata": {},
   "source": [
    "### Pandas Findall"
   ]
  },
  {
   "cell_type": "markdown",
   "metadata": {},
   "source": [
    "It calls re.findall() and find all occurence of matching patterns. \n",
    "\n",
    "\n",
    "We are creating a new list of countries which starts with character ‘F’ and ‘f’ from the Series. \n",
    "\n",
    "\n",
    "The list comprehension checks for all the returned value > 0 and creates a list matching the patterns."
   ]
  },
  {
   "cell_type": "code",
   "execution_count": 126,
   "metadata": {},
   "outputs": [
    {
     "name": "stdout",
     "output_type": "stream",
     "text": [
      "['Finland', 'Florida', 'France']\n"
     ]
    }
   ],
   "source": [
    "import pandas as pd\n",
    "\n",
    "S = pd.Series(['Finland', 'Colombia', 'Florida', 'Japan', 'Puerto Rico', 'Russia', 'France'])\n",
    "\n",
    "# Extract elements that start with 'F' or 'f'\n",
    "result_list = [itm[0] for itm in S.str.findall('^[Ff].*') if len(itm) > 0]\n",
    "\n",
    "# Display the result list\n",
    "print(result_list)\n"
   ]
  },
  {
   "cell_type": "markdown",
   "metadata": {},
   "source": [
    "    S.str.findall('^[Ff].*'): Uses findall to find all occurrences of strings that start with 'F' or 'f' in each element of the Series.\n",
    "    [itm[0] for itm in ... if len(itm) > 0]: List comprehension that extracts the first element from each match (if it exists) and filters out empty lists.\n",
    "    The result is a list containing the elements that start with 'F' or 'f'."
   ]
  },
  {
   "cell_type": "markdown",
   "metadata": {},
   "source": [
    "### Pandas Contains"
   ]
  },
  {
   "cell_type": "markdown",
   "metadata": {},
   "source": [
    "It uses re.search() and returns a boolean value.\n",
    "\n",
    "In the below regex we are looking for all the countries starting with character ‘F’ (using start with metacharacter ^) in the pandas series object. \n",
    "\n",
    "The result shows True for all countries start with character ‘F’ and False which doesn’t."
   ]
  },
  {
   "cell_type": "code",
   "execution_count": 127,
   "metadata": {},
   "outputs": [
    {
     "name": "stdout",
     "output_type": "stream",
     "text": [
      "0     True\n",
      "1    False\n",
      "2     True\n",
      "3    False\n",
      "4    False\n",
      "5    False\n",
      "6     True\n",
      "dtype: bool\n"
     ]
    }
   ],
   "source": [
    "import pandas as pd\n",
    "\n",
    "S = pd.Series(['Finland', 'Colombia', 'Florida', 'Japan', 'Puerto Rico', 'Russia', 'France'])\n",
    "\n",
    "# Check if each element starts with 'F'\n",
    "result_series = S.str.contains('^F.*')\n",
    "\n",
    "# Display the result Series\n",
    "print(result_series)\n"
   ]
  },
  {
   "cell_type": "markdown",
   "metadata": {},
   "source": [
    "### elements at positions 0, 2, and 6 start with 'F', so the corresponding values in the result Series are True, and the others are False."
   ]
  },
  {
   "cell_type": "markdown",
   "metadata": {},
   "source": [
    "In our original dataframe we will filter all the countries starting with character ‘I’ . We just need to filter all the True values that is returned by contains() function."
   ]
  },
  {
   "cell_type": "code",
   "execution_count": 128,
   "metadata": {},
   "outputs": [
    {
     "data": {
      "text/html": [
       "<div>\n",
       "<style scoped>\n",
       "    .dataframe tbody tr th:only-of-type {\n",
       "        vertical-align: middle;\n",
       "    }\n",
       "\n",
       "    .dataframe tbody tr th {\n",
       "        vertical-align: top;\n",
       "    }\n",
       "\n",
       "    .dataframe thead th {\n",
       "        text-align: right;\n",
       "    }\n",
       "</style>\n",
       "<table border=\"1\" class=\"dataframe\">\n",
       "  <thead>\n",
       "    <tr style=\"text-align: right;\">\n",
       "      <th></th>\n",
       "      <th>Athlete</th>\n",
       "      <th>Age</th>\n",
       "      <th>Country</th>\n",
       "      <th>Year</th>\n",
       "      <th>Closing Ceremony Date</th>\n",
       "      <th>Sport</th>\n",
       "      <th>Gold Medals</th>\n",
       "      <th>Silver Medals</th>\n",
       "      <th>Bronze Medals</th>\n",
       "      <th>Total Medals</th>\n",
       "      <th>First_five_letter_1</th>\n",
       "      <th>First_five_country_2</th>\n",
       "    </tr>\n",
       "  </thead>\n",
       "  <tbody>\n",
       "    <tr>\n",
       "      <th>83</th>\n",
       "      <td>Massimiliano Rosolino</td>\n",
       "      <td>22.0</td>\n",
       "      <td>Italy</td>\n",
       "      <td>2000</td>\n",
       "      <td>2000-10-01</td>\n",
       "      <td>Swimming</td>\n",
       "      <td>1</td>\n",
       "      <td>1</td>\n",
       "      <td>1</td>\n",
       "      <td>3</td>\n",
       "      <td>NaN</td>\n",
       "      <td>Italy</td>\n",
       "    </tr>\n",
       "    <tr>\n",
       "      <th>97</th>\n",
       "      <td>Enrico Fabris</td>\n",
       "      <td>24.0</td>\n",
       "      <td>Italy</td>\n",
       "      <td>2006</td>\n",
       "      <td>2006-02-26</td>\n",
       "      <td>Speed Skating</td>\n",
       "      <td>2</td>\n",
       "      <td>0</td>\n",
       "      <td>1</td>\n",
       "      <td>3</td>\n",
       "      <td>NaN</td>\n",
       "      <td>Italy</td>\n",
       "    </tr>\n",
       "    <tr>\n",
       "      <th>129</th>\n",
       "      <td>Stefania Belmondo</td>\n",
       "      <td>33.0</td>\n",
       "      <td>Italy</td>\n",
       "      <td>2002</td>\n",
       "      <td>2002-02-24</td>\n",
       "      <td>Cross Country Skiing</td>\n",
       "      <td>1</td>\n",
       "      <td>1</td>\n",
       "      <td>1</td>\n",
       "      <td>3</td>\n",
       "      <td>NaN</td>\n",
       "      <td>Italy</td>\n",
       "    </tr>\n",
       "    <tr>\n",
       "      <th>264</th>\n",
       "      <td>Domenico Fioravanti</td>\n",
       "      <td>23.0</td>\n",
       "      <td>Italy</td>\n",
       "      <td>2000</td>\n",
       "      <td>2000-10-01</td>\n",
       "      <td>Swimming</td>\n",
       "      <td>2</td>\n",
       "      <td>0</td>\n",
       "      <td>0</td>\n",
       "      <td>2</td>\n",
       "      <td>NaN</td>\n",
       "      <td>Italy</td>\n",
       "    </tr>\n",
       "    <tr>\n",
       "      <th>337</th>\n",
       "      <td>Niccolò Campriani</td>\n",
       "      <td>24.0</td>\n",
       "      <td>Italy</td>\n",
       "      <td>2012</td>\n",
       "      <td>2012-08-12</td>\n",
       "      <td>Shooting</td>\n",
       "      <td>1</td>\n",
       "      <td>1</td>\n",
       "      <td>0</td>\n",
       "      <td>2</td>\n",
       "      <td>NaN</td>\n",
       "      <td>Italy</td>\n",
       "    </tr>\n",
       "    <tr>\n",
       "      <th>...</th>\n",
       "      <td>...</td>\n",
       "      <td>...</td>\n",
       "      <td>...</td>\n",
       "      <td>...</td>\n",
       "      <td>...</td>\n",
       "      <td>...</td>\n",
       "      <td>...</td>\n",
       "      <td>...</td>\n",
       "      <td>...</td>\n",
       "      <td>...</td>\n",
       "      <td>...</td>\n",
       "      <td>...</td>\n",
       "    </tr>\n",
       "    <tr>\n",
       "      <th>8578</th>\n",
       "      <td>Mauro Nespoli</td>\n",
       "      <td>20.0</td>\n",
       "      <td>Italy</td>\n",
       "      <td>2008</td>\n",
       "      <td>2008-08-24</td>\n",
       "      <td>Archery</td>\n",
       "      <td>0</td>\n",
       "      <td>1</td>\n",
       "      <td>0</td>\n",
       "      <td>1</td>\n",
       "      <td>NaN</td>\n",
       "      <td>Italy</td>\n",
       "    </tr>\n",
       "    <tr>\n",
       "      <th>8585</th>\n",
       "      <td>Marco Galiazzo</td>\n",
       "      <td>21.0</td>\n",
       "      <td>Italy</td>\n",
       "      <td>2004</td>\n",
       "      <td>2004-08-29</td>\n",
       "      <td>Archery</td>\n",
       "      <td>1</td>\n",
       "      <td>0</td>\n",
       "      <td>0</td>\n",
       "      <td>1</td>\n",
       "      <td>NaN</td>\n",
       "      <td>Italy</td>\n",
       "    </tr>\n",
       "    <tr>\n",
       "      <th>8602</th>\n",
       "      <td>Matteo Bisiani</td>\n",
       "      <td>24.0</td>\n",
       "      <td>Italy</td>\n",
       "      <td>2000</td>\n",
       "      <td>2000-10-01</td>\n",
       "      <td>Archery</td>\n",
       "      <td>0</td>\n",
       "      <td>1</td>\n",
       "      <td>0</td>\n",
       "      <td>1</td>\n",
       "      <td>NaN</td>\n",
       "      <td>Italy</td>\n",
       "    </tr>\n",
       "    <tr>\n",
       "      <th>8604</th>\n",
       "      <td>Ilario Di Buò</td>\n",
       "      <td>43.0</td>\n",
       "      <td>Italy</td>\n",
       "      <td>2000</td>\n",
       "      <td>2000-10-01</td>\n",
       "      <td>Archery</td>\n",
       "      <td>0</td>\n",
       "      <td>1</td>\n",
       "      <td>0</td>\n",
       "      <td>1</td>\n",
       "      <td>NaN</td>\n",
       "      <td>Italy</td>\n",
       "    </tr>\n",
       "    <tr>\n",
       "      <th>8606</th>\n",
       "      <td>Michele Frangilli</td>\n",
       "      <td>24.0</td>\n",
       "      <td>Italy</td>\n",
       "      <td>2000</td>\n",
       "      <td>2000-10-01</td>\n",
       "      <td>Archery</td>\n",
       "      <td>0</td>\n",
       "      <td>1</td>\n",
       "      <td>0</td>\n",
       "      <td>1</td>\n",
       "      <td>NaN</td>\n",
       "      <td>Italy</td>\n",
       "    </tr>\n",
       "  </tbody>\n",
       "</table>\n",
       "<p>392 rows × 12 columns</p>\n",
       "</div>"
      ],
      "text/plain": [
       "                    Athlete   Age Country  Year Closing Ceremony Date  \\\n",
       "83    Massimiliano Rosolino  22.0   Italy  2000            2000-10-01   \n",
       "97            Enrico Fabris  24.0   Italy  2006            2006-02-26   \n",
       "129       Stefania Belmondo  33.0   Italy  2002            2002-02-24   \n",
       "264     Domenico Fioravanti  23.0   Italy  2000            2000-10-01   \n",
       "337       Niccolò Campriani  24.0   Italy  2012            2012-08-12   \n",
       "...                     ...   ...     ...   ...                   ...   \n",
       "8578          Mauro Nespoli  20.0   Italy  2008            2008-08-24   \n",
       "8585         Marco Galiazzo  21.0   Italy  2004            2004-08-29   \n",
       "8602         Matteo Bisiani  24.0   Italy  2000            2000-10-01   \n",
       "8604          Ilario Di Buò  43.0   Italy  2000            2000-10-01   \n",
       "8606      Michele Frangilli  24.0   Italy  2000            2000-10-01   \n",
       "\n",
       "                     Sport  Gold Medals  Silver Medals  Bronze Medals  \\\n",
       "83                Swimming            1              1              1   \n",
       "97           Speed Skating            2              0              1   \n",
       "129   Cross Country Skiing            1              1              1   \n",
       "264               Swimming            2              0              0   \n",
       "337               Shooting            1              1              0   \n",
       "...                    ...          ...            ...            ...   \n",
       "8578               Archery            0              1              0   \n",
       "8585               Archery            1              0              0   \n",
       "8602               Archery            0              1              0   \n",
       "8604               Archery            0              1              0   \n",
       "8606               Archery            0              1              0   \n",
       "\n",
       "      Total Medals First_five_letter_1 First_five_country_2  \n",
       "83               3                 NaN                Italy  \n",
       "97               3                 NaN                Italy  \n",
       "129              3                 NaN                Italy  \n",
       "264              2                 NaN                Italy  \n",
       "337              2                 NaN                Italy  \n",
       "...            ...                 ...                  ...  \n",
       "8578             1                 NaN                Italy  \n",
       "8585             1                 NaN                Italy  \n",
       "8602             1                 NaN                Italy  \n",
       "8604             1                 NaN                Italy  \n",
       "8606             1                 NaN                Italy  \n",
       "\n",
       "[392 rows x 12 columns]"
      ]
     },
     "execution_count": 128,
     "metadata": {},
     "output_type": "execute_result"
    }
   ],
   "source": [
    "df[df['Country'].str.contains('^I.*')==True]\n"
   ]
  }
 ],
 "metadata": {
  "kernelspec": {
   "display_name": "venv",
   "language": "python",
   "name": "python3"
  },
  "language_info": {
   "codemirror_mode": {
    "name": "ipython",
    "version": 3
   },
   "file_extension": ".py",
   "mimetype": "text/x-python",
   "name": "python",
   "nbconvert_exporter": "python",
   "pygments_lexer": "ipython3",
   "version": "3.12.1"
  }
 },
 "nbformat": 4,
 "nbformat_minor": 2
}
