{
 "cells": [
  {
   "cell_type": "code",
   "execution_count": 1,
   "metadata": {},
   "outputs": [
    {
     "name": "stdout",
     "output_type": "stream",
     "text": [
      "hello world\n"
     ]
    }
   ],
   "source": [
    "print(\"hello world\")"
   ]
  },
  {
   "cell_type": "markdown",
   "metadata": {},
   "source": [
    "#### Recursion"
   ]
  },
  {
   "cell_type": "markdown",
   "metadata": {},
   "source": [
    "Recursion is usually used in function definition.\n",
    "\n",
    "If a function calls itself, it is recursive.\n",
    "\n",
    "It is a control structure equivalent to a loop.\n",
    "\n",
    "Anythink that is written recursively ca be non-recursively and vice versa.\n",
    "\n"
   ]
  },
  {
   "cell_type": "code",
   "execution_count": 8,
   "metadata": {},
   "outputs": [],
   "source": [
    "# Factorial of a number using recursion\n",
    "\n",
    "def factorial(n):\n",
    "    if(n <= 1):\n",
    "        return 1\n",
    "    else:\n",
    "        return(n*factorial(n-1))"
   ]
  },
  {
   "cell_type": "code",
   "execution_count": null,
   "metadata": {},
   "outputs": [],
   "source": [
    "n = int(input(\"Enter number:\"))"
   ]
  },
  {
   "cell_type": "code",
   "execution_count": 9,
   "metadata": {},
   "outputs": [
    {
     "name": "stdout",
     "output_type": "stream",
     "text": [
      "Factorial:\n",
      "120\n"
     ]
    }
   ],
   "source": [
    "print(\"Factorial:\")\n",
    "print(factorial(n))"
   ]
  },
  {
   "cell_type": "code",
   "execution_count": 10,
   "metadata": {},
   "outputs": [],
   "source": [
    "def factorial(n):\n",
    "    if(n <= 1):\n",
    "        return 1\n"
   ]
  },
  {
   "cell_type": "code",
   "execution_count": 14,
   "metadata": {},
   "outputs": [
    {
     "name": "stdout",
     "output_type": "stream",
     "text": [
      "1\n"
     ]
    }
   ],
   "source": [
    "print(factorial(0))"
   ]
  },
  {
   "cell_type": "markdown",
   "metadata": {},
   "source": [
    "# Anonumous Function (OR) Lambda Function :"
   ]
  },
  {
   "cell_type": "markdown",
   "metadata": {},
   "source": [
    "\n",
    "Python Lambda Functions are anonymous function means that the function is without a name. \n",
    "\n",
    "As we already know that the def keyword is used to define a normal function in Python. \n",
    "\n",
    "Similarly, the lambda keyword is used to define an anonymous function in Python. \n",
    "\n",
    "This function can have any number of arguments but only one expression, which is evaluated and returned.\n",
    "\n"
   ]
  },
  {
   "cell_type": "markdown",
   "metadata": {},
   "source": [
    "# lambda arguments: expression"
   ]
  },
  {
   "cell_type": "markdown",
   "metadata": {},
   "source": [
    "### Normal Function"
   ]
  },
  {
   "cell_type": "code",
   "execution_count": 1,
   "metadata": {},
   "outputs": [],
   "source": [
    "def cube(y):\n",
    "    return y*y*y\t\t\t\t\t\t\t\t\t"
   ]
  },
  {
   "cell_type": "code",
   "execution_count": 2,
   "metadata": {},
   "outputs": [
    {
     "data": {
      "text/plain": [
       "125"
      ]
     },
     "execution_count": 2,
     "metadata": {},
     "output_type": "execute_result"
    }
   ],
   "source": [
    "cube(5)"
   ]
  },
  {
   "cell_type": "markdown",
   "metadata": {},
   "source": [
    "# Lambda function"
   ]
  },
  {
   "cell_type": "code",
   "execution_count": 19,
   "metadata": {},
   "outputs": [],
   "source": [
    "lambda_cube = lambda y: y**3"
   ]
  },
  {
   "cell_type": "code",
   "execution_count": 20,
   "metadata": {},
   "outputs": [
    {
     "data": {
      "text/plain": [
       "125"
      ]
     },
     "execution_count": 20,
     "metadata": {},
     "output_type": "execute_result"
    }
   ],
   "source": [
    "lambda_cube(5)"
   ]
  },
  {
   "cell_type": "markdown",
   "metadata": {},
   "source": [
    "Without using Lambda: \n",
    "\n",
    "Here, both of them return the cube of a given number. \n",
    "But, while using def, we needed to define a function with a name cube and needed to pass a value to it. \n",
    "After execution, we also needed to return the result from where the function was called using the return keyword.\n",
    "\n",
    "Using Lambda: \n",
    "\n",
    "Lambda definition does not include a “return” statement, it always contains an expression that is returned. \n",
    "We can also put a lambda definition anywhere a function is expected, and we don’t have to assign it to a variable at all. \n",
    "This is the simplicity of lambda functions.\n",
    "\n"
   ]
  },
  {
   "cell_type": "code",
   "execution_count": 32,
   "metadata": {},
   "outputs": [],
   "source": [
    "x = 10"
   ]
  },
  {
   "cell_type": "code",
   "execution_count": 27,
   "metadata": {},
   "outputs": [],
   "source": [
    "mul_10 = lambda x:x*10"
   ]
  },
  {
   "cell_type": "code",
   "execution_count": 36,
   "metadata": {},
   "outputs": [],
   "source": [
    "res = mul_10(50)"
   ]
  },
  {
   "cell_type": "code",
   "execution_count": 37,
   "metadata": {},
   "outputs": [
    {
     "name": "stdout",
     "output_type": "stream",
     "text": [
      "500\n"
     ]
    }
   ],
   "source": [
    "print(res)"
   ]
  },
  {
   "cell_type": "code",
   "execution_count": 38,
   "metadata": {},
   "outputs": [
    {
     "name": "stdout",
     "output_type": "stream",
     "text": [
      "350\n"
     ]
    }
   ],
   "source": [
    "print(mul_10(35))"
   ]
  },
  {
   "cell_type": "code",
   "execution_count": 45,
   "metadata": {},
   "outputs": [],
   "source": [
    "mul_5 = [lambda x = x:x*5 for x in range(5)]"
   ]
  },
  {
   "cell_type": "code",
   "execution_count": 52,
   "metadata": {},
   "outputs": [
    {
     "name": "stdout",
     "output_type": "stream",
     "text": [
      "[<function <lambda> at 0x000001BB67DBF4C0>, <function <lambda> at 0x000001BB67DBEAC0>, <function <lambda> at 0x000001BB67DBE7A0>, <function <lambda> at 0x000001BB67DBEFC0>, <function <lambda> at 0x000001BB67DBEE80>]\n"
     ]
    }
   ],
   "source": [
    "print(mul_5)"
   ]
  },
  {
   "cell_type": "code",
   "execution_count": 53,
   "metadata": {},
   "outputs": [
    {
     "data": {
      "text/plain": [
       "list"
      ]
     },
     "execution_count": 53,
     "metadata": {},
     "output_type": "execute_result"
    }
   ],
   "source": [
    "type(mul_5)"
   ]
  },
  {
   "cell_type": "code",
   "execution_count": 56,
   "metadata": {},
   "outputs": [
    {
     "name": "stdout",
     "output_type": "stream",
     "text": [
      "<function <lambda> at 0x000001BB67DBF4C0> <class 'function'>\n",
      "<function <lambda> at 0x000001BB67DBEAC0> <class 'function'>\n",
      "<function <lambda> at 0x000001BB67DBE7A0> <class 'function'>\n",
      "<function <lambda> at 0x000001BB67DBEFC0> <class 'function'>\n",
      "<function <lambda> at 0x000001BB67DBEE80> <class 'function'>\n"
     ]
    }
   ],
   "source": [
    "for i in mul_5:\n",
    "    print(i, type(i) )"
   ]
  },
  {
   "cell_type": "code",
   "execution_count": 54,
   "metadata": {},
   "outputs": [
    {
     "name": "stdout",
     "output_type": "stream",
     "text": [
      "0 <class 'int'>\n",
      "5 <class 'int'>\n",
      "10 <class 'int'>\n",
      "15 <class 'int'>\n",
      "20 <class 'int'>\n"
     ]
    }
   ],
   "source": [
    "for i in mul_5:\n",
    "    print(i(), type(i()))"
   ]
  },
  {
   "cell_type": "markdown",
   "metadata": {},
   "source": [
    "Lambda Function with if-else:\n"
   ]
  },
  {
   "cell_type": "code",
   "execution_count": 59,
   "metadata": {},
   "outputs": [
    {
     "name": "stdout",
     "output_type": "stream",
     "text": [
      "2\n"
     ]
    }
   ],
   "source": [
    "Max = lambda a, b : a if(a > b) else b\n",
    "print(Max(1, 2))\n"
   ]
  },
  {
   "cell_type": "markdown",
   "metadata": {},
   "source": [
    "Using lambda() Function with filter()\n"
   ]
  },
  {
   "cell_type": "code",
   "execution_count": 61,
   "metadata": {},
   "outputs": [],
   "source": [
    "li = [5, 7, 22, 97, 54, 62, 77, 23, 73, 61]\n",
    "final_list = list(filter(lambda x: (x%2 != 0) , li))"
   ]
  },
  {
   "cell_type": "code",
   "execution_count": 62,
   "metadata": {},
   "outputs": [
    {
     "name": "stdout",
     "output_type": "stream",
     "text": [
      "Original list : [5, 7, 22, 97, 54, 62, 77, 23, 73, 61]\n",
      "Odd Number List [5, 7, 97, 77, 23, 73, 61]\n"
     ]
    }
   ],
   "source": [
    "print('Original list :', li)\n",
    "print('Odd Number List', final_list)\n"
   ]
  },
  {
   "cell_type": "code",
   "execution_count": 63,
   "metadata": {},
   "outputs": [
    {
     "data": {
      "text/plain": [
       "['__class__',\n",
       " '__delattr__',\n",
       " '__dir__',\n",
       " '__doc__',\n",
       " '__eq__',\n",
       " '__format__',\n",
       " '__ge__',\n",
       " '__getattribute__',\n",
       " '__getstate__',\n",
       " '__gt__',\n",
       " '__hash__',\n",
       " '__init__',\n",
       " '__init_subclass__',\n",
       " '__iter__',\n",
       " '__le__',\n",
       " '__lt__',\n",
       " '__ne__',\n",
       " '__new__',\n",
       " '__next__',\n",
       " '__reduce__',\n",
       " '__reduce_ex__',\n",
       " '__repr__',\n",
       " '__setattr__',\n",
       " '__sizeof__',\n",
       " '__str__',\n",
       " '__subclasshook__']"
      ]
     },
     "execution_count": 63,
     "metadata": {},
     "output_type": "execute_result"
    }
   ],
   "source": [
    "dir(filter)"
   ]
  },
  {
   "cell_type": "code",
   "execution_count": 65,
   "metadata": {},
   "outputs": [
    {
     "name": "stdout",
     "output_type": "stream",
     "text": [
      "Adults age above of age 18 are: [90, 59, 21, 60]\n"
     ]
    }
   ],
   "source": [
    "ages = [13, 90, 17, 59, 21, 60, 5]\n",
    "adults = list(filter(lambda age: age>18, ages))\n",
    "print('Adults age above of age 18 are:',adults)\n"
   ]
  },
  {
   "cell_type": "code",
   "execution_count": 75,
   "metadata": {},
   "outputs": [
    {
     "name": "stdout",
     "output_type": "stream",
     "text": [
      "[3, 4, 6]\n"
     ]
    }
   ],
   "source": [
    "data = [[2,3,4],[1, 4, 16, 64],[3, 6, 9, 12]]\n",
    "sort_elements = lambda x: (sorted(y) for y in x)\n",
    "\n",
    "get_second_elements = lambda x, f : [y[1] for y in f(x)]\n",
    "second_elements = get_second_elements(data, sort_elements)\n",
    "print(second_elements)"
   ]
  },
  {
   "cell_type": "code",
   "execution_count": null,
   "metadata": {},
   "outputs": [],
   "source": []
  }
 ],
 "metadata": {
  "kernelspec": {
   "display_name": "venv",
   "language": "python",
   "name": "python3"
  },
  "language_info": {
   "codemirror_mode": {
    "name": "ipython",
    "version": 3
   },
   "file_extension": ".py",
   "mimetype": "text/x-python",
   "name": "python",
   "nbconvert_exporter": "python",
   "pygments_lexer": "ipython3",
   "version": "3.12.1"
  }
 },
 "nbformat": 4,
 "nbformat_minor": 2
}
