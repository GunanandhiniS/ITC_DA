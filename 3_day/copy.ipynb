{
 "cells": [
  {
   "cell_type": "code",
   "execution_count": 1,
   "metadata": {},
   "outputs": [
    {
     "name": "stdout",
     "output_type": "stream",
     "text": [
      "hello world\n"
     ]
    }
   ],
   "source": [
    "print(\"hello world\")"
   ]
  },
  {
   "cell_type": "code",
   "execution_count": 2,
   "metadata": {},
   "outputs": [
    {
     "name": "stdout",
     "output_type": "stream",
     "text": [
      "Old List: [[1, 2, 3], [4, 5, 6], [7, 8, 9]]\n",
      "ID of Old List: 2470757920064\n",
      "New List: [[1, 2, 3], [4, 5, 6], [7, 8, 9]]\n",
      "ID of New List: 2470757920064\n"
     ]
    }
   ],
   "source": [
    "old_list = [[1, 2, 3], [4, 5, 6], [7, 8, 'a']]\n",
    "new_list = old_list\n",
    "\n",
    "new_list[2][2] = 9\n",
    "\n",
    "print('Old List:', old_list)\n",
    "print('ID of Old List:', id(old_list))\n",
    "\n",
    "print('New List:', new_list)\n",
    "print('ID of New List:', id(new_list))\n"
   ]
  },
  {
   "cell_type": "markdown",
   "metadata": {},
   "source": [
    "# Shallow Copy"
   ]
  },
  {
   "cell_type": "code",
   "execution_count": 3,
   "metadata": {},
   "outputs": [
    {
     "name": "stdout",
     "output_type": "stream",
     "text": [
      "Old list: [[1, 2, 3], [4, 5, 6], [7, 8, 9]] 2470757972224\n",
      "New list: [[1, 2, 3], [4, 5, 6], [7, 8, 9]] 2470758118720\n"
     ]
    }
   ],
   "source": [
    "import copy\n",
    "\n",
    "old_list = [[1, 2, 3], [4, 5, 6], [7, 8, 9]]\n",
    "new_list = copy.copy(old_list)\n",
    "\n",
    "print(\"Old list:\", old_list, id(old_list))\n",
    "print(\"New list:\", new_list, id(new_list))\n"
   ]
  },
  {
   "cell_type": "markdown",
   "metadata": {},
   "source": [
    "# Deep Copy"
   ]
  },
  {
   "cell_type": "code",
   "execution_count": 4,
   "metadata": {},
   "outputs": [
    {
     "name": "stdout",
     "output_type": "stream",
     "text": [
      "Old list: [[1, 1, 1], [2, 2, 2], [3, 3, 3]] 2470758019072\n",
      "New list: [[1, 1, 1], [2, 2, 2], [3, 3, 3]] 2470758150336\n"
     ]
    }
   ],
   "source": [
    "import copy\n",
    "\n",
    "old_list = [[1, 1, 1], [2, 2, 2], [3, 3, 3]]\n",
    "new_list = copy.deepcopy(old_list)\n",
    "\n",
    "print(\"Old list:\", old_list, id(old_list))\n",
    "print(\"New list:\", new_list, id(new_list))\n"
   ]
  },
  {
   "cell_type": "code",
   "execution_count": null,
   "metadata": {},
   "outputs": [],
   "source": []
  }
 ],
 "metadata": {
  "kernelspec": {
   "display_name": "venv",
   "language": "python",
   "name": "python3"
  },
  "language_info": {
   "codemirror_mode": {
    "name": "ipython",
    "version": 3
   },
   "file_extension": ".py",
   "mimetype": "text/x-python",
   "name": "python",
   "nbconvert_exporter": "python",
   "pygments_lexer": "ipython3",
   "version": "3.12.1"
  }
 },
 "nbformat": 4,
 "nbformat_minor": 2
}
