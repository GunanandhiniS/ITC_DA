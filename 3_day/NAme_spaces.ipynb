{
 "cells": [
  {
   "cell_type": "code",
   "execution_count": 1,
   "metadata": {},
   "outputs": [
    {
     "name": "stdout",
     "output_type": "stream",
     "text": [
      "hello world\n"
     ]
    }
   ],
   "source": [
    "print(\"hello world\")"
   ]
  },
  {
   "cell_type": "code",
   "execution_count": 2,
   "metadata": {},
   "outputs": [
    {
     "name": "stdout",
     "output_type": "stream",
     "text": [
      "25\n"
     ]
    }
   ],
   "source": [
    "num = 25\n",
    "def hai():\n",
    "    print(num)\n",
    "\n",
    "hai()"
   ]
  },
  {
   "cell_type": "code",
   "execution_count": 6,
   "metadata": {},
   "outputs": [
    {
     "name": "stdout",
     "output_type": "stream",
     "text": [
      "35\n"
     ]
    }
   ],
   "source": [
    "num = 25\n",
    "def hai():\n",
    "    # num = 45\n",
    "    # print(num)\n",
    "    global num\n",
    "    num  = 35\n",
    "    print(num)\n",
    "\n",
    "hai()"
   ]
  },
  {
   "cell_type": "markdown",
   "metadata": {},
   "source": [
    "# NameSpace"
   ]
  },
  {
   "cell_type": "code",
   "execution_count": 7,
   "metadata": {},
   "outputs": [
    {
     "name": "stdout",
     "output_type": "stream",
     "text": [
      "10\n",
      "20\n",
      "30\n"
     ]
    }
   ],
   "source": [
    "\n",
    "global_var = 10\n",
    "def outer_function():\n",
    "    outer_var = 20\n",
    "    def inner_function():\n",
    "        inner_var = 30\n",
    "        print(inner_var)\n",
    "    print(outer_var)\n",
    "    inner_function()\n",
    "print(global_var)\n",
    "outer_function()\n"
   ]
  },
  {
   "cell_type": "markdown",
   "metadata": {},
   "source": [
    "# NameSpaces"
   ]
  },
  {
   "cell_type": "code",
   "execution_count": 13,
   "metadata": {},
   "outputs": [
    {
     "name": "stdout",
     "output_type": "stream",
     "text": [
      "Start f()\n",
      "Start g()\n",
      "End g()\n",
      "End f()\n"
     ]
    }
   ],
   "source": [
    "\n",
    "def f():\n",
    "    print('Start f()')\n",
    "\n",
    "    def g():\n",
    "        print('Start g()')\n",
    "        print('End g()')\n",
    "        return\n",
    "\n",
    "    g()\n",
    "\n",
    "    print('End f()')\n",
    "    return\n",
    "\n",
    "\n",
    "f()"
   ]
  },
  {
   "cell_type": "code",
   "execution_count": 20,
   "metadata": {},
   "outputs": [
    {
     "name": "stdout",
     "output_type": "stream",
     "text": [
      "Start f()\n",
      "Start g()\n",
      "Global\n",
      "End g()\n",
      "Global\n",
      "End f()\n",
      "Global\n"
     ]
    }
   ],
   "source": [
    "x = \"Global\"\n",
    "def f():\n",
    "    print('Start f()')\n",
    "\n",
    "    def g():\n",
    "        print('Start g()')\n",
    "        print(x)\n",
    "        print('End g()')\n",
    "        # return\n",
    "\n",
    "    g()\n",
    "    print(x)\n",
    "\n",
    "    print('End f()')\n",
    "    return\n",
    "\n",
    "\n",
    "f()\n",
    "print(x)\n"
   ]
  },
  {
   "cell_type": "code",
   "execution_count": 21,
   "metadata": {},
   "outputs": [
    {
     "name": "stdout",
     "output_type": "stream",
     "text": [
      "Start f()\n",
      "Start g()\n",
      "Enclosed\n",
      "End g()\n",
      "Enclosed\n",
      "End f()\n",
      "Global\n"
     ]
    }
   ],
   "source": [
    "x = \"Global\"\n",
    "def f():\n",
    "    x = \"Enclosed\"\n",
    "    print('Start f()')\n",
    "\n",
    "    def g():\n",
    "        print('Start g()')\n",
    "        print(x)\n",
    "        print('End g()')\n",
    "        # return\n",
    "\n",
    "    g()\n",
    "    print(x)\n",
    "\n",
    "    print('End f()')\n",
    "    return\n",
    "\n",
    "\n",
    "f()\n",
    "print(x)"
   ]
  },
  {
   "cell_type": "code",
   "execution_count": 22,
   "metadata": {},
   "outputs": [
    {
     "name": "stdout",
     "output_type": "stream",
     "text": [
      "Start f()\n",
      "Start g()\n",
      "inner\n",
      "End g()\n",
      "Enclosed\n",
      "End f()\n",
      "Global\n"
     ]
    }
   ],
   "source": [
    "x = \"Global\"\n",
    "def f():\n",
    "    x = \"Enclosed\"\n",
    "    print('Start f()')\n",
    "\n",
    "    def g():\n",
    "        x = \"inner\"\n",
    "        print('Start g()')\n",
    "        print(x)\n",
    "        print('End g()')\n",
    "        # return\n",
    "\n",
    "    g()\n",
    "    print(x)\n",
    "\n",
    "    print('End f()')\n",
    "    # return\n",
    "\n",
    "\n",
    "f()\n",
    "print(x)"
   ]
  },
  {
   "cell_type": "code",
   "execution_count": null,
   "metadata": {},
   "outputs": [],
   "source": []
  }
 ],
 "metadata": {
  "kernelspec": {
   "display_name": "venv",
   "language": "python",
   "name": "python3"
  },
  "language_info": {
   "codemirror_mode": {
    "name": "ipython",
    "version": 3
   },
   "file_extension": ".py",
   "mimetype": "text/x-python",
   "name": "python",
   "nbconvert_exporter": "python",
   "pygments_lexer": "ipython3",
   "version": "3.12.1"
  }
 },
 "nbformat": 4,
 "nbformat_minor": 2
}
