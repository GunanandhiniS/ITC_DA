{
 "cells": [
  {
   "cell_type": "code",
   "execution_count": 1,
   "metadata": {},
   "outputs": [
    {
     "name": "stdout",
     "output_type": "stream",
     "text": [
      "hello world\n"
     ]
    }
   ],
   "source": [
    "print(\"hello world\")\n"
   ]
  },
  {
   "cell_type": "markdown",
   "metadata": {},
   "source": [
    "File Handling - Read and Write Operation."
   ]
  },
  {
   "cell_type": "markdown",
   "metadata": {},
   "source": [
    "read(size) – read some contents of a file based on the optional size and return the contents as a string. If you omit the size, the read() method reads from where it left off till the end of the file. If the end of a file has been reached, the read() method returns an empty string.\n",
    "\n",
    "readline() – read a single line from a text file and return the line as a string. If the end of a file has been reached, the readline() returns an empty string.\n",
    "\n",
    "readlines() – read all the lines of the text file into a list of strings. This method is useful if you have a small file and you want to manipulate the whole text of that file."
   ]
  },
  {
   "cell_type": "code",
   "execution_count": 1,
   "metadata": {},
   "outputs": [
    {
     "name": "stdout",
     "output_type": "stream",
     "text": [
      "array               math                tabnanny\n",
      "__future__          ast                 matplotlib_inline   tarfile\n",
      "__hello__           asttokens           mimetypes           telnetlib\n",
      "__phello__          asyncio             mmap                tempfile\n",
      "_abc                atexit              mmapfile            test\n",
      "_aix_support        audioop             mmsystem            textwrap\n",
      "_ast                base64              modulefinder        this\n",
      "_asyncio            bdb                 msilib              threading\n",
      "_bisect             binascii            msvcrt              time\n",
      "_blake2             bisect              multiprocessing     timeit\n",
      "_bz2                builtins            nest_asyncio        timer\n",
      "_codecs             bz2                 netbios             tkinter\n",
      "_codecs_cn          cProfile            netrc               token\n",
      "_codecs_hk          calendar            nntplib             tokenize\n",
      "_codecs_iso2022     cgi                 nt                  tomllib\n",
      "_codecs_jp          cgitb               ntpath              tornado\n",
      "_codecs_kr          chunk               ntsecuritycon       trace\n",
      "_codecs_tw          cmath               nturl2path          traceback\n",
      "_collections        cmd                 numbers             tracemalloc\n",
      "_collections_abc    code                odbc                traitlets\n",
      "_compat_pickle      codecs              opcode              tty\n",
      "_compression        codeop              operator            turtle\n",
      "_contextvars        collections         optparse            turtledemo\n",
      "_csv                colorama            os                  types\n",
      "_ctypes             colorsys            packaging           typing\n",
      "_ctypes_test        comm                parso               unicodedata\n",
      "_datetime           commctrl            pathlib             unittest\n",
      "_decimal            compileall          pdb                 urllib\n",
      "_elementtree        concurrent          perfmon             uu\n",
      "_functools          configparser        pickle              uuid\n",
      "_hashlib            contextlib          pickletools         venv\n",
      "_heapq              contextvars         pip                 warnings\n",
      "_imp                copy                pipes               wave\n",
      "_io                 copyreg             pkgutil             wcwidth\n",
      "_json               crypt               platform            weakref\n",
      "_locale             csv                 platformdirs        webbrowser\n",
      "_lsprof             ctypes              plistlib            win2kras\n",
      "_lzma               curses              poplib              win32api\n",
      "_markupbase         dataclasses         posixpath           win32clipboard\n",
      "_md5                datetime            pprint              win32com\n",
      "_msi                dateutil            profile             win32con\n",
      "_multibytecodec     dbi                 prompt_toolkit      win32console\n",
      "_multiprocessing    dbm                 pstats              win32cred\n",
      "_opcode             dde                 psutil              win32crypt\n",
      "_operator           debugpy             pty                 win32cryptcon\n",
      "_osx_support        decimal             pure_eval           win32event\n",
      "_overlapped         decorator           py_compile          win32evtlog\n",
      "_pickle             difflib             pyclbr              win32evtlogutil\n",
      "_py_abc             dis                 pydoc               win32file\n",
      "_pydatetime         doctest             pydoc_data          win32gui\n",
      "_pydecimal          email               pyexpat             win32gui_struct\n",
      "_pyio               encodings           pygments            win32help\n",
      "_pylong             ensurepip           pythoncom           win32inet\n",
      "_queue              enum                pywin               win32inetcon\n",
      "_random             errno               pywin32_bootstrap   win32job\n",
      "_sha1               executing           pywin32_testutil    win32lz\n",
      "_sha2               faulthandler        pywintypes          win32net\n",
      "_sha3               filecmp             queue               win32netcon\n",
      "_signal             fileinput           quopri              win32pdh\n",
      "_sitebuiltins       fnmatch             random              win32pdhquery\n",
      "_socket             fractions           rasutil             win32pdhutil\n",
      "_sqlite3            ftplib              re                  win32pipe\n",
      "_sre                functools           regcheck            win32print\n",
      "_ssl                gc                  regutil             win32process\n",
      "_stat               genericpath         reprlib             win32profile\n",
      "_statistics         getopt              rlcompleter         win32ras\n",
      "_string             getpass             runpy               win32rcparser\n",
      "_strptime           gettext             sched               win32security\n",
      "_struct             glob                secrets             win32service\n",
      "_symtable           graphlib            select              win32serviceutil\n",
      "_testbuffer         gzip                selectors           win32timezone\n",
      "_testcapi           hashlib             servicemanager      win32trace\n",
      "_testclinic         heapq               shelve              win32traceutil\n",
      "_testconsole        hmac                shlex               win32transaction\n",
      "_testimportmultiple html                shutil              win32ts\n",
      "_testinternalcapi   http                signal              win32ui\n",
      "_testmultiphase     idlelib             site                win32uiole\n",
      "_testsinglephase    imaplib             six                 win32verstamp\n",
      "_thread             imghdr              smtplib             win32wnet\n",
      "_threading_local    importlib           sndhdr              winerror\n",
      "_tkinter            inspect             socket              winioctlcon\n",
      "_tokenize           io                  socketserver        winnt\n",
      "_tracemalloc        ipaddress           sqlite3             winperf\n",
      "_typing             ipykernel           sre_compile         winreg\n",
      "_uuid               ipykernel_launcher  sre_constants       winsound\n",
      "_warnings           isapi               sre_parse           winxpgui\n",
      "_weakref            itertools           ssl                 winxptheme\n",
      "_weakrefset         jedi                sspi                wsgiref\n",
      "_win32sysloader     json                sspicon             xdrlib\n",
      "_winapi             jupyter             stack_data          xml\n",
      "_winxptheme         jupyter_client      start_pythonwin     xmlrpc\n",
      "_wmi                jupyter_core        stat                xxsubtype\n",
      "_xxinterpchannels   keyword             statistics          zipapp\n",
      "_xxsubinterpreters  lib2to3             string              zipfile\n",
      "_zoneinfo           linecache           stringprep          zipimport\n",
      "abc                 locale              struct              zlib\n",
      "adodbapi            logging             subprocess          zmq\n",
      "afxres              lzma                sunau               zoneinfo\n",
      "aifc                mailbox             symtable            \n",
      "antigravity         mailcap             sys                 \n",
      "argparse            marshal             sysconfig           \n"
     ]
    }
   ],
   "source": [
    "f = open('test.txt', 'r')\n",
    "print(f.read())\n",
    "f.close()"
   ]
  },
  {
   "cell_type": "code",
   "execution_count": null,
   "metadata": {},
   "outputs": [],
   "source": []
  },
  {
   "cell_type": "code",
   "execution_count": 14,
   "metadata": {},
   "outputs": [
    {
     "name": "stdout",
     "output_type": "stream",
     "text": [
      "array               math                tabnanny\n",
      "\n"
     ]
    }
   ],
   "source": [
    "f = open('test.txt', 'r')\n",
    "print(f.readline())\n",
    "f.close()"
   ]
  },
  {
   "cell_type": "code",
   "execution_count": 15,
   "metadata": {},
   "outputs": [
    {
     "name": "stdout",
     "output_type": "stream",
     "text": [
      "['array               math                tabnanny\\n', '__future__          ast                 matplotlib_inline   tarfile\\n', '__hello__           asttokens           mimetypes           telnetlib\\n', '__phello__          asyncio             mmap                tempfile\\n', '_abc                atexit              mmapfile            test\\n', '_aix_support        audioop             mmsystem            textwrap\\n', '_ast                base64              modulefinder        this\\n', '_asyncio            bdb                 msilib              threading\\n', '_bisect             binascii            msvcrt              time\\n', '_blake2             bisect              multiprocessing     timeit\\n', '_bz2                builtins            nest_asyncio        timer\\n', '_codecs             bz2                 netbios             tkinter\\n', '_codecs_cn          cProfile            netrc               token\\n', '_codecs_hk          calendar            nntplib             tokenize\\n', '_codecs_iso2022     cgi                 nt                  tomllib\\n', '_codecs_jp          cgitb               ntpath              tornado\\n', '_codecs_kr          chunk               ntsecuritycon       trace\\n', '_codecs_tw          cmath               nturl2path          traceback\\n', '_collections        cmd                 numbers             tracemalloc\\n', '_collections_abc    code                odbc                traitlets\\n', '_compat_pickle      codecs              opcode              tty\\n', '_compression        codeop              operator            turtle\\n', '_contextvars        collections         optparse            turtledemo\\n', '_csv                colorama            os                  types\\n', '_ctypes             colorsys            packaging           typing\\n', '_ctypes_test        comm                parso               unicodedata\\n', '_datetime           commctrl            pathlib             unittest\\n', '_decimal            compileall          pdb                 urllib\\n', '_elementtree        concurrent          perfmon             uu\\n', '_functools          configparser        pickle              uuid\\n', '_hashlib            contextlib          pickletools         venv\\n', '_heapq              contextvars         pip                 warnings\\n', '_imp                copy                pipes               wave\\n', '_io                 copyreg             pkgutil             wcwidth\\n', '_json               crypt               platform            weakref\\n', '_locale             csv                 platformdirs        webbrowser\\n', '_lsprof             ctypes              plistlib            win2kras\\n', '_lzma               curses              poplib              win32api\\n', '_markupbase         dataclasses         posixpath           win32clipboard\\n', '_md5                datetime            pprint              win32com\\n', '_msi                dateutil            profile             win32con\\n', '_multibytecodec     dbi                 prompt_toolkit      win32console\\n', '_multiprocessing    dbm                 pstats              win32cred\\n', '_opcode             dde                 psutil              win32crypt\\n', '_operator           debugpy             pty                 win32cryptcon\\n', '_osx_support        decimal             pure_eval           win32event\\n', '_overlapped         decorator           py_compile          win32evtlog\\n', '_pickle             difflib             pyclbr              win32evtlogutil\\n', '_py_abc             dis                 pydoc               win32file\\n', '_pydatetime         doctest             pydoc_data          win32gui\\n', '_pydecimal          email               pyexpat             win32gui_struct\\n', '_pyio               encodings           pygments            win32help\\n', '_pylong             ensurepip           pythoncom           win32inet\\n', '_queue              enum                pywin               win32inetcon\\n', '_random             errno               pywin32_bootstrap   win32job\\n', '_sha1               executing           pywin32_testutil    win32lz\\n', '_sha2               faulthandler        pywintypes          win32net\\n', '_sha3               filecmp             queue               win32netcon\\n', '_signal             fileinput           quopri              win32pdh\\n', '_sitebuiltins       fnmatch             random              win32pdhquery\\n', '_socket             fractions           rasutil             win32pdhutil\\n', '_sqlite3            ftplib              re                  win32pipe\\n', '_sre                functools           regcheck            win32print\\n', '_ssl                gc                  regutil             win32process\\n', '_stat               genericpath         reprlib             win32profile\\n', '_statistics         getopt              rlcompleter         win32ras\\n', '_string             getpass             runpy               win32rcparser\\n', '_strptime           gettext             sched               win32security\\n', '_struct             glob                secrets             win32service\\n', '_symtable           graphlib            select              win32serviceutil\\n', '_testbuffer         gzip                selectors           win32timezone\\n', '_testcapi           hashlib             servicemanager      win32trace\\n', '_testclinic         heapq               shelve              win32traceutil\\n', '_testconsole        hmac                shlex               win32transaction\\n', '_testimportmultiple html                shutil              win32ts\\n', '_testinternalcapi   http                signal              win32ui\\n', '_testmultiphase     idlelib             site                win32uiole\\n', '_testsinglephase    imaplib             six                 win32verstamp\\n', '_thread             imghdr              smtplib             win32wnet\\n', '_threading_local    importlib           sndhdr              winerror\\n', '_tkinter            inspect             socket              winioctlcon\\n', '_tokenize           io                  socketserver        winnt\\n', '_tracemalloc        ipaddress           sqlite3             winperf\\n', '_typing             ipykernel           sre_compile         winreg\\n', '_uuid               ipykernel_launcher  sre_constants       winsound\\n', '_warnings           isapi               sre_parse           winxpgui\\n', '_weakref            itertools           ssl                 winxptheme\\n', '_weakrefset         jedi                sspi                wsgiref\\n', '_win32sysloader     json                sspicon             xdrlib\\n', '_winapi             jupyter             stack_data          xml\\n', '_winxptheme         jupyter_client      start_pythonwin     xmlrpc\\n', '_wmi                jupyter_core        stat                xxsubtype\\n', '_xxinterpchannels   keyword             statistics          zipapp\\n', '_xxsubinterpreters  lib2to3             string              zipfile\\n', '_zoneinfo           linecache           stringprep          zipimport\\n', 'abc                 locale              struct              zlib\\n', 'adodbapi            logging             subprocess          zmq\\n', 'afxres              lzma                sunau               zoneinfo\\n', 'aifc                mailbox             symtable            \\n', 'antigravity         mailcap             sys                 \\n', 'argparse            marshal             sysconfig           ']\n"
     ]
    }
   ],
   "source": [
    "f = open('test.txt', 'r')\n",
    "print(f.readlines())\n",
    "f.close()"
   ]
  },
  {
   "cell_type": "markdown",
   "metadata": {},
   "source": [
    "### Writing Data to files."
   ]
  },
  {
   "cell_type": "markdown",
   "metadata": {},
   "source": [
    "### Write()\n",
    "### Writelines()"
   ]
  },
  {
   "cell_type": "code",
   "execution_count": 2,
   "metadata": {},
   "outputs": [],
   "source": [
    "file1 = open('myfile_1.txt', 'w')\n",
    "\n",
    "L = [\"This is Delhi \\n\", \"This is Paris \\n\", \"This is London \\n\"]\n",
    "s = \"Hello\\n\"\n",
    "\n",
    "# Writing a list of strings to file\n",
    "file1.writelines(L)\n",
    "\n",
    "# Writing a string to file\n",
    "file1.write(s)\n",
    "\n",
    "# Close the file\n",
    "file1.close()\n"
   ]
  },
  {
   "cell_type": "markdown",
   "metadata": {},
   "source": [
    "# Writing a string to file\n",
    "file1.write(s)\n",
    "\n",
    "Writing multiple strings\n",
    "# at a time\n",
    "file1.writelines(L)\n",
    "\n",
    "# Closing file\n",
    "file1.close()"
   ]
  },
  {
   "cell_type": "code",
   "execution_count": 5,
   "metadata": {},
   "outputs": [],
   "source": [
    "f = open('myfile_1.txt','r')"
   ]
  },
  {
   "cell_type": "code",
   "execution_count": 6,
   "metadata": {},
   "outputs": [
    {
     "name": "stdout",
     "output_type": "stream",
     "text": [
      "This is Delhi \n",
      "This is Paris \n",
      "This is London \n",
      "Hello\n",
      "this is going to be awesome.\n"
     ]
    }
   ],
   "source": [
    "print(f.read())\n",
    "f.close()"
   ]
  },
  {
   "cell_type": "code",
   "execution_count": null,
   "metadata": {},
   "outputs": [],
   "source": []
  }
 ],
 "metadata": {
  "kernelspec": {
   "display_name": "venv",
   "language": "python",
   "name": "python3"
  },
  "language_info": {
   "codemirror_mode": {
    "name": "ipython",
    "version": 3
   },
   "file_extension": ".py",
   "mimetype": "text/x-python",
   "name": "python",
   "nbconvert_exporter": "python",
   "pygments_lexer": "ipython3",
   "version": "3.12.1"
  }
 },
 "nbformat": 4,
 "nbformat_minor": 2
}
