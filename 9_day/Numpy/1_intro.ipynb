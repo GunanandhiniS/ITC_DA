{
 "cells": [
  {
   "cell_type": "code",
   "execution_count": 1,
   "metadata": {},
   "outputs": [
    {
     "name": "stdout",
     "output_type": "stream",
     "text": [
      "hello world\n"
     ]
    }
   ],
   "source": [
    "print(\"hello world\")"
   ]
  },
  {
   "cell_type": "markdown",
   "metadata": {},
   "source": [
    "NumPy is a general-purpose array-processing package. It provides a high-performance multidimensional array object, and tools for working with these arrays.\n",
    "\n",
    "It is the fundamental package for scientific computing with Python. It contains various features including these important ones:\n",
    "\n",
    "A powerful N-dimensional array object\n",
    "\n",
    "Sophisticated (broadcasting) functions\n",
    "\n",
    "Tools for integrating C/C++ and Fortran code\n",
    "\n",
    "Useful linear algebra, Fourier transform, and random number capabilities\n",
    "\n",
    "Technique for effectively loading, storing and manipulating data in python.\n"
   ]
  },
  {
   "cell_type": "markdown",
   "metadata": {},
   "source": [
    "Efficient storage and manipulation of numerical arrays is absolutely fundamental to the process of doing Data Science\n",
    "\n",
    "Specialized tools that python has for handling such numerical arrays\n",
    "\n",
    "Numpy Package\n",
    "\n",
    "Pandas Package\n",
    "### Why Numpy Instead if List\n",
    "\n",
    "        Less Memory\n",
    "        Fast\n",
    "        Convenient\n"
   ]
  },
  {
   "cell_type": "markdown",
   "metadata": {},
   "source": [
    "# List\n"
   ]
  },
  {
   "cell_type": "code",
   "execution_count": 3,
   "metadata": {},
   "outputs": [
    {
     "name": "stdout",
     "output_type": "stream",
     "text": [
      "28000\n"
     ]
    }
   ],
   "source": [
    "import numpy as np\n",
    "import time\n",
    "import sys\n",
    "s =range(1000)\n",
    "print(sys.getsizeof(5)*len(s))\n"
   ]
  },
  {
   "cell_type": "markdown",
   "metadata": {},
   "source": [
    "# Numpy"
   ]
  },
  {
   "cell_type": "code",
   "execution_count": 8,
   "metadata": {},
   "outputs": [
    {
     "name": "stdout",
     "output_type": "stream",
     "text": [
      "4000\n"
     ]
    }
   ],
   "source": [
    "import numpy as np\n",
    "\n",
    "D=np.arange(1000)\n",
    "print(D.size*D.itemsize)\n"
   ]
  },
  {
   "cell_type": "code",
   "execution_count": 10,
   "metadata": {},
   "outputs": [
    {
     "name": "stdout",
     "output_type": "stream",
     "text": [
      "116.8057918548584\n",
      "6.990909576416016\n"
     ]
    }
   ],
   "source": [
    "import numpy as np\n",
    "import time\n",
    "SIZE=100000\n",
    "L1=range(SIZE)\n",
    "L2=range(SIZE)\n",
    "A1=np.arange(SIZE)\n",
    "A2=np.arange(SIZE)\n",
    "start=time.time()\n",
    "result=[(x,y) for x,y in zip(L1,L2)]\n",
    "print((time.time()-start)*1000)\n",
    "start=time.time()\n",
    "result=A1+A2\n",
    "print((time.time()-start)*1000)\n"
   ]
  },
  {
   "cell_type": "code",
   "execution_count": 11,
   "metadata": {},
   "outputs": [
    {
     "name": "stdout",
     "output_type": "stream",
     "text": [
      "Array is of type:  <class 'numpy.ndarray'>\n",
      "No. of dimensions:  2\n",
      "Shape of array:  (2, 3)\n",
      "Size of array:  6\n",
      "Array stores elements of type:  int32\n"
     ]
    }
   ],
   "source": [
    "import numpy as np\n",
    "arr = np.array( [[ 1, 2, 3],\n",
    "                 [ 4, 2, 5]] )\n",
    "print(\"Array is of type: \", type(arr))\n",
    "print(\"No. of dimensions: \", arr.ndim)\n",
    "print(\"Shape of array: \", arr.shape)\n",
    "print(\"Size of array: \", arr.size)\n",
    "print(\"Array stores elements of type: \", arr.dtype)\n"
   ]
  },
  {
   "cell_type": "markdown",
   "metadata": {},
   "source": [
    "# Array creation"
   ]
  },
  {
   "cell_type": "markdown",
   "metadata": {},
   "source": [
    "To create sequences of numbers, NumPy provides a function analogous to range that returns arrays instead of lists.\n",
    "\n",
    "For example: np.zeros, np.ones, np.full, np.empty, etc.\n",
    "\n",
    "arange: returns evenly spaced values within a given interval. step size is specified.\n",
    "\n",
    "linspace: returns evenly spaced values within a given interval. num no. of elements are returned.\n",
    "\n",
    "Reshaping array: We can use reshape method to reshape an array. Consider an array with shape (a1, a2, a3, …, aN). We can reshape and convert it into \n",
    "\n",
    "another array with shape (b1, b2, b3, …, bM). The only required condition is:\u000ba1 x a2 x a3 … x aN = b1 x b2 x b3 … x bM . (i.e original size of \n",
    "\n",
    "array remains unchanged.)\n",
    "\n",
    "Flatten array: We can use flatten method to get a copy of array collapsed into one dimension. It accepts order argument. Default value is ‘C’ (for row-major order). Use ‘F’ for column major order.\n",
    "\n",
    "\n"
   ]
  },
  {
   "cell_type": "code",
   "execution_count": 12,
   "metadata": {},
   "outputs": [
    {
     "name": "stdout",
     "output_type": "stream",
     "text": [
      "Array created using passed list:\n",
      " [[1. 2. 4.]\n",
      " [5. 8. 7.]]\n",
      "\n",
      "Array created using passed tuple:\n",
      " [1 3 2]\n",
      "\n",
      "An array initialized with all zeros:\n",
      " [[0. 0. 0. 0.]\n",
      " [0. 0. 0. 0.]\n",
      " [0. 0. 0. 0.]]\n",
      "\n",
      "An array initialized with all 6s.Array type is complex:\n",
      " [[6.+0.j 6.+0.j 6.+0.j]\n",
      " [6.+0.j 6.+0.j 6.+0.j]\n",
      " [6.+0.j 6.+0.j 6.+0.j]]\n",
      "\n",
      "A random array:\n",
      " [[0.25522324 0.87859245]\n",
      " [0.14903268 0.36805934]]\n",
      "\n",
      "A sequential array with steps of 5:\n",
      " [ 0  5 10 15 20 25]\n"
     ]
    }
   ],
   "source": [
    "import numpy as np\n",
    "a = np.array([[1, 2, 4], [5, 8, 7]], dtype = 'float')\n",
    "print (\"Array created using passed list:\\n\", a)\n",
    "b = np.array((1 , 3, 2))\n",
    "print (\"\\nArray created using passed tuple:\\n\", b)\n",
    "c = np.zeros((3, 4))\n",
    "print (\"\\nAn array initialized with all zeros:\\n\", c)\n",
    "d = np.full((3, 3), 6, dtype = 'complex')\n",
    "print (\"\\nAn array initialized with all 6s.\" \n",
    "            \"Array type is complex:\\n\", d)\n",
    "e = np.random.random((2, 2))\n",
    "print (\"\\nA random array:\\n\", e)\n",
    "f = np.arange(0, 30, 5)\n",
    "print (\"\\nA sequential array with steps of 5:\\n\", f)\n",
    "\n"
   ]
  },
  {
   "cell_type": "markdown",
   "metadata": {},
   "source": [
    "Array Indexing: Knowing the basics of array indexing is important for analysing and manipulating the array object. NumPy offers many ways to do \n",
    "\n",
    "array indexing\n",
    "\n",
    "Slicing: Just like lists in python, NumPy arrays can be sliced. As arrays can be multidimensional, you need to specify a slice for each dimension of \n",
    "the array. \n",
    "\n",
    "Integer array indexing: In this method, lists are passed for indexing for each dimension. One to one mapping of corresponding elements is done to construct a new arbitrary array.\n",
    "\n",
    "Boolean array indexing: This method is used when we want to pick elements from array which satisfy some condition.\n",
    "\n"
   ]
  },
  {
   "cell_type": "code",
   "execution_count": 15,
   "metadata": {},
   "outputs": [
    {
     "name": "stdout",
     "output_type": "stream",
     "text": [
      "Array with first 2 rows and alternatecolumns(0 and 2):\n",
      " [[-1.  0.]\n",
      " [ 4.  6.]]\n",
      "\n",
      "Elements at indices (0, 3), (1, 2), (2, 1),(3, 0):\n",
      " [4. 6. 0. 3.]\n",
      "\n",
      "Elements greater than 0:\n",
      " [2.  4.  4.  6.  2.6 7.  8.  3.  4.  2. ]\n"
     ]
    }
   ],
   "source": [
    "import numpy as np\n",
    "arr = np.array([[-1, 2, 0, 4],\n",
    "                [4, -0.5, 6, 0],\n",
    "                [2.6, 0, 7, 8],\n",
    "                [3, -7, 4, 2.0]])\n",
    "temp = arr[:2, ::2]\n",
    "\n",
    "print (\"Array with first 2 rows and alternate\"\n",
    "                    \"columns(0 and 2):\\n\", temp)\n",
    "temp = arr[[0, 1, 2, 3], [3, 2, 1, 0]]\n",
    "print (\"\\nElements at indices (0, 3), (1, 2), (2, 1),\"\n",
    "                                    \"(3, 0):\\n\", temp)\n",
    "cond = arr > 0 \n",
    "temp = arr[cond]\n",
    "print (\"\\nElements greater than 0:\\n\", temp)\n"
   ]
  },
  {
   "cell_type": "markdown",
   "metadata": {},
   "source": [
    "# BASIC OPERATIONS\n"
   ]
  },
  {
   "cell_type": "code",
   "execution_count": 16,
   "metadata": {},
   "outputs": [
    {
     "name": "stdout",
     "output_type": "stream",
     "text": [
      "Adding 1 to every element: [2 3 6 4]\n",
      "Subtracting 3 from each element: [-2 -1  2  0]\n",
      "Multiplying each element by 10: [10 20 50 30]\n",
      "Squaring each element: [ 1  4 25  9]\n",
      "Doubled each element of original array: [ 2  4 10  6]\n",
      "\n",
      "Original array:\n",
      " [[1 2 3]\n",
      " [3 4 5]\n",
      " [9 6 0]]\n",
      "Transpose of array:\n",
      " [[1 3 9]\n",
      " [2 4 6]\n",
      " [3 5 0]]\n"
     ]
    }
   ],
   "source": [
    "import numpy as np\n",
    "a = np.array([1, 2, 5, 3])\n",
    "print (\"Adding 1 to every element:\", a+1)\n",
    "print (\"Subtracting 3 from each element:\", a-3)\n",
    "print (\"Multiplying each element by 10:\", a*10)\n",
    "print (\"Squaring each element:\", a**2)\n",
    "a *= 2\n",
    "print (\"Doubled each element of original array:\", a)\n",
    "a = np.array([[1, 2, 3], [3, 4, 5], [9, 6, 0]])\n",
    "print (\"\\nOriginal array:\\n\", a)\n",
    "print (\"Transpose of array:\\n\", a.T)\n"
   ]
  },
  {
   "cell_type": "markdown",
   "metadata": {},
   "source": [
    "# Numpy sum with axis 0\n"
   ]
  },
  {
   "cell_type": "code",
   "execution_count": 17,
   "metadata": {},
   "outputs": [
    {
     "name": "stdout",
     "output_type": "stream",
     "text": [
      "[[0 1 2]\n",
      " [3 4 5]]\n",
      "[3 5 7]\n"
     ]
    }
   ],
   "source": [
    "import numpy as np\n",
    "np_array_2d = np.arange(0, 6).reshape([2,3])\n",
    "print(np_array_2d)\n",
    "a = np.sum(np_array_2d, axis = 0)\n",
    "print(a)\n"
   ]
  },
  {
   "cell_type": "markdown",
   "metadata": {},
   "source": [
    "Numpy Sum With Axis 1\n"
   ]
  },
  {
   "cell_type": "code",
   "execution_count": 18,
   "metadata": {},
   "outputs": [
    {
     "name": "stdout",
     "output_type": "stream",
     "text": [
      "[[0 1 2]\n",
      " [3 4 5]]\n",
      "[ 3 12]\n"
     ]
    }
   ],
   "source": [
    "import numpy as np\n",
    "np_array_2d = np.arange(0, 6).reshape([2,3])\n",
    "print(np_array_2d)\n",
    "a = np.sum(np_array_2d, axis = 1)\n",
    "print(a)\n"
   ]
  },
  {
   "cell_type": "markdown",
   "metadata": {},
   "source": [
    "Concatenate Np arrays with axis 0\n"
   ]
  },
  {
   "cell_type": "code",
   "execution_count": 19,
   "metadata": {},
   "outputs": [
    {
     "name": "stdout",
     "output_type": "stream",
     "text": [
      "[[1 1 1]\n",
      " [1 1 1]]\n",
      "[[2 2 2]\n",
      " [2 2 2]]\n",
      "[[1 1 1]\n",
      " [1 1 1]\n",
      " [2 2 2]\n",
      " [2 2 2]]\n"
     ]
    }
   ],
   "source": [
    "import numpy as np\n",
    "np_array_1 = np.array([[1,1,1],[1,1,1]])\n",
    "np_array_2 = np.array([[2,2,2],[2,2,2]])\n",
    "print(np_array_1)\n",
    "print(np_array_2)\n",
    "a = np.concatenate([np_array_1, np_array_2], axis = 0)\n",
    "print(a)\n"
   ]
  },
  {
   "cell_type": "markdown",
   "metadata": {},
   "source": [
    "# Concatenate Numpy arrays with axis 1\n"
   ]
  },
  {
   "cell_type": "code",
   "execution_count": 20,
   "metadata": {},
   "outputs": [
    {
     "name": "stdout",
     "output_type": "stream",
     "text": [
      "[[1 1 1]\n",
      " [1 1 1]]\n",
      "[[2 2 2]\n",
      " [2 2 2]]\n",
      "[[1 1 1 2 2 2]\n",
      " [1 1 1 2 2 2]]\n"
     ]
    }
   ],
   "source": [
    "import numpy as np\n",
    "np_array_1 = np.array([[1,1,1],[1,1,1]])\n",
    "np_array_2 = np.array([[2,2,2],[2,2,2]])\n",
    "print(np_array_1)\n",
    "print(np_array_2)\n",
    "a = np.concatenate([np_array_1, np_array_2], axis = 1)\n",
    "print(a)\n"
   ]
  },
  {
   "cell_type": "markdown",
   "metadata": {},
   "source": [
    "# Example to concatenate two 1D arrays with Np axis in python\n"
   ]
  },
  {
   "cell_type": "code",
   "execution_count": 24,
   "metadata": {},
   "outputs": [
    {
     "name": "stdout",
     "output_type": "stream",
     "text": [
      "[1 1 1]\n",
      "[2 2 2]\n",
      "[1 1 1 2 2 2]\n"
     ]
    }
   ],
   "source": [
    "import numpy as np\n",
    "np_array_1 = np.array([1,1,1])\n",
    "np_array_2 = np.array([2,2,2])\n",
    "print(np_array_1)\n",
    "print(np_array_2)\n",
    "a = np.concatenate([np_array_1, np_array_2], axis = 0)\n",
    "print(a)\n"
   ]
  },
  {
   "cell_type": "code",
   "execution_count": 25,
   "metadata": {},
   "outputs": [
    {
     "ename": "AxisError",
     "evalue": "axis 1 is out of bounds for array of dimension 1",
     "output_type": "error",
     "traceback": [
      "\u001b[1;31m---------------------------------------------------------------------------\u001b[0m",
      "\u001b[1;31mAxisError\u001b[0m                                 Traceback (most recent call last)",
      "Cell \u001b[1;32mIn[25], line 1\u001b[0m\n\u001b[1;32m----> 1\u001b[0m b \u001b[38;5;241m=\u001b[39m \u001b[43mnp\u001b[49m\u001b[38;5;241;43m.\u001b[39;49m\u001b[43mconcatenate\u001b[49m\u001b[43m(\u001b[49m\u001b[43m[\u001b[49m\u001b[43mnp_array_1\u001b[49m\u001b[43m,\u001b[49m\u001b[43m \u001b[49m\u001b[43mnp_array_2\u001b[49m\u001b[43m]\u001b[49m\u001b[43m,\u001b[49m\u001b[43m \u001b[49m\u001b[43maxis\u001b[49m\u001b[43m \u001b[49m\u001b[38;5;241;43m=\u001b[39;49m\u001b[43m \u001b[49m\u001b[38;5;241;43m1\u001b[39;49m\u001b[43m)\u001b[49m\n\u001b[0;32m      2\u001b[0m \u001b[38;5;28mprint\u001b[39m(b)\n",
      "\u001b[1;31mAxisError\u001b[0m: axis 1 is out of bounds for array of dimension 1"
     ]
    }
   ],
   "source": [
    "b = np.concatenate([np_array_1, np_array_2], axis = 1)\n",
    "print(b)\n"
   ]
  },
  {
   "cell_type": "code",
   "execution_count": null,
   "metadata": {},
   "outputs": [],
   "source": []
  }
 ],
 "metadata": {
  "kernelspec": {
   "display_name": "venv",
   "language": "python",
   "name": "python3"
  },
  "language_info": {
   "codemirror_mode": {
    "name": "ipython",
    "version": 3
   },
   "file_extension": ".py",
   "mimetype": "text/x-python",
   "name": "python",
   "nbconvert_exporter": "python",
   "pygments_lexer": "ipython3",
   "version": "3.12.1"
  }
 },
 "nbformat": 4,
 "nbformat_minor": 2
}
