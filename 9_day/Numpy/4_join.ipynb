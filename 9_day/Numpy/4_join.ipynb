{
 "cells": [
  {
   "cell_type": "code",
   "execution_count": 1,
   "metadata": {},
   "outputs": [
    {
     "name": "stdout",
     "output_type": "stream",
     "text": [
      "hello world\n"
     ]
    }
   ],
   "source": [
    "print(\"hello world\")"
   ]
  },
  {
   "cell_type": "markdown",
   "metadata": {},
   "source": [
    "# Join"
   ]
  },
  {
   "cell_type": "markdown",
   "metadata": {},
   "source": [
    "The join() function is used to add a separator character or string to any given string or to all the elements of the given array of strings. \n",
    "\n",
    "If you have a string \"STUDY\" and you want to use \"-\" as separator character, then using the join() function the output will be \"S-T-U-D-Y\".\n",
    "\n",
    "This function basically calls str.join function internally on every element of the array.\n",
    "\n",
    "Syntax of numpy.char.join():\n",
    "The syntax required to use this function is as follows:\n",
    "\n",
    "\t\tnumpy.char.join(sep, seq)\n",
    "The above syntax indicates that join() function takes two parameters.\n"
   ]
  },
  {
   "cell_type": "markdown",
   "metadata": {},
   "source": [
    "### Parameters:\n",
    "\n",
    "### sep\n",
    "This argument represents an array of string/characters used as the separator characters.\n",
    "\n",
    "### seq\n",
    "This argument indicates the input array or string on which the operation will be performed.\n",
    "\n",
    "### Returned Values:\n",
    "\n",
    "This function returns an output array of either string or Unicode with the joined elements.\n"
   ]
  },
  {
   "cell_type": "markdown",
   "metadata": {},
   "source": [
    "### Example 1: With a simple string\n"
   ]
  },
  {
   "cell_type": "code",
   "execution_count": 2,
   "metadata": {},
   "outputs": [
    {
     "name": "stdout",
     "output_type": "stream",
     "text": [
      "The Joined string in the output:\n",
      "D:G\n"
     ]
    }
   ],
   "source": [
    "import numpy as np\n",
    "   \n",
    "a = np.char.join(':','DG')\n",
    "print(\"The Joined string in the output:\")\n",
    "print(a)\n"
   ]
  },
  {
   "cell_type": "markdown",
   "metadata": {},
   "source": [
    "### Example 2: With an Array of String\n",
    "\n",
    "### We will use join() function on the array of strings with unique separator for each string element of the array.\n"
   ]
  },
  {
   "cell_type": "code",
   "execution_count": 3,
   "metadata": {},
   "outputs": [
    {
     "name": "stdout",
     "output_type": "stream",
     "text": [
      "The original Input array : \n",
      " ['Apple' 'Python' 'NumPy' 'StudyTonight']\n",
      "The Output joined array:  ['A^p^p^l^e' 'P+y+t+h+o+n' 'N*u*m*P*y' 'S-t-u-d-y-T-o-n-i-g-h-t']\n"
     ]
    }
   ],
   "source": [
    "\n",
    "import numpy as np\n",
    "\n",
    "inp = np.array(['Apple', 'Python', 'NumPy','StudyTonight']) \n",
    "print (\"The original Input array : \\n\", inp) \n",
    "\n",
    "sep = np.array(['^', '+', '*','-']) \n",
    "\n",
    "output= np.char.join(sep, inp) \n",
    "print (\"The Output joined array: \", output) \n"
   ]
  },
  {
   "cell_type": "markdown",
   "metadata": {},
   "source": [
    "### Example 3: Using a separator String\n",
    "\n",
    "In this example, we will use a single separator string for all the string elements of the given array.\n"
   ]
  },
  {
   "cell_type": "code",
   "execution_count": 4,
   "metadata": {},
   "outputs": [
    {
     "name": "stdout",
     "output_type": "stream",
     "text": [
      "The original Input array : \n",
      " ['Apple' 'Python' 'NumPy' 'StudyTonight']\n",
      "The Output joined array:  ['A^^^p^^^p^^^l^^^e' 'P^^^y^^^t^^^h^^^o^^^n' 'N^^^u^^^m^^^P^^^y'\n",
      " 'S^^^t^^^u^^^d^^^y^^^T^^^o^^^n^^^i^^^g^^^h^^^t']\n"
     ]
    }
   ],
   "source": [
    "\n",
    "import numpy as np\n",
    "\n",
    "inp = np.array(['Apple', 'Python', 'NumPy','StudyTonight']) \n",
    "print (\"The original Input array : \\n\", inp) \n",
    "\n",
    "sep = np.array(['^^^']) \n",
    "\n",
    "output= np.char.join(sep, inp) \n",
    "print (\"The Output joined array: \", output) \n"
   ]
  },
  {
   "cell_type": "markdown",
   "metadata": {},
   "source": [
    "# Split"
   ]
  },
  {
   "cell_type": "markdown",
   "metadata": {},
   "source": [
    "### The split() function is used to return a list of strings after breaking the input string by the specified separator(sep).\n",
    "\n",
    "This function usually calls str.split internally on every element of the array.\n",
    "\n",
    "### Syntax of numpy.char.split():\n",
    "The syntax required to use this function is as follows:\n",
    "\n",
    "\tnumpy.char.split(a, sep=None, maxsplit=None)\n",
    "\n",
    "The above syntax indicates that split() function takes two parameters.\n"
   ]
  },
  {
   "cell_type": "markdown",
   "metadata": {},
   "source": [
    "# Parameters:\n",
    "\n",
    "\n",
    "# a\n",
    "This parameter indicates the input string or the input array of strings\n",
    "\n",
    "# sep\n",
    "It can be string or Unicode(single character). If sep is not specified or it is None then by default the whitespace string is used as a separator.\n",
    "\n",
    "# maxsplit\n",
    "It is an integer and If it is given, at most maxsplit splits are done.\n",
    "\n",
    "# Returned Values:\n",
    "\n",
    "This function will return an array of the list of splitted string values as an output.\n"
   ]
  },
  {
   "cell_type": "markdown",
   "metadata": {},
   "source": [
    "### Example 1: With a simple string\n"
   ]
  },
  {
   "cell_type": "code",
   "execution_count": 5,
   "metadata": {},
   "outputs": [
    {
     "name": "stdout",
     "output_type": "stream",
     "text": [
      "The input is :\n",
      " How you doing?\n",
      "after applying split() method output is:\n",
      " ['How', 'you', 'doing?']\n"
     ]
    }
   ],
   "source": [
    "\n",
    "import numpy as np\n",
    "\n",
    "a = \"How you doing?\"\n",
    "print(\"The input is :\\n\",a)\n",
    "\n",
    "y = np.char.split(a)\n",
    "print(\"after applying split() method output is:\\n\",y)\n"
   ]
  },
  {
   "cell_type": "markdown",
   "metadata": {},
   "source": [
    "### Example 2: With maxsplit Parameter\n",
    "\n",
    "#### We will use the maxsplit parameter of the split() function. We will try to split the given string based on comma(,) and you will see although there are 2 commas in the complete string, the string will be split only once, because we have provided the maxsplit parameter value as 1.\n"
   ]
  },
  {
   "cell_type": "code",
   "execution_count": 6,
   "metadata": {},
   "outputs": [
    {
     "name": "stdout",
     "output_type": "stream",
     "text": [
      "The String is:\n",
      " We, very happily, welcome you all!\n",
      "The output is: ['We', ' very happily, welcome you all!']\n"
     ]
    }
   ],
   "source": [
    "\n",
    "import numpy as np\n",
    "\n",
    "x = \"We, very happily, welcome you all!\"\n",
    "print(\"The String is:\\n\", x)\n",
    "\n",
    "out = np.char.split(x, sep=',', maxsplit=1)\n",
    "print(\"The output is:\", out)\n"
   ]
  },
  {
   "cell_type": "markdown",
   "metadata": {},
   "source": [
    "### Example 3: With array of string\n",
    "\n",
    "### We will apply the split() method on an array of strings.\n"
   ]
  },
  {
   "cell_type": "code",
   "execution_count": 7,
   "metadata": {},
   "outputs": [
    {
     "name": "stdout",
     "output_type": "stream",
     "text": [
      "The original Input array : \n",
      " ['Dance-Tonight' 'Sleep-Tonight' 'Walk-Tonight' 'Study-Tonight']\n",
      "The output split array:  [list(['Dance', 'Tonight']) list(['Sleep', 'Tonight'])\n",
      " list(['Walk', 'Tonight']) list(['Study', 'Tonight'])]\n"
     ]
    }
   ],
   "source": [
    "\n",
    "import numpy as np\n",
    "\n",
    "inp = np.array(['Dance-Tonight', 'Sleep-Tonight', 'Walk-Tonight','Study-Tonight']) \n",
    "print (\"The original Input array : \\n\", inp) \n",
    "\n",
    "output= np.char.split(inp, sep='-', maxsplit=1)\n",
    "print (\"The output split array: \", output)\n"
   ]
  },
  {
   "cell_type": "markdown",
   "metadata": {},
   "source": [
    "# Search\n",
    "\n",
    "We can search for a specific value using the numpy.where() method. This method returns the index where the specific element is found.\n"
   ]
  },
  {
   "cell_type": "code",
   "execution_count": 8,
   "metadata": {},
   "outputs": [
    {
     "name": "stdout",
     "output_type": "stream",
     "text": [
      "Iterating array...\n",
      "10\n",
      "20\n",
      "30\n",
      "40\n",
      "50\n",
      "30\n",
      "\n",
      "Element 30 found at following indexes:\n",
      "(array([2, 5], dtype=int64),)\n"
     ]
    }
   ],
   "source": [
    "\n",
    "import numpy as np\n",
    "n = np.array([10, 20, 30, 40, 50, 30])\n",
    "print(\"Iterating array...\")\n",
    "for a in n:\n",
    "    print(a)\n",
    "res = np.where(n == 30)\n",
    "print(\"\\nElement 30 found at following indexes:\")\n",
    "print(res)\n",
    " \n"
   ]
  },
  {
   "cell_type": "markdown",
   "metadata": {},
   "source": [
    "# Sort"
   ]
  },
  {
   "cell_type": "markdown",
   "metadata": {},
   "source": [
    "We require a sorted array for computation. For this purpose, the numpy module of Python provides a function called numpy.sort(). This function gives a sorted copy of the source array or input array.\n",
    "\n",
    "### Syntax:\n",
    "\t    numpy.sort(a, axis=-1, kind='quicksort', order=None)  \n",
    "### Parameters:\n",
    "\t    x: array_like\n",
    "\n",
    "This parameter defines the source array, which is going to be sorted.\n"
   ]
  },
  {
   "cell_type": "markdown",
   "metadata": {},
   "source": [
    "### Example 1:\n"
   ]
  },
  {
   "cell_type": "code",
   "execution_count": 10,
   "metadata": {},
   "outputs": [
    {
     "data": {
      "text/plain": [
       "array([[ 1,  2,  3,  4],\n",
       "       [ 1,  9, 13, 61],\n",
       "       [22, 24, 43, 88]])"
      ]
     },
     "execution_count": 10,
     "metadata": {},
     "output_type": "execute_result"
    }
   ],
   "source": [
    "\n",
    "import numpy as np  \n",
    "x=np.array([[1,4,2,3],[9,13,61,1],[43,24,88,22]])  \n",
    "x  \n",
    "y=np.sort(x)  \n",
    "y \n",
    "\n"
   ]
  },
  {
   "cell_type": "markdown",
   "metadata": {},
   "source": [
    "#### Example 2:\n"
   ]
  },
  {
   "cell_type": "code",
   "execution_count": 9,
   "metadata": {},
   "outputs": [
    {
     "data": {
      "text/plain": [
       "array([ 1,  1,  2,  3,  4,  9, 13, 22, 24, 43, 61, 88])"
      ]
     },
     "execution_count": 9,
     "metadata": {},
     "output_type": "execute_result"
    }
   ],
   "source": [
    "\n",
    "import numpy as np  \n",
    "x=np.array([[1,4,2,3],[9,13,61,1],[43,24,88,22]])  \n",
    "x  \n",
    "y=np.sort(x, axis=None)  \n",
    "y \n"
   ]
  },
  {
   "cell_type": "markdown",
   "metadata": {},
   "source": [
    "### Example 3:\n"
   ]
  },
  {
   "cell_type": "code",
   "execution_count": 11,
   "metadata": {},
   "outputs": [
    {
     "data": {
      "text/plain": [
       "array([[ 1,  2,  3,  4],\n",
       "       [ 1,  9, 13, 61],\n",
       "       [22, 24, 43, 88]])"
      ]
     },
     "execution_count": 11,
     "metadata": {},
     "output_type": "execute_result"
    }
   ],
   "source": [
    "\n",
    "import numpy as np  \n",
    "x=np.array([[1,4,2,3],[9,13,61,1],[43,24,88,22]])  \n",
    "x  \n",
    "y=np.sort(x,axis=0)  \n",
    "y  \n",
    "z=np.sort(x,axis=1)  \n",
    "z \n"
   ]
  },
  {
   "cell_type": "markdown",
   "metadata": {},
   "source": [
    "### Example 4:\n"
   ]
  },
  {
   "cell_type": "code",
   "execution_count": 12,
   "metadata": {},
   "outputs": [
    {
     "data": {
      "text/plain": [
       "array([(b'Arpita', 5.6, 23, b'F'), (b'Shubham', 5.9, 23, b'M'),\n",
       "       (b'Vaishali', 5.2, 30, b'F')],\n",
       "      dtype=[('name', 'S10'), ('height', '<f8'), ('age', '<i4'), ('gender', 'S10')])"
      ]
     },
     "execution_count": 12,
     "metadata": {},
     "output_type": "execute_result"
    }
   ],
   "source": [
    "\n",
    "import numpy as np  \n",
    "dtype = [('name', 'S10'), ('height', float), ('age', int),('gender','S10')]  \n",
    "values = [('Shubham', 5.9, 23, 'M'), ('Arpita', 5.6, 23, 'F'),('Vaishali', 5.2, 30, 'F')]  \n",
    "x=np.array(values, dtype=dtype)  \n",
    "x  \n",
    "y=np.sort(x, order='age')  \n",
    "y  \n",
    "z=np.sort(x, order=['age','height'])  \n",
    "z \n"
   ]
  },
  {
   "cell_type": "markdown",
   "metadata": {},
   "source": [
    "# Filter"
   ]
  },
  {
   "cell_type": "markdown",
   "metadata": {},
   "source": [
    "Getting some elements out of an existing array and creating a new array out of them is called filtering.\n",
    "\n",
    "In NumPy, you filter an array using a boolean index list.\n",
    "\n",
    "A boolean index list is a list of booleans corresponding to indexes in the array.\n",
    "\n",
    "If the value at an index is True that element is contained in the filtered array, if the value at that index is False that element is excluded from the filtered array.\n",
    "\n",
    "### Method 1: Filter Values Based on One Condition\n",
    "\n",
    "### filter for values less than 5\n",
    "\n",
    "my_array[my_array < 5]\n"
   ]
  },
  {
   "cell_type": "markdown",
   "metadata": {},
   "source": [
    "### Method 2: Filter Values Using “OR” Condition\n",
    "\n",
    "### filter for values less than 5 or greater than 9\n",
    "my_array[(my_array < 5) | (my_array > 9)]\n",
    "\n",
    "#### Method 3: Filter Values Using “AND” Condition\n",
    "\n",
    "### filter for values greater than 5 and less than 9\n",
    "my_array[(my_array > 5) & (my_array < 9)]\n",
    "\n",
    "### Method 4: Filter Values Contained in List\n",
    "\n",
    "### filter for values that are equal to 2, 3, 5, or 12\n",
    "my_array[np.in1d(my_array, [2, 3, 5, 12])]\n"
   ]
  },
  {
   "cell_type": "code",
   "execution_count": null,
   "metadata": {},
   "outputs": [],
   "source": []
  }
 ],
 "metadata": {
  "kernelspec": {
   "display_name": "venv",
   "language": "python",
   "name": "python3"
  },
  "language_info": {
   "codemirror_mode": {
    "name": "ipython",
    "version": 3
   },
   "file_extension": ".py",
   "mimetype": "text/x-python",
   "name": "python",
   "nbconvert_exporter": "python",
   "pygments_lexer": "ipython3",
   "version": "3.12.1"
  }
 },
 "nbformat": 4,
 "nbformat_minor": 2
}
